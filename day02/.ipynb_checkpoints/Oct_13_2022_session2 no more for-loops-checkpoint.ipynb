{
 "cells": [
  {
   "cell_type": "markdown",
   "id": "b7f3b186",
   "metadata": {
    "ExecuteTime": {
     "end_time": "2022-10-09T06:37:21.053965Z",
     "start_time": "2022-10-09T06:37:21.052466Z"
    }
   },
   "source": [
    "# Oct_13_2022_session2 no more for-loops\n"
   ]
  },
  {
   "cell_type": "markdown",
   "id": "9b242d56",
   "metadata": {},
   "source": [
    "## Introduction \n",
    "\n",
    "\n",
    "Python have alternative way to the regular cuntions. \n",
    "\n"
   ]
  },
  {
   "cell_type": "markdown",
   "id": "9d788b9c",
   "metadata": {},
   "source": [
    "## Method "
   ]
  },
  {
   "cell_type": "markdown",
   "id": "d263e464",
   "metadata": {},
   "source": [
    "## Slice "
   ]
  },
  {
   "cell_type": "code",
   "execution_count": 46,
   "id": "64cfd191",
   "metadata": {
    "ExecuteTime": {
     "end_time": "2022-10-13T04:16:37.317283Z",
     "start_time": "2022-10-13T04:16:37.312214Z"
    }
   },
   "outputs": [
    {
     "data": {
      "text/plain": [
       "[0, 1, 2, 3, 4, 5, 6, 7, 8, 9, 10]"
      ]
     },
     "execution_count": 46,
     "metadata": {},
     "output_type": "execute_result"
    }
   ],
   "source": [
    "my_elemnets = [i for i in range(10+1)]\n",
    "my_elemnets"
   ]
  },
  {
   "cell_type": "code",
   "execution_count": 51,
   "id": "34806899",
   "metadata": {
    "ExecuteTime": {
     "end_time": "2022-10-13T04:23:47.700847Z",
     "start_time": "2022-10-13T04:23:43.222986Z"
    }
   },
   "outputs": [
    {
     "name": "stdout",
     "output_type": "stream",
     "text": [
      "552 ns ± 2.06 ns per loop (mean ± std. dev. of 7 runs, 1000000 loops each)\n"
     ]
    }
   ],
   "source": [
    "%%timeit\n",
    "for idx, i in enumerate(my_elemnets):\n",
    "    if idx % 2 ==0:\n",
    "#         print(i)\n",
    "        None"
   ]
  },
  {
   "cell_type": "code",
   "execution_count": 52,
   "id": "875b3855",
   "metadata": {
    "ExecuteTime": {
     "end_time": "2022-10-13T04:24:02.446483Z",
     "start_time": "2022-10-13T04:23:52.055015Z"
    }
   },
   "outputs": [
    {
     "name": "stdout",
     "output_type": "stream",
     "text": [
      "128 ns ± 0.357 ns per loop (mean ± std. dev. of 7 runs, 10000000 loops each)\n"
     ]
    }
   ],
   "source": [
    "%%timeit\n",
    "my_elemnets[slice(None,None, 2)]"
   ]
  },
  {
   "cell_type": "markdown",
   "id": "c2cace52",
   "metadata": {},
   "source": [
    "### MAP \n",
    "```python\n",
    "map(function, iterable)\n",
    "\n",
    "########################\n",
    "# Example \n",
    "########################\n",
    "def multiply_2(x): # Regular function \n",
    "    return 2 *x\n",
    "\n",
    "input_list = [1,2] # iterable\n",
    "\n",
    "print(list(map(multiply_2, input_list)))\n",
    ">> [2,4]\n",
    "```"
   ]
  },
  {
   "cell_type": "markdown",
   "id": "1d32c6a5",
   "metadata": {},
   "source": [
    "### filter \n",
    "\n",
    "```python\n",
    "filter(function,iterable)\n",
    "\n",
    "########################\n",
    "# Example \n",
    "########################\n",
    "def less_than_10(x): # Regular function \n",
    "    if x<10: \n",
    "        return x\n",
    "    \n",
    "input_list = [1,20] # iterable\n",
    "\n",
    "\n",
    "print(list(filter(less_than_10, input_list)))\n",
    ">> [1]\n",
    "```"
   ]
  },
  {
   "cell_type": "markdown",
   "id": "6fe503a1",
   "metadata": {},
   "source": [
    "### Reduce \n",
    "\n",
    "\n",
    "```python\n",
    "from functools import reduce\n",
    "reduce(function,iterable, initial) \n",
    "\n",
    "########################\n",
    "# Example \n",
    "########################\n",
    "def add_up(x,y): # Regular function  \n",
    "    return x+y \n",
    "    \n",
    "input_list = [1,2,3,4,5] # iterable\n",
    "\n",
    "print(reduce(add_up, input_list))\n",
    ">> 15\n",
    "\n",
    "```"
   ]
  },
  {
   "cell_type": "markdown",
   "id": "8bbf5d8b",
   "metadata": {},
   "source": [
    "## Experiments "
   ]
  },
  {
   "cell_type": "code",
   "execution_count": 12,
   "id": "093a55b1",
   "metadata": {
    "ExecuteTime": {
     "end_time": "2022-10-09T07:41:22.513325Z",
     "start_time": "2022-10-09T07:41:22.506903Z"
    }
   },
   "outputs": [],
   "source": [
    "################\n",
    "# import \n",
    "###############\n",
    "from time import time\n",
    "from functools import reduce\n",
    "\n",
    "from utils import logging_time\n"
   ]
  },
  {
   "cell_type": "code",
   "execution_count": 22,
   "id": "4eb83300",
   "metadata": {
    "ExecuteTime": {
     "end_time": "2022-10-13T03:57:31.942945Z",
     "start_time": "2022-10-13T03:57:31.940381Z"
    }
   },
   "outputs": [],
   "source": [
    "# Reduce \n",
    "@logging_time\n",
    "def total_apply_regular(numbers):\n",
    "    total = 1\n",
    "    for num in numbers:\n",
    "        total *= num\n",
    "    return None \n",
    "\n",
    "\n",
    "@logging_time \n",
    "def total_apply_reduce(numbers):\n",
    "    reduce(lambda x,y: x*y, numbers)\n",
    "    return None "
   ]
  },
  {
   "cell_type": "code",
   "execution_count": 23,
   "id": "c3b6e622",
   "metadata": {
    "ExecuteTime": {
     "end_time": "2022-10-13T03:57:32.319747Z",
     "start_time": "2022-10-13T03:57:32.261760Z"
    },
    "scrolled": true
   },
   "outputs": [
    {
     "name": "stdout",
     "output_type": "stream",
     "text": [
      "WorkingTime [total_apply_regular]: 0.04 sec\n",
      "WorkingTime [total_apply_reduce]: 0.02 sec\n"
     ]
    }
   ],
   "source": [
    "numbers = [i for i in range(1,10_000)]\n",
    "\n",
    "total_apply_regular(numbers)\n",
    "total_apply_reduce(numbers)"
   ]
  },
  {
   "cell_type": "markdown",
   "id": "40928903",
   "metadata": {},
   "source": [
    "## Conclusion \n"
   ]
  },
  {
   "cell_type": "markdown",
   "id": "1bdcfe06",
   "metadata": {},
   "source": [
    "## Reference \n",
    "\n",
    "- https://realpython.com/python-reduce-function/\n"
   ]
  }
 ],
 "metadata": {
  "hide_input": false,
  "kernelspec": {
   "display_name": "Python 3",
   "language": "python",
   "name": "python3"
  },
  "language_info": {
   "codemirror_mode": {
    "name": "ipython",
    "version": 3
   },
   "file_extension": ".py",
   "mimetype": "text/x-python",
   "name": "python",
   "nbconvert_exporter": "python",
   "pygments_lexer": "ipython3",
   "version": "3.6.13"
  },
  "toc": {
   "base_numbering": 1,
   "nav_menu": {},
   "number_sections": true,
   "sideBar": true,
   "skip_h1_title": false,
   "title_cell": "Table of Contents",
   "title_sidebar": "Contents",
   "toc_cell": false,
   "toc_position": {},
   "toc_section_display": true,
   "toc_window_display": false
  },
  "varInspector": {
   "cols": {
    "lenName": 16,
    "lenType": 16,
    "lenVar": 40
   },
   "kernels_config": {
    "python": {
     "delete_cmd_postfix": "",
     "delete_cmd_prefix": "del ",
     "library": "var_list.py",
     "varRefreshCmd": "print(var_dic_list())"
    },
    "r": {
     "delete_cmd_postfix": ") ",
     "delete_cmd_prefix": "rm(",
     "library": "var_list.r",
     "varRefreshCmd": "cat(var_dic_list()) "
    }
   },
   "types_to_exclude": [
    "module",
    "function",
    "builtin_function_or_method",
    "instance",
    "_Feature"
   ],
   "window_display": false
  }
 },
 "nbformat": 4,
 "nbformat_minor": 5
}
