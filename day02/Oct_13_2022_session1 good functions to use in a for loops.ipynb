{
 "cells": [
  {
   "cell_type": "markdown",
   "id": "038790d8",
   "metadata": {},
   "source": [
    "# Oct_13_2022_session1 good functions to use in a for loops"
   ]
  },
  {
   "cell_type": "markdown",
   "id": "4760c9cf",
   "metadata": {},
   "source": [
    "Table of Contents## Table of Contents\n",
    "\n",
    "<div class=\"toc\"><ul class=\"toc-item\"><li><span><a href=\"#Introduction\" data-toc-modified-id=\"Introduction-1\"><span class=\"toc-item-num\">1&nbsp;&nbsp;</span>Introduction</a></span><ul class=\"toc-item\"><li><span><a href=\"#Time-complexity\" data-toc-modified-id=\"Time-complexity-1.1\"><span class=\"toc-item-num\">1.1&nbsp;&nbsp;</span>Time complexity</a></span></li><li><span><a href=\"#Big-O-of-a-loop\" data-toc-modified-id=\"Big-O-of-a-loop-1.2\"><span class=\"toc-item-num\">1.2&nbsp;&nbsp;</span>Big O of a loop</a></span></li></ul></li><li><span><a href=\"#Method\" data-toc-modified-id=\"Method-2\"><span class=\"toc-item-num\">2&nbsp;&nbsp;</span>Method</a></span><ul class=\"toc-item\"><li><span><a href=\"#zip\" data-toc-modified-id=\"zip-2.1\"><span class=\"toc-item-num\">2.1&nbsp;&nbsp;</span>zip</a></span></li><li><span><a href=\"#enumerate\" data-toc-modified-id=\"enumerate-2.2\"><span class=\"toc-item-num\">2.2&nbsp;&nbsp;</span>enumerate</a></span></li><li><span><a href=\"#itertools\" data-toc-modified-id=\"itertools-2.3\"><span class=\"toc-item-num\">2.3&nbsp;&nbsp;</span>itertools</a></span></li></ul></li><li><span><a href=\"#What-if-the-length-is-not-exactly-match-?\" data-toc-modified-id=\"What-if-the-length-is-not-exactly-match-?-3\"><span class=\"toc-item-num\">3&nbsp;&nbsp;</span>What if the length is not exactly match ?</a></span></li><li><span><a href=\"#Experiemnts\" data-toc-modified-id=\"Experiemnts-4\"><span class=\"toc-item-num\">4&nbsp;&nbsp;</span>Experiemnts</a></span></li><li><span><a href=\"#Practice\" data-toc-modified-id=\"Practice-5\"><span class=\"toc-item-num\">5&nbsp;&nbsp;</span>Practice</a></span></li><li><span><a href=\"#Reference\" data-toc-modified-id=\"Reference-6\"><span class=\"toc-item-num\">6&nbsp;&nbsp;</span>Reference</a></span></li></ul></div>"
   ]
  },
  {
   "cell_type": "markdown",
   "id": "fc004508",
   "metadata": {},
   "source": [
    "## Introduction\n",
    "\n",
    "\n",
    "\n",
    "\n",
    "\n",
    "### Time complexity\n",
    "measure the time or space complexity of an algorithm.\n",
    "\n",
    "In computer science, `Big-O` is a standard mathematical notation that is used to measure the efficiency of an algorithm, we need to measure the two things:\n",
    "\n",
    "- **Time complexity**: How much time is needed to run an algorithm?\n",
    "- **Space Complexity**: How much space is needed to run an algorithm?\n",
    "\n",
    "\n",
    "<img src='https://droidtechknow.com/programming/algorithms/big-o-notation/images/big-o-notation.jpg' width=50%>\n",
    "\n",
    "\n",
    "\n",
    "\n",
    "\n",
    "$O(n)$ means the loops time complexity increases linearly with the number of elements.\n",
    "\n",
    "\n",
    "### Big O of a loop\n",
    "$O(n)$ is used to messure the loop agains a mathematical funciton (like $n^2$, $n^m$,..).\n",
    "\n",
    "\n",
    "The best describing math function the loops takes is calculated with $O(n)$ (where n is a number between $ 0 ... \\infty$)\n",
    "\n",
    "If you have a loop like this\n",
    "\n",
    "```python\n",
    "     for(int i =0 ; i< n*2; i++) {\n",
    "\n",
    "     }\n",
    "```\n",
    "Means it will took $O(n^2)$; math function = $n^2$\n",
    "```python\n",
    "\n",
    "    for(int i = 0; i < n; i++) {\n",
    "         for(int j = 0; j < n; j++) {\n",
    "\n",
    "         }\n",
    "    }\n",
    "```"
   ]
  },
  {
   "cell_type": "markdown",
   "id": "e7b17a10",
   "metadata": {},
   "source": [
    "## Method "
   ]
  },
  {
   "cell_type": "markdown",
   "id": "d28730ce",
   "metadata": {},
   "source": [
    "### zip "
   ]
  },
  {
   "cell_type": "code",
   "execution_count": 1,
   "id": "a2f49ff9",
   "metadata": {
    "ExecuteTime": {
     "end_time": "2022-10-13T03:44:05.630141Z",
     "start_time": "2022-10-13T03:44:05.626336Z"
    }
   },
   "outputs": [
    {
     "name": "stdout",
     "output_type": "stream",
     "text": [
      "(1, 'A')\n",
      "(2, 'B')\n",
      "(3, 'C')\n"
     ]
    }
   ],
   "source": [
    "numbers = [1, 2, 3]\n",
    "letters = [\"A\", \"B\", \"C\"]\n",
    "for pair in zip(numbers, letters):\n",
    "     print(pair)\n"
   ]
  },
  {
   "cell_type": "markdown",
   "id": "97e8885c",
   "metadata": {},
   "source": [
    "### enumerate"
   ]
  },
  {
   "cell_type": "code",
   "execution_count": 5,
   "id": "503778a7",
   "metadata": {
    "ExecuteTime": {
     "end_time": "2022-10-13T03:44:50.116325Z",
     "start_time": "2022-10-13T03:44:50.113895Z"
    }
   },
   "outputs": [
    {
     "name": "stdout",
     "output_type": "stream",
     "text": [
      "0 A\n",
      "1 B\n",
      "2 C\n"
     ]
    }
   ],
   "source": [
    "numbers = [1, 2, 3]\n",
    "letters = [\"A\", \"B\", \"C\"]\n",
    "for idx,pair in enumerate(letters):\n",
    "     print(idx,pair)\n"
   ]
  },
  {
   "cell_type": "code",
   "execution_count": 4,
   "id": "1795167b",
   "metadata": {
    "ExecuteTime": {
     "end_time": "2022-10-13T03:44:44.196865Z",
     "start_time": "2022-10-13T03:44:44.194258Z"
    }
   },
   "outputs": [
    {
     "name": "stdout",
     "output_type": "stream",
     "text": [
      "1 A\n",
      "2 B\n",
      "3 C\n"
     ]
    }
   ],
   "source": [
    "numbers = [1, 2, 3]\n",
    "letters = [\"A\", \"B\", \"C\"]\n",
    "for idx,pair in enumerate(letters,1):\n",
    "     print(idx,pair)\n"
   ]
  },
  {
   "cell_type": "markdown",
   "id": "01c86a79",
   "metadata": {},
   "source": [
    "### itertools\n",
    "```python\n",
    "from itertools import (\n",
    "   product, \n",
    "   combinations, \n",
    "   permutations,\n",
    "   combinations_with_replacement, \n",
    "   cycle\n",
    ")\n",
    "```"
   ]
  },
  {
   "cell_type": "code",
   "execution_count": 7,
   "id": "fb07c8b7",
   "metadata": {
    "ExecuteTime": {
     "end_time": "2022-10-13T03:49:42.360743Z",
     "start_time": "2022-10-13T03:49:42.357123Z"
    }
   },
   "outputs": [
    {
     "name": "stdout",
     "output_type": "stream",
     "text": [
      "1 a\n",
      "1 b\n",
      "1 c\n",
      "1 d\n",
      "2 a\n",
      "2 b\n",
      "2 c\n",
      "2 d\n",
      "3 a\n",
      "3 b\n",
      "3 c\n",
      "3 d\n",
      "4 a\n",
      "4 b\n",
      "4 c\n",
      "4 d\n",
      "5 a\n",
      "5 b\n",
      "5 c\n",
      "5 d\n"
     ]
    }
   ],
   "source": [
    "from itertools import product\n",
    "\n",
    "nums = [1,2,3,4,5]\n",
    "alphabets = ['a','b','c','d']\n",
    "\n",
    "for num, alphabet in product(nums, alphabets):\n",
    "    print(num, alphabet)"
   ]
  },
  {
   "cell_type": "code",
   "execution_count": 9,
   "id": "d19ba3b5",
   "metadata": {
    "ExecuteTime": {
     "end_time": "2022-10-13T03:49:45.176259Z",
     "start_time": "2022-10-13T03:49:45.171104Z"
    }
   },
   "outputs": [
    {
     "data": {
      "text/plain": [
       "[(1, 2),\n",
       " (1, 3),\n",
       " (1, 4),\n",
       " (1, 5),\n",
       " (2, 3),\n",
       " (2, 4),\n",
       " (2, 5),\n",
       " (3, 4),\n",
       " (3, 5),\n",
       " (4, 5)]"
      ]
     },
     "execution_count": 9,
     "metadata": {},
     "output_type": "execute_result"
    }
   ],
   "source": [
    "from itertools import combinations\n",
    "# a = [1,2,3]\n",
    "combi = combinations(nums,2)\n",
    "list(combi)"
   ]
  },
  {
   "cell_type": "code",
   "execution_count": 8,
   "id": "bedae6c2",
   "metadata": {
    "ExecuteTime": {
     "end_time": "2022-10-09T05:27:12.514410Z",
     "start_time": "2022-10-09T05:27:12.497025Z"
    }
   },
   "outputs": [
    {
     "name": "stdout",
     "output_type": "stream",
     "text": [
      "[(1, 2), (1, 3), (1, 4), (1, 5), (2, 1), (2, 3), (2, 4), (2, 5), (3, 1), (3, 2), (3, 4), (3, 5), (4, 1), (4, 2), (4, 3), (4, 5), (5, 1), (5, 2), (5, 3), (5, 4)]\n"
     ]
    }
   ],
   "source": [
    "from itertools import permutations\n",
    "\n",
    "permute = permutations(nums,2)\n",
    "print(list(permute))"
   ]
  },
  {
   "cell_type": "code",
   "execution_count": 9,
   "id": "30551659",
   "metadata": {
    "ExecuteTime": {
     "end_time": "2022-10-09T05:28:39.762398Z",
     "start_time": "2022-10-09T05:28:39.758681Z"
    }
   },
   "outputs": [
    {
     "name": "stdout",
     "output_type": "stream",
     "text": [
      "1 a\n",
      "2 b\n",
      "3 c\n",
      "4 d\n"
     ]
    }
   ],
   "source": [
    "for num, alphabet in zip(nums, alphabets):\n",
    "    print(num, alphabet)"
   ]
  },
  {
   "cell_type": "markdown",
   "id": "64d663fb",
   "metadata": {},
   "source": [
    "## What if the length is not exactly match ? "
   ]
  },
  {
   "cell_type": "code",
   "execution_count": 25,
   "id": "8e7a440b",
   "metadata": {
    "ExecuteTime": {
     "end_time": "2022-10-09T06:18:59.498806Z",
     "start_time": "2022-10-09T06:18:59.496086Z"
    }
   },
   "outputs": [
    {
     "name": "stdout",
     "output_type": "stream",
     "text": [
      "1 a\n",
      "2 b\n",
      "3 c\n",
      "4 d\n",
      "1 e\n",
      "2 f\n",
      "3 g\n"
     ]
    }
   ],
   "source": [
    "import itertools\n",
    "list1 = [1,2,3,4]\n",
    "list2 = ['a','b','c','d','e','f','g']\n",
    "for list1_item , list2_item in zip(itertools.cycle(list1) , list2) :  \n",
    "    print((list1_item),list2_item)"
   ]
  },
  {
   "cell_type": "markdown",
   "id": "5d151379",
   "metadata": {},
   "source": [
    "## Experiemnts "
   ]
  },
  {
   "cell_type": "code",
   "execution_count": 33,
   "id": "95b26e92",
   "metadata": {
    "ExecuteTime": {
     "end_time": "2022-10-09T07:46:30.274612Z",
     "start_time": "2022-10-09T07:46:30.263961Z"
    }
   },
   "outputs": [
    {
     "name": "stdout",
     "output_type": "stream",
     "text": [
      "--------------------------------------------------\n",
      "\n",
      "MUTAG - GraphSAGE\n",
      "1 16\n",
      "1 32\n",
      "1 64\n",
      "2 16\n",
      "2 32\n",
      "2 64\n",
      "3 16\n",
      "3 32\n",
      "3 64\n",
      "--------------------------------------------------\n",
      "\n",
      "MUTAG - SAGPool\n",
      "1 16\n",
      "1 32\n",
      "1 64\n",
      "2 16\n",
      "2 32\n",
      "2 64\n",
      "3 16\n",
      "3 32\n",
      "3 64\n",
      "--------------------------------------------------\n",
      "\n",
      "MUTAG - GCN\n",
      "1 16\n",
      "1 32\n",
      "1 64\n",
      "2 16\n",
      "2 32\n",
      "2 64\n",
      "3 16\n",
      "3 32\n",
      "3 64\n",
      "--------------------------------------------------\n",
      "\n",
      "MUTAG - GlobalAttentionNet\n",
      "1 16\n",
      "1 32\n",
      "1 64\n",
      "2 16\n",
      "2 32\n",
      "2 64\n",
      "3 16\n",
      "3 32\n",
      "3 64\n",
      "--------------------------------------------------\n",
      "\n",
      "PROTEINS - GraphSAGE\n",
      "1 16\n",
      "1 32\n",
      "1 64\n",
      "2 16\n",
      "2 32\n",
      "2 64\n",
      "3 16\n",
      "3 32\n",
      "3 64\n",
      "--------------------------------------------------\n",
      "\n",
      "PROTEINS - SAGPool\n",
      "1 16\n",
      "1 32\n",
      "1 64\n",
      "2 16\n",
      "2 32\n",
      "2 64\n",
      "3 16\n",
      "3 32\n",
      "3 64\n",
      "--------------------------------------------------\n",
      "\n",
      "PROTEINS - GCN\n",
      "1 16\n",
      "1 32\n",
      "1 64\n",
      "2 16\n",
      "2 32\n",
      "2 64\n",
      "3 16\n",
      "3 32\n",
      "3 64\n",
      "--------------------------------------------------\n",
      "\n",
      "PROTEINS - GlobalAttentionNet\n",
      "1 16\n",
      "1 32\n",
      "1 64\n",
      "2 16\n",
      "2 32\n",
      "2 64\n",
      "3 16\n",
      "3 32\n",
      "3 64\n"
     ]
    }
   ],
   "source": [
    "layers = [1, 2, 3]\n",
    "hiddens = [16, 32, 64]\n",
    "datasets = ['MUTAG', 'PROTEINS']\n",
    "nets = [\n",
    "    'GraphSAGE',\n",
    "    'SAGPool',\n",
    "    'GCN',\n",
    "    'GlobalAttentionNet',\n",
    "]\n",
    "\n",
    "for dataset_name, a in product(datasets, nets):\n",
    "    print('-'*50)\n",
    "    print(f'\\n{dataset_name} - {a}')\n",
    "    for num_layers, hidden in product(layers, hiddens):\n",
    "        print(num_layers, hidden)"
   ]
  },
  {
   "cell_type": "markdown",
   "id": "ee6130d8",
   "metadata": {},
   "source": [
    "## Practice \n",
    "https://school.programmers.co.kr/learn/courses/30/lessons/42890\n"
   ]
  },
  {
   "cell_type": "markdown",
   "id": "8eee8c2d",
   "metadata": {},
   "source": [
    "## Reference \n",
    "\n",
    "- https://droidtechknow.com/programming/algorithms/big-o-notation/"
   ]
  }
 ],
 "metadata": {
  "hide_input": false,
  "kernelspec": {
   "display_name": "Python 3",
   "language": "python",
   "name": "python3"
  },
  "language_info": {
   "codemirror_mode": {
    "name": "ipython",
    "version": 3
   },
   "file_extension": ".py",
   "mimetype": "text/x-python",
   "name": "python",
   "nbconvert_exporter": "python",
   "pygments_lexer": "ipython3",
   "version": "3.6.13"
  },
  "toc": {
   "base_numbering": 1,
   "nav_menu": {},
   "number_sections": true,
   "sideBar": true,
   "skip_h1_title": true,
   "title_cell": "Table of Contents",
   "title_sidebar": "Contents",
   "toc_cell": false,
   "toc_position": {
    "height": "calc(100% - 180px)",
    "left": "10px",
    "top": "150px",
    "width": "235.594px"
   },
   "toc_section_display": true,
   "toc_window_display": true
  },
  "varInspector": {
   "cols": {
    "lenName": 16,
    "lenType": 16,
    "lenVar": 40
   },
   "kernels_config": {
    "python": {
     "delete_cmd_postfix": "",
     "delete_cmd_prefix": "del ",
     "library": "var_list.py",
     "varRefreshCmd": "print(var_dic_list())"
    },
    "r": {
     "delete_cmd_postfix": ") ",
     "delete_cmd_prefix": "rm(",
     "library": "var_list.r",
     "varRefreshCmd": "cat(var_dic_list()) "
    }
   },
   "types_to_exclude": [
    "module",
    "function",
    "builtin_function_or_method",
    "instance",
    "_Feature"
   ],
   "window_display": false
  }
 },
 "nbformat": 4,
 "nbformat_minor": 5
}
