{
 "cells": [
  {
   "cell_type": "markdown",
   "id": "ac2dc224",
   "metadata": {},
   "source": [
    "## 앙상블 방법 \n",
    "\n",
    "> refer. https://justweon-dev.tistory.com/m/23\n",
    "https://www.linkedin.com/pulse/bootstrapping-bagging-boosting-younes-sandi\n",
    "\n",
    "\n",
    "r2_score reference: https://www.linkedin.com/pulse/reducible-irreducible-error-rambaksh-prajapati?trk=pulse-article\n",
    "r2_score code: https://stackoverflow.com/questions/49381661/how-do-i-calculate-the-adjusted-r-squared-score-using-scikit-learn\n",
    "\n",
    "\n",
    "- voting \n",
    "- bootstrap(Bootstrap aggregating, 줄여서는 Bagging): 원래 데이터 셋에서 임의로 데이터들을 골라서 새로운 데이터들을 만듭니다.\n",
    "이 때, 그냥 조금 다른 새로운 데이터 셋을 만드는 것이 목적이므로 중복은 신경쓰지 않습니다.\n",
    "- "
   ]
  },
  {
   "cell_type": "code",
   "execution_count": null,
   "id": "49d131e1",
   "metadata": {},
   "outputs": [],
   "source": []
  },
  {
   "cell_type": "code",
   "execution_count": null,
   "id": "6673774a",
   "metadata": {},
   "outputs": [],
   "source": []
  },
  {
   "cell_type": "code",
   "execution_count": 2,
   "id": "180247dd",
   "metadata": {
    "ExecuteTime": {
     "end_time": "2022-10-18T07:16:19.845864Z",
     "start_time": "2022-10-18T07:16:07.541360Z"
    },
    "scrolled": true
   },
   "outputs": [
    {
     "name": "stdout",
     "output_type": "stream",
     "text": [
      "Collecting chime\n",
      "  Downloading chime-0.5.3-py3-none-any.whl (3.0 MB)\n",
      "\u001b[K     |████████████████████████████████| 3.0 MB 13.1 MB/s eta 0:00:01\n",
      "\u001b[?25hInstalling collected packages: chime\n",
      "Successfully installed chime-0.5.3\n"
     ]
    }
   ],
   "source": [
    "!pip install chime"
   ]
  },
  {
   "cell_type": "code",
   "execution_count": 16,
   "id": "3cce051b",
   "metadata": {
    "ExecuteTime": {
     "end_time": "2022-10-18T07:32:01.745702Z",
     "start_time": "2022-10-18T07:32:01.739166Z"
    }
   },
   "outputs": [],
   "source": [
    "from dataclasses import dataclass\n",
    "\n",
    "\n",
    "@dataclass\n",
    "class DataClassDog:\n",
    "    color: str\n",
    "    age: int"
   ]
  },
  {
   "cell_type": "code",
   "execution_count": 18,
   "id": "957cf4e8",
   "metadata": {
    "ExecuteTime": {
     "end_time": "2022-10-18T07:32:14.242520Z",
     "start_time": "2022-10-18T07:32:14.240796Z"
    }
   },
   "outputs": [],
   "source": [
    "dog = DataClassDog(color=\"black\", age=9)"
   ]
  },
  {
   "cell_type": "code",
   "execution_count": 19,
   "id": "156a1b1f",
   "metadata": {
    "ExecuteTime": {
     "end_time": "2022-10-18T07:32:16.844828Z",
     "start_time": "2022-10-18T07:32:16.836517Z"
    }
   },
   "outputs": [
    {
     "data": {
      "text/plain": [
       "DataClassDog(color='black', age=9)"
      ]
     },
     "execution_count": 19,
     "metadata": {},
     "output_type": "execute_result"
    }
   ],
   "source": [
    "dog"
   ]
  },
  {
   "cell_type": "code",
   "execution_count": 3,
   "id": "6a0b7764",
   "metadata": {
    "ExecuteTime": {
     "end_time": "2022-10-18T07:16:23.581008Z",
     "start_time": "2022-10-18T07:16:23.572342Z"
    }
   },
   "outputs": [],
   "source": [
    "import chime"
   ]
  },
  {
   "cell_type": "code",
   "execution_count": 13,
   "id": "ab7de2ef",
   "metadata": {
    "ExecuteTime": {
     "end_time": "2022-10-18T07:17:00.899229Z",
     "start_time": "2022-10-18T07:17:00.892566Z"
    }
   },
   "outputs": [
    {
     "name": "stdout",
     "output_type": "stream",
     "text": [
      "You can't divide a number by 0!\n"
     ]
    }
   ],
   "source": [
    "a = 0\n",
    "try:\n",
    "    b = 2/a  \n",
    "except ZeroDivisionError:\n",
    "    print(\"You can't divide a number by 0!\")\n",
    "    chime.info()"
   ]
  },
  {
   "cell_type": "code",
   "execution_count": 14,
   "id": "0754a245",
   "metadata": {
    "ExecuteTime": {
     "end_time": "2022-10-18T07:17:50.400161Z",
     "start_time": "2022-10-18T07:17:50.373407Z"
    }
   },
   "outputs": [
    {
     "data": {
      "text/plain": [
       "True"
      ]
     },
     "execution_count": 14,
     "metadata": {},
     "output_type": "execute_result"
    }
   ],
   "source": [
    "import webbrowser\n",
    "\n",
    "webbrowser.open_new(\"https://mathdatasimplified.com/\")"
   ]
  },
  {
   "cell_type": "code",
   "execution_count": 15,
   "id": "1b82f3af",
   "metadata": {
    "ExecuteTime": {
     "end_time": "2022-10-18T07:28:32.181742Z",
     "start_time": "2022-10-18T07:28:32.163859Z"
    }
   },
   "outputs": [
    {
     "name": "stderr",
     "output_type": "stream",
     "text": [
      "/home/hoesungryu/anaconda3/envs/torch/lib/python3.6/site-packages/IPython/core/display.py:717: UserWarning: Consider using IPython.display.IFrame instead\n",
      "  warnings.warn(\"Consider using IPython.display.IFrame instead\")\n"
     ]
    },
    {
     "data": {
      "text/html": [
       "<iframe width=\"560\" height=\"315\" src=\"https://www.youtube.com/embed/03vtzKflwzI\" title=\"YouTube video player\" frameborder=\"0\" allow=\"accelerometer; autoplay; clipboard-write; encrypted-media; gyroscope; picture-in-picture\" allowfullscreen></iframe>"
      ],
      "text/plain": [
       "<IPython.core.display.HTML object>"
      ]
     },
     "execution_count": 15,
     "metadata": {},
     "output_type": "execute_result"
    }
   ],
   "source": [
    "from IPython.display import HTML\n",
    "\n",
    "# Youtube\n",
    "\n",
    "HTML('<iframe width=\"560\" height=\"315\" src=\"https://www.youtube.com/embed/03vtzKflwzI\" title=\"YouTube video player\" frameborder=\"0\" allow=\"accelerometer; autoplay; clipboard-write; encrypted-media; gyroscope; picture-in-picture\" allowfullscreen></iframe>')"
   ]
  },
  {
   "cell_type": "code",
   "execution_count": null,
   "id": "09a02338",
   "metadata": {},
   "outputs": [],
   "source": []
  }
 ],
 "metadata": {
  "hide_input": false,
  "kernelspec": {
   "display_name": "Python 3",
   "language": "python",
   "name": "python3"
  },
  "language_info": {
   "codemirror_mode": {
    "name": "ipython",
    "version": 3
   },
   "file_extension": ".py",
   "mimetype": "text/x-python",
   "name": "python",
   "nbconvert_exporter": "python",
   "pygments_lexer": "ipython3",
   "version": "3.6.13"
  },
  "toc": {
   "base_numbering": 1,
   "nav_menu": {},
   "number_sections": true,
   "sideBar": true,
   "skip_h1_title": false,
   "title_cell": "Table of Contents",
   "title_sidebar": "Contents",
   "toc_cell": false,
   "toc_position": {},
   "toc_section_display": true,
   "toc_window_display": false
  },
  "varInspector": {
   "cols": {
    "lenName": 16,
    "lenType": 16,
    "lenVar": 40
   },
   "kernels_config": {
    "python": {
     "delete_cmd_postfix": "",
     "delete_cmd_prefix": "del ",
     "library": "var_list.py",
     "varRefreshCmd": "print(var_dic_list())"
    },
    "r": {
     "delete_cmd_postfix": ") ",
     "delete_cmd_prefix": "rm(",
     "library": "var_list.r",
     "varRefreshCmd": "cat(var_dic_list()) "
    }
   },
   "types_to_exclude": [
    "module",
    "function",
    "builtin_function_or_method",
    "instance",
    "_Feature"
   ],
   "window_display": false
  }
 },
 "nbformat": 4,
 "nbformat_minor": 5
}
