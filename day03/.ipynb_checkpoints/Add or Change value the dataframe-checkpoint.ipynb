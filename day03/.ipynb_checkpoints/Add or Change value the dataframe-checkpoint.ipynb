{
 "cells": [
  {
   "cell_type": "markdown",
   "id": "33f96f91",
   "metadata": {},
   "source": [
    "## Reshape the dataframe\n",
    "\n",
    "https://medium.com/towards-data-science/reshaping-a-pandas-dataframe-long-to-wide-and-vice-versa-517c7f0995ad"
   ]
  },
  {
   "cell_type": "markdown",
   "id": "1a6ae772",
   "metadata": {},
   "source": [
    "- Vectorization {numpy}\n",
    "- Vectorization {pandas}\n",
    "- pd.df.apply() {using lambda function}\n",
    "- pd.df.iterrows()\n",
    "- Basic Looping {Mostly Never}"
   ]
  },
  {
   "cell_type": "code",
   "execution_count": 2,
   "id": "9181a967",
   "metadata": {
    "ExecuteTime": {
     "end_time": "2022-10-19T05:51:12.210808Z",
     "start_time": "2022-10-19T05:51:11.644734Z"
    }
   },
   "outputs": [
    {
     "data": {
      "text/html": [
       "<div>\n",
       "<style scoped>\n",
       "    .dataframe tbody tr th:only-of-type {\n",
       "        vertical-align: middle;\n",
       "    }\n",
       "\n",
       "    .dataframe tbody tr th {\n",
       "        vertical-align: top;\n",
       "    }\n",
       "\n",
       "    .dataframe thead th {\n",
       "        text-align: right;\n",
       "    }\n",
       "</style>\n",
       "<table border=\"1\" class=\"dataframe\">\n",
       "  <thead>\n",
       "    <tr style=\"text-align: right;\">\n",
       "      <th></th>\n",
       "      <th>survived</th>\n",
       "      <th>pclass</th>\n",
       "      <th>sex</th>\n",
       "      <th>age</th>\n",
       "      <th>sibsp</th>\n",
       "      <th>parch</th>\n",
       "      <th>fare</th>\n",
       "      <th>embarked</th>\n",
       "      <th>class</th>\n",
       "      <th>who</th>\n",
       "      <th>adult_male</th>\n",
       "      <th>deck</th>\n",
       "      <th>embark_town</th>\n",
       "      <th>alive</th>\n",
       "      <th>alone</th>\n",
       "    </tr>\n",
       "  </thead>\n",
       "  <tbody>\n",
       "    <tr>\n",
       "      <th>0</th>\n",
       "      <td>0</td>\n",
       "      <td>3</td>\n",
       "      <td>male</td>\n",
       "      <td>22.0</td>\n",
       "      <td>1</td>\n",
       "      <td>0</td>\n",
       "      <td>7.2500</td>\n",
       "      <td>S</td>\n",
       "      <td>Third</td>\n",
       "      <td>man</td>\n",
       "      <td>True</td>\n",
       "      <td>NaN</td>\n",
       "      <td>Southampton</td>\n",
       "      <td>no</td>\n",
       "      <td>False</td>\n",
       "    </tr>\n",
       "    <tr>\n",
       "      <th>1</th>\n",
       "      <td>1</td>\n",
       "      <td>1</td>\n",
       "      <td>female</td>\n",
       "      <td>38.0</td>\n",
       "      <td>1</td>\n",
       "      <td>0</td>\n",
       "      <td>71.2833</td>\n",
       "      <td>C</td>\n",
       "      <td>First</td>\n",
       "      <td>woman</td>\n",
       "      <td>False</td>\n",
       "      <td>C</td>\n",
       "      <td>Cherbourg</td>\n",
       "      <td>yes</td>\n",
       "      <td>False</td>\n",
       "    </tr>\n",
       "    <tr>\n",
       "      <th>2</th>\n",
       "      <td>1</td>\n",
       "      <td>3</td>\n",
       "      <td>female</td>\n",
       "      <td>26.0</td>\n",
       "      <td>0</td>\n",
       "      <td>0</td>\n",
       "      <td>7.9250</td>\n",
       "      <td>S</td>\n",
       "      <td>Third</td>\n",
       "      <td>woman</td>\n",
       "      <td>False</td>\n",
       "      <td>NaN</td>\n",
       "      <td>Southampton</td>\n",
       "      <td>yes</td>\n",
       "      <td>True</td>\n",
       "    </tr>\n",
       "    <tr>\n",
       "      <th>3</th>\n",
       "      <td>1</td>\n",
       "      <td>1</td>\n",
       "      <td>female</td>\n",
       "      <td>35.0</td>\n",
       "      <td>1</td>\n",
       "      <td>0</td>\n",
       "      <td>53.1000</td>\n",
       "      <td>S</td>\n",
       "      <td>First</td>\n",
       "      <td>woman</td>\n",
       "      <td>False</td>\n",
       "      <td>C</td>\n",
       "      <td>Southampton</td>\n",
       "      <td>yes</td>\n",
       "      <td>False</td>\n",
       "    </tr>\n",
       "    <tr>\n",
       "      <th>4</th>\n",
       "      <td>0</td>\n",
       "      <td>3</td>\n",
       "      <td>male</td>\n",
       "      <td>35.0</td>\n",
       "      <td>0</td>\n",
       "      <td>0</td>\n",
       "      <td>8.0500</td>\n",
       "      <td>S</td>\n",
       "      <td>Third</td>\n",
       "      <td>man</td>\n",
       "      <td>True</td>\n",
       "      <td>NaN</td>\n",
       "      <td>Southampton</td>\n",
       "      <td>no</td>\n",
       "      <td>True</td>\n",
       "    </tr>\n",
       "  </tbody>\n",
       "</table>\n",
       "</div>"
      ],
      "text/plain": [
       "   survived  pclass     sex   age  sibsp  parch     fare embarked  class  \\\n",
       "0         0       3    male  22.0      1      0   7.2500        S  Third   \n",
       "1         1       1  female  38.0      1      0  71.2833        C  First   \n",
       "2         1       3  female  26.0      0      0   7.9250        S  Third   \n",
       "3         1       1  female  35.0      1      0  53.1000        S  First   \n",
       "4         0       3    male  35.0      0      0   8.0500        S  Third   \n",
       "\n",
       "     who  adult_male deck  embark_town alive  alone  \n",
       "0    man        True  NaN  Southampton    no  False  \n",
       "1  woman       False    C    Cherbourg   yes  False  \n",
       "2  woman       False  NaN  Southampton   yes   True  \n",
       "3  woman       False    C  Southampton   yes  False  \n",
       "4    man        True  NaN  Southampton    no   True  "
      ]
     },
     "execution_count": 2,
     "metadata": {},
     "output_type": "execute_result"
    }
   ],
   "source": [
    "import pandas as pd\n",
    "import numpy as np\n",
    "\n",
    "import seaborn as sns\n",
    "\n",
    "data = sns.load_dataset('titanic')\n",
    "data.head()"
   ]
  },
  {
   "cell_type": "code",
   "execution_count": 3,
   "id": "5d8c67c3",
   "metadata": {
    "ExecuteTime": {
     "end_time": "2022-10-19T05:51:12.241271Z",
     "start_time": "2022-10-19T05:51:12.235696Z"
    }
   },
   "outputs": [],
   "source": [
    "data = data.dropna()"
   ]
  },
  {
   "cell_type": "code",
   "execution_count": 4,
   "id": "792a7eac",
   "metadata": {
    "ExecuteTime": {
     "end_time": "2022-10-19T05:51:12.396680Z",
     "start_time": "2022-10-19T05:51:12.264244Z"
    }
   },
   "outputs": [
    {
     "data": {
      "text/plain": [
       "<AxesSubplot:ylabel='Frequency'>"
      ]
     },
     "execution_count": 4,
     "metadata": {},
     "output_type": "execute_result"
    },
    {
     "data": {
      "image/png": "[encoded data removed]",
      "text/plain": [
       "<Figure size 432x288 with 1 Axes>"
      ]
     },
     "metadata": {
      "needs_background": "light"
     },
     "output_type": "display_data"
    }
   ],
   "source": [
    "data['age'].plot(kind='hist', bins = 4)"
   ]
  },
  {
   "cell_type": "code",
   "execution_count": 5,
   "id": "35441f10",
   "metadata": {
    "ExecuteTime": {
     "end_time": "2022-10-19T05:51:12.423331Z",
     "start_time": "2022-10-19T05:51:12.420885Z"
    }
   },
   "outputs": [],
   "source": [
    "def naive_loops(x):\n",
    "    if x<= 20:\n",
    "        return 'group1'\n",
    "    elif 20<x<=40:\n",
    "        return 'group2'\n",
    "    elif 40<x<=60:\n",
    "        return 'group3'\n",
    "    elif 60<x:\n",
    "        return 'group4'\n",
    "    else:\n",
    "        return None"
   ]
  },
  {
   "cell_type": "markdown",
   "id": "edf82750",
   "metadata": {},
   "source": [
    "The main distinction between the two methods is:\n",
    "\n",
    "- loc gets rows (and/or columns) with particular labels(index, column_name).\n",
    "\n",
    "- iloc gets rows (and/or columns) at integer locations.\n",
    "\n",
    "DataFrame.loc() : Select rows by index value\n",
    "DataFrame.iloc() : Select rows by rows number\n",
    "\n"
   ]
  },
  {
   "cell_type": "code",
   "execution_count": 6,
   "id": "e56c3c5b",
   "metadata": {
    "ExecuteTime": {
     "end_time": "2022-10-19T05:51:12.506183Z",
     "start_time": "2022-10-19T05:51:12.486560Z"
    }
   },
   "outputs": [
    {
     "data": {
      "text/html": [
       "<div>\n",
       "<style scoped>\n",
       "    .dataframe tbody tr th:only-of-type {\n",
       "        vertical-align: middle;\n",
       "    }\n",
       "\n",
       "    .dataframe tbody tr th {\n",
       "        vertical-align: top;\n",
       "    }\n",
       "\n",
       "    .dataframe thead th {\n",
       "        text-align: right;\n",
       "    }\n",
       "</style>\n",
       "<table border=\"1\" class=\"dataframe\">\n",
       "  <thead>\n",
       "    <tr style=\"text-align: right;\">\n",
       "      <th></th>\n",
       "      <th>survived</th>\n",
       "      <th>pclass</th>\n",
       "      <th>sex</th>\n",
       "      <th>age</th>\n",
       "      <th>sibsp</th>\n",
       "      <th>parch</th>\n",
       "      <th>fare</th>\n",
       "      <th>embarked</th>\n",
       "      <th>class</th>\n",
       "      <th>who</th>\n",
       "      <th>adult_male</th>\n",
       "      <th>deck</th>\n",
       "      <th>embark_town</th>\n",
       "      <th>alive</th>\n",
       "      <th>alone</th>\n",
       "    </tr>\n",
       "  </thead>\n",
       "  <tbody>\n",
       "    <tr>\n",
       "      <th>1</th>\n",
       "      <td>1</td>\n",
       "      <td>1</td>\n",
       "      <td>female</td>\n",
       "      <td>38.0</td>\n",
       "      <td>1</td>\n",
       "      <td>0</td>\n",
       "      <td>71.2833</td>\n",
       "      <td>C</td>\n",
       "      <td>First</td>\n",
       "      <td>woman</td>\n",
       "      <td>False</td>\n",
       "      <td>C</td>\n",
       "      <td>Cherbourg</td>\n",
       "      <td>yes</td>\n",
       "      <td>False</td>\n",
       "    </tr>\n",
       "    <tr>\n",
       "      <th>3</th>\n",
       "      <td>1</td>\n",
       "      <td>1</td>\n",
       "      <td>female</td>\n",
       "      <td>35.0</td>\n",
       "      <td>1</td>\n",
       "      <td>0</td>\n",
       "      <td>53.1000</td>\n",
       "      <td>S</td>\n",
       "      <td>First</td>\n",
       "      <td>woman</td>\n",
       "      <td>False</td>\n",
       "      <td>C</td>\n",
       "      <td>Southampton</td>\n",
       "      <td>yes</td>\n",
       "      <td>False</td>\n",
       "    </tr>\n",
       "    <tr>\n",
       "      <th>6</th>\n",
       "      <td>0</td>\n",
       "      <td>1</td>\n",
       "      <td>male</td>\n",
       "      <td>54.0</td>\n",
       "      <td>0</td>\n",
       "      <td>0</td>\n",
       "      <td>51.8625</td>\n",
       "      <td>S</td>\n",
       "      <td>First</td>\n",
       "      <td>man</td>\n",
       "      <td>True</td>\n",
       "      <td>E</td>\n",
       "      <td>Southampton</td>\n",
       "      <td>no</td>\n",
       "      <td>True</td>\n",
       "    </tr>\n",
       "    <tr>\n",
       "      <th>10</th>\n",
       "      <td>1</td>\n",
       "      <td>3</td>\n",
       "      <td>female</td>\n",
       "      <td>4.0</td>\n",
       "      <td>1</td>\n",
       "      <td>1</td>\n",
       "      <td>16.7000</td>\n",
       "      <td>S</td>\n",
       "      <td>Third</td>\n",
       "      <td>child</td>\n",
       "      <td>False</td>\n",
       "      <td>G</td>\n",
       "      <td>Southampton</td>\n",
       "      <td>yes</td>\n",
       "      <td>False</td>\n",
       "    </tr>\n",
       "    <tr>\n",
       "      <th>11</th>\n",
       "      <td>1</td>\n",
       "      <td>1</td>\n",
       "      <td>female</td>\n",
       "      <td>58.0</td>\n",
       "      <td>0</td>\n",
       "      <td>0</td>\n",
       "      <td>26.5500</td>\n",
       "      <td>S</td>\n",
       "      <td>First</td>\n",
       "      <td>woman</td>\n",
       "      <td>False</td>\n",
       "      <td>C</td>\n",
       "      <td>Southampton</td>\n",
       "      <td>yes</td>\n",
       "      <td>True</td>\n",
       "    </tr>\n",
       "    <tr>\n",
       "      <th>...</th>\n",
       "      <td>...</td>\n",
       "      <td>...</td>\n",
       "      <td>...</td>\n",
       "      <td>...</td>\n",
       "      <td>...</td>\n",
       "      <td>...</td>\n",
       "      <td>...</td>\n",
       "      <td>...</td>\n",
       "      <td>...</td>\n",
       "      <td>...</td>\n",
       "      <td>...</td>\n",
       "      <td>...</td>\n",
       "      <td>...</td>\n",
       "      <td>...</td>\n",
       "      <td>...</td>\n",
       "    </tr>\n",
       "    <tr>\n",
       "      <th>871</th>\n",
       "      <td>1</td>\n",
       "      <td>1</td>\n",
       "      <td>female</td>\n",
       "      <td>47.0</td>\n",
       "      <td>1</td>\n",
       "      <td>1</td>\n",
       "      <td>52.5542</td>\n",
       "      <td>S</td>\n",
       "      <td>First</td>\n",
       "      <td>woman</td>\n",
       "      <td>False</td>\n",
       "      <td>D</td>\n",
       "      <td>Southampton</td>\n",
       "      <td>yes</td>\n",
       "      <td>False</td>\n",
       "    </tr>\n",
       "    <tr>\n",
       "      <th>872</th>\n",
       "      <td>0</td>\n",
       "      <td>1</td>\n",
       "      <td>male</td>\n",
       "      <td>33.0</td>\n",
       "      <td>0</td>\n",
       "      <td>0</td>\n",
       "      <td>5.0000</td>\n",
       "      <td>S</td>\n",
       "      <td>First</td>\n",
       "      <td>man</td>\n",
       "      <td>True</td>\n",
       "      <td>B</td>\n",
       "      <td>Southampton</td>\n",
       "      <td>no</td>\n",
       "      <td>True</td>\n",
       "    </tr>\n",
       "    <tr>\n",
       "      <th>879</th>\n",
       "      <td>1</td>\n",
       "      <td>1</td>\n",
       "      <td>female</td>\n",
       "      <td>56.0</td>\n",
       "      <td>0</td>\n",
       "      <td>1</td>\n",
       "      <td>83.1583</td>\n",
       "      <td>C</td>\n",
       "      <td>First</td>\n",
       "      <td>woman</td>\n",
       "      <td>False</td>\n",
       "      <td>C</td>\n",
       "      <td>Cherbourg</td>\n",
       "      <td>yes</td>\n",
       "      <td>False</td>\n",
       "    </tr>\n",
       "    <tr>\n",
       "      <th>887</th>\n",
       "      <td>1</td>\n",
       "      <td>1</td>\n",
       "      <td>female</td>\n",
       "      <td>19.0</td>\n",
       "      <td>0</td>\n",
       "      <td>0</td>\n",
       "      <td>30.0000</td>\n",
       "      <td>S</td>\n",
       "      <td>First</td>\n",
       "      <td>woman</td>\n",
       "      <td>False</td>\n",
       "      <td>B</td>\n",
       "      <td>Southampton</td>\n",
       "      <td>yes</td>\n",
       "      <td>True</td>\n",
       "    </tr>\n",
       "    <tr>\n",
       "      <th>889</th>\n",
       "      <td>1</td>\n",
       "      <td>1</td>\n",
       "      <td>male</td>\n",
       "      <td>26.0</td>\n",
       "      <td>0</td>\n",
       "      <td>0</td>\n",
       "      <td>30.0000</td>\n",
       "      <td>C</td>\n",
       "      <td>First</td>\n",
       "      <td>man</td>\n",
       "      <td>True</td>\n",
       "      <td>C</td>\n",
       "      <td>Cherbourg</td>\n",
       "      <td>yes</td>\n",
       "      <td>True</td>\n",
       "    </tr>\n",
       "  </tbody>\n",
       "</table>\n",
       "<p>182 rows × 15 columns</p>\n",
       "</div>"
      ],
      "text/plain": [
       "     survived  pclass     sex   age  sibsp  parch     fare embarked  class  \\\n",
       "1           1       1  female  38.0      1      0  71.2833        C  First   \n",
       "3           1       1  female  35.0      1      0  53.1000        S  First   \n",
       "6           0       1    male  54.0      0      0  51.8625        S  First   \n",
       "10          1       3  female   4.0      1      1  16.7000        S  Third   \n",
       "11          1       1  female  58.0      0      0  26.5500        S  First   \n",
       "..        ...     ...     ...   ...    ...    ...      ...      ...    ...   \n",
       "871         1       1  female  47.0      1      1  52.5542        S  First   \n",
       "872         0       1    male  33.0      0      0   5.0000        S  First   \n",
       "879         1       1  female  56.0      0      1  83.1583        C  First   \n",
       "887         1       1  female  19.0      0      0  30.0000        S  First   \n",
       "889         1       1    male  26.0      0      0  30.0000        C  First   \n",
       "\n",
       "       who  adult_male deck  embark_town alive  alone  \n",
       "1    woman       False    C    Cherbourg   yes  False  \n",
       "3    woman       False    C  Southampton   yes  False  \n",
       "6      man        True    E  Southampton    no   True  \n",
       "10   child       False    G  Southampton   yes  False  \n",
       "11   woman       False    C  Southampton   yes   True  \n",
       "..     ...         ...  ...          ...   ...    ...  \n",
       "871  woman       False    D  Southampton   yes  False  \n",
       "872    man        True    B  Southampton    no   True  \n",
       "879  woman       False    C    Cherbourg   yes  False  \n",
       "887  woman       False    B  Southampton   yes   True  \n",
       "889    man        True    C    Cherbourg   yes   True  \n",
       "\n",
       "[182 rows x 15 columns]"
      ]
     },
     "execution_count": 6,
     "metadata": {},
     "output_type": "execute_result"
    }
   ],
   "source": [
    "data"
   ]
  },
  {
   "cell_type": "markdown",
   "id": "4026b9c8",
   "metadata": {},
   "source": [
    "ipython build-in magic commands\n",
    "https://ipython.readthedocs.io/en/stable/interactive/magics.html#cellmagic-capture"
   ]
  },
  {
   "cell_type": "code",
   "execution_count": 7,
   "id": "2fc1094b",
   "metadata": {
    "ExecuteTime": {
     "end_time": "2022-10-19T05:51:12.813004Z",
     "start_time": "2022-10-19T05:51:12.802763Z"
    }
   },
   "outputs": [
    {
     "data": {
      "text/plain": [
       "'\\nsing apply() for looping\\nThe apply() function loops over the DataFrame in a specific axis, i.e., it can either loop over columns(axis=1) or loop over rows(axis=0). apply() is better than iterrows() since it uses C extensions for Python in Cython.\\n\\nWe can use apply with lambda function along-with the axis argument by first making a custom function,\\n\\n'"
      ]
     },
     "execution_count": 7,
     "metadata": {},
     "output_type": "execute_result"
    }
   ],
   "source": [
    "'''\n",
    "sing apply() for looping\n",
    "The apply() function loops over the DataFrame in a specific axis, i.e., it can either loop over columns(axis=1) or loop over rows(axis=0). apply() is better than iterrows() since it uses C extensions for Python in Cython.\n",
    "\n",
    "We can use apply with lambda function along-with the axis argument by first making a custom function,\n",
    "\n",
    "'''"
   ]
  },
  {
   "cell_type": "code",
   "execution_count": 8,
   "id": "ed631330",
   "metadata": {
    "ExecuteTime": {
     "end_time": "2022-10-19T05:51:27.281724Z",
     "start_time": "2022-10-19T05:51:12.974803Z"
    }
   },
   "outputs": [
    {
     "name": "stdout",
     "output_type": "stream",
     "text": [
      "2.04 ms ± 10.9 µs per loop (mean ± std. dev. of 7 runs, 1000 loops each)\n"
     ]
    }
   ],
   "source": [
    "%%timeit -n 1_000\n",
    "[naive_loops(data['age'].loc[i]) for i in data.index]"
   ]
  },
  {
   "cell_type": "code",
   "execution_count": 9,
   "id": "9d69392a",
   "metadata": {
    "ExecuteTime": {
     "end_time": "2022-10-19T05:51:38.206781Z",
     "start_time": "2022-10-19T05:51:27.307352Z"
    }
   },
   "outputs": [
    {
     "name": "stdout",
     "output_type": "stream",
     "text": [
      "1.56 ms ± 3.79 µs per loop (mean ± std. dev. of 7 runs, 1000 loops each)\n"
     ]
    }
   ],
   "source": [
    "%%timeit -n 1_000\n",
    "[naive_loops(data['age'].iloc[i]) for i in range(len(data))]"
   ]
  },
  {
   "cell_type": "code",
   "execution_count": 10,
   "id": "8dee0d86",
   "metadata": {
    "ExecuteTime": {
     "end_time": "2022-10-19T05:52:57.379508Z",
     "start_time": "2022-10-19T05:51:38.231288Z"
    }
   },
   "outputs": [
    {
     "name": "stdout",
     "output_type": "stream",
     "text": [
      "11.3 ms ± 23.7 µs per loop (mean ± std. dev. of 7 runs, 1000 loops each)\n"
     ]
    }
   ],
   "source": [
    "%%timeit -n 1_000\n",
    "[naive_loops(row['age'])  for idx, row in data.iterrows()]"
   ]
  },
  {
   "cell_type": "code",
   "execution_count": 11,
   "id": "57389ac4",
   "metadata": {
    "ExecuteTime": {
     "end_time": "2022-10-19T05:53:06.996923Z",
     "start_time": "2022-10-19T05:52:57.403200Z"
    }
   },
   "outputs": [
    {
     "name": "stdout",
     "output_type": "stream",
     "text": [
      "1.36 ms ± 12.6 µs per loop (mean ± std. dev. of 7 runs, 1000 loops each)\n"
     ]
    }
   ],
   "source": [
    "%%timeit -n 1_000\n",
    "[naive_loops(row.age)  for row in data.itertuples()]"
   ]
  },
  {
   "cell_type": "code",
   "execution_count": 12,
   "id": "658b8f8c",
   "metadata": {
    "ExecuteTime": {
     "end_time": "2022-10-19T05:53:20.093372Z",
     "start_time": "2022-10-19T05:53:07.020764Z"
    }
   },
   "outputs": [
    {
     "name": "stdout",
     "output_type": "stream",
     "text": [
      "1.87 ms ± 46 µs per loop (mean ± std. dev. of 7 runs, 1000 loops each)\n"
     ]
    }
   ],
   "source": [
    "%%timeit -n 1_000\n",
    "data.apply(lambda row: naive_loops(row['age']), axis=1)"
   ]
  },
  {
   "cell_type": "code",
   "execution_count": 13,
   "id": "d128c63e",
   "metadata": {
    "ExecuteTime": {
     "end_time": "2022-10-19T05:53:20.408440Z",
     "start_time": "2022-10-19T05:53:20.118197Z"
    }
   },
   "outputs": [
    {
     "name": "stdout",
     "output_type": "stream",
     "text": [
      "41.1 µs ± 251 ns per loop (mean ± std. dev. of 7 runs, 1000 loops each)\n"
     ]
    }
   ],
   "source": [
    "# Pandas Vectorization\n",
    "result = %timeit -o -n 1_000 [naive_loops(x) for x in data['age']] "
   ]
  },
  {
   "cell_type": "code",
   "execution_count": 14,
   "id": "1dcfe2b7",
   "metadata": {
    "ExecuteTime": {
     "end_time": "2022-10-19T05:53:20.433469Z",
     "start_time": "2022-10-19T05:53:20.432098Z"
    }
   },
   "outputs": [],
   "source": [
    "# %prun -s cumtime [naive_loops(x) for x in data['age'].values]"
   ]
  },
  {
   "cell_type": "code",
   "execution_count": 15,
   "id": "3c19bfec",
   "metadata": {
    "ExecuteTime": {
     "end_time": "2022-10-19T05:53:21.359000Z",
     "start_time": "2022-10-19T05:53:20.457427Z"
    }
   },
   "outputs": [
    {
     "name": "stdout",
     "output_type": "stream",
     "text": [
      "128 µs ± 402 ns per loop (mean ± std. dev. of 7 runs, 1000 loops each)\n"
     ]
    }
   ],
   "source": [
    "%%timeit -n 1_000\n",
    "# Numpy Vectorization (1)\n",
    "[naive_loops(x) for x in data['age'].values]"
   ]
  },
  {
   "cell_type": "code",
   "execution_count": 16,
   "id": "7eb909ad",
   "metadata": {
    "ExecuteTime": {
     "end_time": "2022-10-19T05:53:22.304472Z",
     "start_time": "2022-10-19T05:53:21.384047Z"
    }
   },
   "outputs": [
    {
     "name": "stdout",
     "output_type": "stream",
     "text": [
      "131 µs ± 1.13 µs per loop (mean ± std. dev. of 7 runs, 1000 loops each)\n"
     ]
    }
   ],
   "source": [
    "%%timeit -n 1_000\n",
    "# Numpy Vectorization (2)\n",
    "[naive_loops(x) for x in data['age'].to_numpy()] "
   ]
  },
  {
   "cell_type": "code",
   "execution_count": 17,
   "id": "e3902fa5",
   "metadata": {
    "ExecuteTime": {
     "end_time": "2022-10-19T05:53:23.850442Z",
     "start_time": "2022-10-19T05:53:22.328387Z"
    }
   },
   "outputs": [
    {
     "name": "stdout",
     "output_type": "stream",
     "text": [
      "217 µs ± 4.19 µs per loop (mean ± std. dev. of 7 runs, 1000 loops each)\n"
     ]
    }
   ],
   "source": [
    "%%timeit -n 1_000\n",
    "\n",
    "data['age'].apply(lambda x: naive_loops(x))"
   ]
  },
  {
   "cell_type": "code",
   "execution_count": 18,
   "id": "1d23aeac",
   "metadata": {
    "ExecuteTime": {
     "end_time": "2022-10-19T05:53:23.876619Z",
     "start_time": "2022-10-19T05:53:23.875213Z"
    }
   },
   "outputs": [],
   "source": [
    "# query == eval\n"
   ]
  },
  {
   "cell_type": "markdown",
   "id": "b9e64de9",
   "metadata": {},
   "source": [
    "\n",
    "### 3-rd party package (Numba, njit, swifter) \n"
   ]
  },
  {
   "cell_type": "code",
   "execution_count": 42,
   "id": "efee95ab",
   "metadata": {
    "ExecuteTime": {
     "end_time": "2022-10-19T06:00:43.431286Z",
     "start_time": "2022-10-19T06:00:41.608574Z"
    }
   },
   "outputs": [
    {
     "name": "stdout",
     "output_type": "stream",
     "text": [
      "Requirement already satisfied: numba in /home/hoesungryu/anaconda3/envs/torch/lib/python3.6/site-packages (0.53.1)\r\n",
      "Requirement already satisfied: llvmlite<0.37,>=0.36.0rc1 in /home/hoesungryu/anaconda3/envs/torch/lib/python3.6/site-packages (from numba) (0.36.0)\r\n",
      "Requirement already satisfied: numpy>=1.15 in /home/hoesungryu/anaconda3/envs/torch/lib/python3.6/site-packages (from numba) (1.19.5)\r\n",
      "Requirement already satisfied: setuptools in /home/hoesungryu/anaconda3/envs/torch/lib/python3.6/site-packages (from numba) (52.0.0.post20210125)\r\n"
     ]
    }
   ],
   "source": [
    "!pip install numba\n"
   ]
  },
  {
   "cell_type": "code",
   "execution_count": 43,
   "id": "1f8c5127",
   "metadata": {
    "ExecuteTime": {
     "end_time": "2022-10-19T06:00:59.408247Z",
     "start_time": "2022-10-19T06:00:59.406525Z"
    }
   },
   "outputs": [],
   "source": [
    "from numba import njit"
   ]
  },
  {
   "cell_type": "code",
   "execution_count": 51,
   "id": "292aa85d",
   "metadata": {
    "ExecuteTime": {
     "end_time": "2022-10-19T06:02:48.004043Z",
     "start_time": "2022-10-19T06:02:48.001364Z"
    }
   },
   "outputs": [],
   "source": [
    "@njit\n",
    "def numba_naive_loops(x):\n",
    "    if x<= 20:\n",
    "        return 'group1'\n",
    "    elif 20<x<=40:\n",
    "        return 'group2'\n",
    "    elif 40<x<=60:\n",
    "        return 'group3'\n",
    "    elif 60<x:\n",
    "        return 'group4'\n",
    "    else:\n",
    "        return None"
   ]
  },
  {
   "cell_type": "code",
   "execution_count": 52,
   "id": "ed1ffd7b",
   "metadata": {
    "ExecuteTime": {
     "end_time": "2022-10-19T06:03:03.085295Z",
     "start_time": "2022-10-19T06:02:48.188701Z"
    }
   },
   "outputs": [
    {
     "name": "stdout",
     "output_type": "stream",
     "text": [
      "213 µs ± 2.05 µs per loop (mean ± std. dev. of 7 runs, 10000 loops each)\n"
     ]
    }
   ],
   "source": [
    "%%timeit -n 1_0000\n",
    "data['age'].apply(lambda x: numba_naive_loops(x))"
   ]
  },
  {
   "cell_type": "code",
   "execution_count": 55,
   "id": "5f11b97b",
   "metadata": {
    "ExecuteTime": {
     "end_time": "2022-10-19T06:03:17.905107Z",
     "start_time": "2022-10-19T06:03:03.162865Z"
    }
   },
   "outputs": [
    {
     "name": "stdout",
     "output_type": "stream",
     "text": [
      "211 µs ± 1.56 µs per loop (mean ± std. dev. of 7 runs, 10000 loops each)\n"
     ]
    }
   ],
   "source": [
    "%%timeit -n 1_0000\n",
    "data['age'].apply(lambda x: naive_loops(x))"
   ]
  },
  {
   "cell_type": "code",
   "execution_count": 82,
   "id": "cbadbd1b",
   "metadata": {
    "ExecuteTime": {
     "end_time": "2022-10-19T06:19:11.804287Z",
     "start_time": "2022-10-19T06:19:11.800233Z"
    }
   },
   "outputs": [],
   "source": [
    "@njit\n",
    "def numba_mutiply_age(x):\n",
    "    return x**4\n",
    "\n",
    "def mutiply_age(x):\n",
    "    return x**4\n"
   ]
  },
  {
   "cell_type": "code",
   "execution_count": 83,
   "id": "74d48fe8",
   "metadata": {
    "ExecuteTime": {
     "end_time": "2022-10-19T06:19:13.360284Z",
     "start_time": "2022-10-19T06:19:12.045648Z"
    }
   },
   "outputs": [
    {
     "name": "stdout",
     "output_type": "stream",
     "text": [
      "187 µs ± 3.29 µs per loop (mean ± std. dev. of 7 runs, 1000 loops each)\n"
     ]
    }
   ],
   "source": [
    "%%timeit -n 1_000\n",
    "data['age'].apply(mutiply_age)"
   ]
  },
  {
   "cell_type": "code",
   "execution_count": 84,
   "id": "a9b6892d",
   "metadata": {
    "ExecuteTime": {
     "end_time": "2022-10-19T06:19:14.649825Z",
     "start_time": "2022-10-19T06:19:13.384879Z"
    }
   },
   "outputs": [
    {
     "name": "stdout",
     "output_type": "stream",
     "text": [
      "180 µs ± 12.7 µs per loop (mean ± std. dev. of 7 runs, 1000 loops each)\n"
     ]
    }
   ],
   "source": [
    "%%timeit -n 1_000\n",
    "data['age'].apply(numba_mutiply_age)"
   ]
  },
  {
   "cell_type": "code",
   "execution_count": 85,
   "id": "b3197f3b",
   "metadata": {
    "ExecuteTime": {
     "end_time": "2022-10-19T06:19:28.454118Z",
     "start_time": "2022-10-19T06:19:20.082073Z"
    },
    "scrolled": true
   },
   "outputs": [
    {
     "name": "stdout",
     "output_type": "stream",
     "text": [
      "1.2 ms ± 9.08 µs per loop (mean ± std. dev. of 7 runs, 1000 loops each)\n"
     ]
    }
   ],
   "source": [
    "%%timeit -n 1_000\n",
    "data.eval('age**4') # query 보다 eval 이 빠르지만 여전히 느리다... \n"
   ]
  },
  {
   "cell_type": "code",
   "execution_count": 1,
   "id": "8a0d435c",
   "metadata": {
    "ExecuteTime": {
     "end_time": "2022-10-19T05:50:22.906376Z",
     "start_time": "2022-10-19T05:50:18.855098Z"
    }
   },
   "outputs": [
    {
     "name": "stdout",
     "output_type": "stream",
     "text": [
      "Collecting swifter\n",
      "  Downloading swifter-1.3.4.tar.gz (830 kB)\n",
      "\u001b[K     |████████████████████████████████| 830 kB 4.3 MB/s eta 0:00:01\n",
      "\u001b[?25hRequirement already satisfied: pandas>=1.0.0 in /home/hoesungryu/anaconda3/envs/torch/lib/python3.6/site-packages (from swifter) (1.1.5)\n",
      "Requirement already satisfied: psutil>=5.6.6 in /home/hoesungryu/anaconda3/envs/torch/lib/python3.6/site-packages (from swifter) (5.8.0)\n",
      "Collecting dask[dataframe]>=2.10.0\n",
      "  Downloading dask-2021.3.0-py3-none-any.whl (925 kB)\n",
      "\u001b[K     |████████████████████████████████| 925 kB 11.3 MB/s eta 0:00:01\n",
      "\u001b[?25hRequirement already satisfied: tqdm>=4.33.0 in /home/hoesungryu/anaconda3/envs/torch/lib/python3.6/site-packages (from swifter) (4.59.0)\n",
      "Requirement already satisfied: ipywidgets>=7.0.0 in /home/hoesungryu/anaconda3/envs/torch/lib/python3.6/site-packages (from swifter) (7.6.3)\n",
      "Requirement already satisfied: cloudpickle>=0.2.2 in /home/hoesungryu/anaconda3/envs/torch/lib/python3.6/site-packages (from swifter) (1.6.0)\n",
      "Requirement already satisfied: parso>0.4.0 in /home/hoesungryu/anaconda3/envs/torch/lib/python3.6/site-packages (from swifter) (0.8.2)\n",
      "Requirement already satisfied: bleach>=3.1.1 in /home/hoesungryu/anaconda3/envs/torch/lib/python3.6/site-packages (from swifter) (3.3.0)\n",
      "Requirement already satisfied: webencodings in /home/hoesungryu/anaconda3/envs/torch/lib/python3.6/site-packages (from bleach>=3.1.1->swifter) (0.5.1)\n",
      "Requirement already satisfied: packaging in /home/hoesungryu/anaconda3/envs/torch/lib/python3.6/site-packages (from bleach>=3.1.1->swifter) (20.9)\n",
      "Requirement already satisfied: six>=1.9.0 in /home/hoesungryu/anaconda3/envs/torch/lib/python3.6/site-packages (from bleach>=3.1.1->swifter) (1.15.0)\n",
      "Requirement already satisfied: pyyaml in /home/hoesungryu/anaconda3/envs/torch/lib/python3.6/site-packages (from dask[dataframe]>=2.10.0->swifter) (5.4.1)\n",
      "Requirement already satisfied: numpy>=1.15.1 in /home/hoesungryu/anaconda3/envs/torch/lib/python3.6/site-packages (from dask[dataframe]>=2.10.0->swifter) (1.19.5)\n",
      "Requirement already satisfied: fsspec>=0.6.0 in /home/hoesungryu/anaconda3/envs/torch/lib/python3.6/site-packages (from dask[dataframe]>=2.10.0->swifter) (2021.7.0)\n",
      "Collecting partd>=0.3.10\n",
      "  Downloading partd-1.2.0-py3-none-any.whl (19 kB)\n",
      "Requirement already satisfied: toolz>=0.8.2 in /home/hoesungryu/anaconda3/envs/torch/lib/python3.6/site-packages (from dask[dataframe]>=2.10.0->swifter) (0.11.1)\n",
      "Requirement already satisfied: traitlets>=4.3.1 in /home/hoesungryu/anaconda3/envs/torch/lib/python3.6/site-packages (from ipywidgets>=7.0.0->swifter) (4.3.3)\n",
      "Requirement already satisfied: ipykernel>=4.5.1 in /home/hoesungryu/anaconda3/envs/torch/lib/python3.6/site-packages (from ipywidgets>=7.0.0->swifter) (5.3.4)\n",
      "Requirement already satisfied: nbformat>=4.2.0 in /home/hoesungryu/anaconda3/envs/torch/lib/python3.6/site-packages (from ipywidgets>=7.0.0->swifter) (5.1.3)\n",
      "Requirement already satisfied: widgetsnbextension~=3.5.0 in /home/hoesungryu/anaconda3/envs/torch/lib/python3.6/site-packages (from ipywidgets>=7.0.0->swifter) (3.5.1)\n",
      "Requirement already satisfied: ipython>=4.0.0 in /home/hoesungryu/anaconda3/envs/torch/lib/python3.6/site-packages (from ipywidgets>=7.0.0->swifter) (7.16.1)\n",
      "Requirement already satisfied: jupyterlab-widgets>=1.0.0 in /home/hoesungryu/anaconda3/envs/torch/lib/python3.6/site-packages (from ipywidgets>=7.0.0->swifter) (1.0.0)\n",
      "Requirement already satisfied: jupyter-client in /home/hoesungryu/anaconda3/envs/torch/lib/python3.6/site-packages (from ipykernel>=4.5.1->ipywidgets>=7.0.0->swifter) (6.1.12)\n",
      "Requirement already satisfied: tornado>=4.2 in /home/hoesungryu/anaconda3/envs/torch/lib/python3.6/site-packages (from ipykernel>=4.5.1->ipywidgets>=7.0.0->swifter) (6.1)\n",
      "Requirement already satisfied: setuptools>=18.5 in /home/hoesungryu/anaconda3/envs/torch/lib/python3.6/site-packages (from ipython>=4.0.0->ipywidgets>=7.0.0->swifter) (52.0.0.post20210125)\n",
      "Requirement already satisfied: pexpect in /home/hoesungryu/anaconda3/envs/torch/lib/python3.6/site-packages (from ipython>=4.0.0->ipywidgets>=7.0.0->swifter) (4.8.0)\n",
      "Requirement already satisfied: decorator in /home/hoesungryu/anaconda3/envs/torch/lib/python3.6/site-packages (from ipython>=4.0.0->ipywidgets>=7.0.0->swifter) (4.4.2)\n",
      "Requirement already satisfied: prompt-toolkit!=3.0.0,!=3.0.1,<3.1.0,>=2.0.0 in /home/hoesungryu/anaconda3/envs/torch/lib/python3.6/site-packages (from ipython>=4.0.0->ipywidgets>=7.0.0->swifter) (3.0.17)\n",
      "Requirement already satisfied: pickleshare in /home/hoesungryu/anaconda3/envs/torch/lib/python3.6/site-packages (from ipython>=4.0.0->ipywidgets>=7.0.0->swifter) (0.7.5)\n",
      "Requirement already satisfied: backcall in /home/hoesungryu/anaconda3/envs/torch/lib/python3.6/site-packages (from ipython>=4.0.0->ipywidgets>=7.0.0->swifter) (0.2.0)\n",
      "Requirement already satisfied: jedi>=0.10 in /home/hoesungryu/anaconda3/envs/torch/lib/python3.6/site-packages (from ipython>=4.0.0->ipywidgets>=7.0.0->swifter) (0.18.0)\n",
      "Requirement already satisfied: pygments in /home/hoesungryu/anaconda3/envs/torch/lib/python3.6/site-packages (from ipython>=4.0.0->ipywidgets>=7.0.0->swifter) (2.8.1)\n",
      "Requirement already satisfied: jsonschema!=2.5.0,>=2.4 in /home/hoesungryu/anaconda3/envs/torch/lib/python3.6/site-packages (from nbformat>=4.2.0->ipywidgets>=7.0.0->swifter) (3.2.0)\n",
      "Requirement already satisfied: jupyter-core in /home/hoesungryu/anaconda3/envs/torch/lib/python3.6/site-packages (from nbformat>=4.2.0->ipywidgets>=7.0.0->swifter) (4.7.1)\n",
      "Requirement already satisfied: ipython-genutils in /home/hoesungryu/anaconda3/envs/torch/lib/python3.6/site-packages (from nbformat>=4.2.0->ipywidgets>=7.0.0->swifter) (0.2.0)\n",
      "Requirement already satisfied: importlib-metadata in /home/hoesungryu/anaconda3/envs/torch/lib/python3.6/site-packages (from jsonschema!=2.5.0,>=2.4->nbformat>=4.2.0->ipywidgets>=7.0.0->swifter) (3.10.0)\n",
      "Requirement already satisfied: attrs>=17.4.0 in /home/hoesungryu/anaconda3/envs/torch/lib/python3.6/site-packages (from jsonschema!=2.5.0,>=2.4->nbformat>=4.2.0->ipywidgets>=7.0.0->swifter) (20.3.0)\n",
      "Requirement already satisfied: pyrsistent>=0.14.0 in /home/hoesungryu/anaconda3/envs/torch/lib/python3.6/site-packages (from jsonschema!=2.5.0,>=2.4->nbformat>=4.2.0->ipywidgets>=7.0.0->swifter) (0.17.3)\n",
      "Requirement already satisfied: pytz>=2017.2 in /home/hoesungryu/anaconda3/envs/torch/lib/python3.6/site-packages (from pandas>=1.0.0->swifter) (2021.1)\n",
      "Requirement already satisfied: python-dateutil>=2.7.3 in /home/hoesungryu/anaconda3/envs/torch/lib/python3.6/site-packages (from pandas>=1.0.0->swifter) (2.8.1)\n",
      "Collecting locket\n",
      "  Downloading locket-1.0.0-py2.py3-none-any.whl (4.4 kB)\n",
      "Requirement already satisfied: wcwidth in /home/hoesungryu/anaconda3/envs/torch/lib/python3.6/site-packages (from prompt-toolkit!=3.0.0,!=3.0.1,<3.1.0,>=2.0.0->ipython>=4.0.0->ipywidgets>=7.0.0->swifter) (0.2.5)\n",
      "Requirement already satisfied: notebook>=4.4.1 in /home/hoesungryu/anaconda3/envs/torch/lib/python3.6/site-packages (from widgetsnbextension~=3.5.0->ipywidgets>=7.0.0->swifter) (6.3.0)\n",
      "Requirement already satisfied: pyzmq>=17 in /home/hoesungryu/anaconda3/envs/torch/lib/python3.6/site-packages (from notebook>=4.4.1->widgetsnbextension~=3.5.0->ipywidgets>=7.0.0->swifter) (20.0.0)\n",
      "Requirement already satisfied: Send2Trash>=1.5.0 in /home/hoesungryu/anaconda3/envs/torch/lib/python3.6/site-packages (from notebook>=4.4.1->widgetsnbextension~=3.5.0->ipywidgets>=7.0.0->swifter) (1.5.0)\n",
      "Requirement already satisfied: terminado>=0.8.3 in /home/hoesungryu/anaconda3/envs/torch/lib/python3.6/site-packages (from notebook>=4.4.1->widgetsnbextension~=3.5.0->ipywidgets>=7.0.0->swifter) (0.9.4)\n",
      "Requirement already satisfied: argon2-cffi in /home/hoesungryu/anaconda3/envs/torch/lib/python3.6/site-packages (from notebook>=4.4.1->widgetsnbextension~=3.5.0->ipywidgets>=7.0.0->swifter) (20.1.0)\n",
      "Requirement already satisfied: nbconvert in /home/hoesungryu/anaconda3/envs/torch/lib/python3.6/site-packages (from notebook>=4.4.1->widgetsnbextension~=3.5.0->ipywidgets>=7.0.0->swifter) (6.0.7)\n",
      "Requirement already satisfied: jinja2 in /home/hoesungryu/anaconda3/envs/torch/lib/python3.6/site-packages (from notebook>=4.4.1->widgetsnbextension~=3.5.0->ipywidgets>=7.0.0->swifter) (2.11.3)\n",
      "Requirement already satisfied: prometheus-client in /home/hoesungryu/anaconda3/envs/torch/lib/python3.6/site-packages (from notebook>=4.4.1->widgetsnbextension~=3.5.0->ipywidgets>=7.0.0->swifter) (0.10.1)\n"
     ]
    },
    {
     "name": "stdout",
     "output_type": "stream",
     "text": [
      "Requirement already satisfied: ptyprocess in /home/hoesungryu/anaconda3/envs/torch/lib/python3.6/site-packages (from terminado>=0.8.3->notebook>=4.4.1->widgetsnbextension~=3.5.0->ipywidgets>=7.0.0->swifter) (0.7.0)\n",
      "Requirement already satisfied: cffi>=1.0.0 in /home/hoesungryu/anaconda3/envs/torch/lib/python3.6/site-packages (from argon2-cffi->notebook>=4.4.1->widgetsnbextension~=3.5.0->ipywidgets>=7.0.0->swifter) (1.14.5)\n",
      "Requirement already satisfied: pycparser in /home/hoesungryu/anaconda3/envs/torch/lib/python3.6/site-packages (from cffi>=1.0.0->argon2-cffi->notebook>=4.4.1->widgetsnbextension~=3.5.0->ipywidgets>=7.0.0->swifter) (2.20)\n",
      "Requirement already satisfied: zipp>=0.5 in /home/hoesungryu/anaconda3/envs/torch/lib/python3.6/site-packages (from importlib-metadata->jsonschema!=2.5.0,>=2.4->nbformat>=4.2.0->ipywidgets>=7.0.0->swifter) (3.4.1)\n",
      "Requirement already satisfied: typing-extensions>=3.6.4 in /home/hoesungryu/anaconda3/envs/torch/lib/python3.6/site-packages (from importlib-metadata->jsonschema!=2.5.0,>=2.4->nbformat>=4.2.0->ipywidgets>=7.0.0->swifter) (3.7.4.3)\n",
      "Requirement already satisfied: MarkupSafe>=0.23 in /home/hoesungryu/anaconda3/envs/torch/lib/python3.6/site-packages (from jinja2->notebook>=4.4.1->widgetsnbextension~=3.5.0->ipywidgets>=7.0.0->swifter) (1.1.1)\n",
      "Requirement already satisfied: mistune<2,>=0.8.1 in /home/hoesungryu/anaconda3/envs/torch/lib/python3.6/site-packages (from nbconvert->notebook>=4.4.1->widgetsnbextension~=3.5.0->ipywidgets>=7.0.0->swifter) (0.8.4)\n",
      "Requirement already satisfied: defusedxml in /home/hoesungryu/anaconda3/envs/torch/lib/python3.6/site-packages (from nbconvert->notebook>=4.4.1->widgetsnbextension~=3.5.0->ipywidgets>=7.0.0->swifter) (0.7.1)\n",
      "Requirement already satisfied: jupyterlab-pygments in /home/hoesungryu/anaconda3/envs/torch/lib/python3.6/site-packages (from nbconvert->notebook>=4.4.1->widgetsnbextension~=3.5.0->ipywidgets>=7.0.0->swifter) (0.1.2)\n",
      "Requirement already satisfied: testpath in /home/hoesungryu/anaconda3/envs/torch/lib/python3.6/site-packages (from nbconvert->notebook>=4.4.1->widgetsnbextension~=3.5.0->ipywidgets>=7.0.0->swifter) (0.4.4)\n",
      "Requirement already satisfied: nbclient<0.6.0,>=0.5.0 in /home/hoesungryu/anaconda3/envs/torch/lib/python3.6/site-packages (from nbconvert->notebook>=4.4.1->widgetsnbextension~=3.5.0->ipywidgets>=7.0.0->swifter) (0.5.3)\n",
      "Requirement already satisfied: entrypoints>=0.2.2 in /home/hoesungryu/anaconda3/envs/torch/lib/python3.6/site-packages (from nbconvert->notebook>=4.4.1->widgetsnbextension~=3.5.0->ipywidgets>=7.0.0->swifter) (0.3)\n",
      "Requirement already satisfied: pandocfilters>=1.4.1 in /home/hoesungryu/anaconda3/envs/torch/lib/python3.6/site-packages (from nbconvert->notebook>=4.4.1->widgetsnbextension~=3.5.0->ipywidgets>=7.0.0->swifter) (1.4.3)\n",
      "Requirement already satisfied: async-generator in /home/hoesungryu/anaconda3/envs/torch/lib/python3.6/site-packages (from nbclient<0.6.0,>=0.5.0->nbconvert->notebook>=4.4.1->widgetsnbextension~=3.5.0->ipywidgets>=7.0.0->swifter) (1.10)\n",
      "Requirement already satisfied: nest-asyncio in /home/hoesungryu/anaconda3/envs/torch/lib/python3.6/site-packages (from nbclient<0.6.0,>=0.5.0->nbconvert->notebook>=4.4.1->widgetsnbextension~=3.5.0->ipywidgets>=7.0.0->swifter) (1.5.1)\n",
      "Requirement already satisfied: pyparsing>=2.0.2 in /home/hoesungryu/anaconda3/envs/torch/lib/python3.6/site-packages (from packaging->bleach>=3.1.1->swifter) (2.4.7)\n",
      "Building wheels for collected packages: swifter\n",
      "  Building wheel for swifter (setup.py) ... \u001b[?25ldone\n",
      "\u001b[?25h  Created wheel for swifter: filename=swifter-1.3.4-py3-none-any.whl size=16307 sha256=c724ebbdc9b650ed41ac44fb5ae0816a5671248732d748c2c800ec7e5b5115f3\n",
      "  Stored in directory: /home/hoesungryu/.cache/pip/wheels/14/98/a8/b4439e8a1692f3290548ed5bd7416457564f480ca72b2d6245\n",
      "Successfully built swifter\n",
      "Installing collected packages: locket, partd, dask, swifter\n",
      "  Attempting uninstall: dask\n",
      "    Found existing installation: dask 1.1.4\n",
      "    Uninstalling dask-1.1.4:\n",
      "      Successfully uninstalled dask-1.1.4\n",
      "Successfully installed dask-2021.3.0 locket-1.0.0 partd-1.2.0 swifter-1.3.4\n"
     ]
    }
   ],
   "source": [
    "!pip install swifter"
   ]
  },
  {
   "cell_type": "code",
   "execution_count": 23,
   "id": "01eb2c92",
   "metadata": {
    "ExecuteTime": {
     "end_time": "2022-10-19T05:55:21.721373Z",
     "start_time": "2022-10-19T05:55:20.932433Z"
    }
   },
   "outputs": [],
   "source": [
    "import swifter"
   ]
  },
  {
   "cell_type": "code",
   "execution_count": 28,
   "id": "d28e519c",
   "metadata": {
    "ExecuteTime": {
     "end_time": "2022-10-19T05:57:32.998020Z",
     "start_time": "2022-10-19T05:57:31.525422Z"
    }
   },
   "outputs": [
    {
     "name": "stdout",
     "output_type": "stream",
     "text": [
      "210 µs ± 1.37 µs per loop (mean ± std. dev. of 7 runs, 1000 loops each)\n"
     ]
    }
   ],
   "source": [
    "%%timeit -n 1_000\n",
    "data['age'].apply(lambda x: naive_loops(x))"
   ]
  },
  {
   "cell_type": "code",
   "execution_count": 41,
   "id": "b10a9744",
   "metadata": {
    "ExecuteTime": {
     "end_time": "2022-10-19T05:59:41.588360Z",
     "start_time": "2022-10-19T05:59:32.501837Z"
    }
   },
   "outputs": [
    {
     "name": "stdout",
     "output_type": "stream",
     "text": [
      "1.3 ms ± 16.4 µs per loop (mean ± std. dev. of 7 runs, 1000 loops each)\n"
     ]
    }
   ],
   "source": [
    "%%timeit -n 1_000\n",
    "data['age'].swifter.progress_bar(False).apply(naive_loops)"
   ]
  },
  {
   "cell_type": "markdown",
   "id": "589c02a5",
   "metadata": {},
   "source": [
    "## appendix \n",
    "\n"
   ]
  },
  {
   "cell_type": "code",
   "execution_count": 57,
   "id": "84ec9a94",
   "metadata": {
    "ExecuteTime": {
     "end_time": "2022-10-18T11:42:18.569406Z",
     "start_time": "2022-10-18T11:42:18.566482Z"
    }
   },
   "outputs": [
    {
     "name": "stdout",
     "output_type": "stream",
     "text": [
      "My column name is survived. Values is [1 1 0 1 1 1 1 0 1 0 0 1 0 1 0 0 1 0 0 0 1 0 1 0 0 0 1 0 0 0 1 1 1 1 0 1 1\n",
      " 1 1 1 0 1 0 0 1 0 0 1 1 0 1 1 0 0 1 1 1 1 1 1 1 1 1 1 1 0 0 0 1 1 1 1 1 1\n",
      " 1 1 0 1 1 1 1 1 1 0 1 0 1 1 0 1 0 1 0 1 1 1 0 0 1 0 1 0 1 0 1 1 1 0 1 1 0\n",
      " 1 1 1 1 1 1 1 0 1 1 1 1 1 1 1 0 1 1 1 1 1 1 0 0 0 1 1 1 1 0 0 1 1 1 1 1 0\n",
      " 1 1 1 1 1 0 1 0 0 1 1 1 1 0 1 1 0 0 1 1 0 1 1 1 1 1 1 1 0 1 0 1 1 1].\n"
     ]
    }
   ],
   "source": [
    "# Iterate over (column name, Series) pairs.\n",
    "# 각 열의 데이터가 (컬럼명, Series)로 만들어져 할당됩니다.\n",
    "# df.items()도 iter-generator를 리턴하며 더 명확하게 df.iteritems()추천한다\n",
    "for col_name, col in data.iteritems():\n",
    "    print(f\"My column name is {col_name}. Values is {col.values}.\")\n",
    "    break"
   ]
  },
  {
   "cell_type": "markdown",
   "id": "9ba6b62a",
   "metadata": {},
   "source": [
    "## reference \n",
    "\n",
    "https://mlabonne.github.io/blog/iterating-over-rows-pandas-dataframe/"
   ]
  }
 ],
 "metadata": {
  "hide_input": false,
  "kernelspec": {
   "display_name": "Python 3",
   "language": "python",
   "name": "python3"
  },
  "language_info": {
   "codemirror_mode": {
    "name": "ipython",
    "version": 3
   },
   "file_extension": ".py",
   "mimetype": "text/x-python",
   "name": "python",
   "nbconvert_exporter": "python",
   "pygments_lexer": "ipython3",
   "version": "3.6.13"
  },
  "toc": {
   "base_numbering": 1,
   "nav_menu": {},
   "number_sections": true,
   "sideBar": true,
   "skip_h1_title": false,
   "title_cell": "Table of Contents",
   "title_sidebar": "Contents",
   "toc_cell": false,
   "toc_position": {},
   "toc_section_display": true,
   "toc_window_display": false
  },
  "varInspector": {
   "cols": {
    "lenName": 16,
    "lenType": 16,
    "lenVar": 40
   },
   "kernels_config": {
    "python": {
     "delete_cmd_postfix": "",
     "delete_cmd_prefix": "del ",
     "library": "var_list.py",
     "varRefreshCmd": "print(var_dic_list())"
    },
    "r": {
     "delete_cmd_postfix": ") ",
     "delete_cmd_prefix": "rm(",
     "library": "var_list.r",
     "varRefreshCmd": "cat(var_dic_list()) "
    }
   },
   "types_to_exclude": [
    "module",
    "function",
    "builtin_function_or_method",
    "instance",
    "_Feature"
   ],
   "window_display": false
  }
 },
 "nbformat": 4,
 "nbformat_minor": 5
}
