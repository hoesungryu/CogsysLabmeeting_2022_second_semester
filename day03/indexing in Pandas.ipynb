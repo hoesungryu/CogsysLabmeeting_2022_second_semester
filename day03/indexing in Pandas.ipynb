{
 "cells": [
  {
   "cell_type": "markdown",
   "id": "add461cd",
   "metadata": {},
   "source": [
    "# indexing in Pandas\n"
   ]
  },
  {
   "cell_type": "markdown",
   "id": "086693c9",
   "metadata": {
    "toc": true
   },
   "source": [
    "<h1>Table of Contents<span class=\"tocSkip\"></span></h1>\n",
    "<div class=\"toc\"><ul class=\"toc-item\"><li><span><a href=\"#Introduction\" data-toc-modified-id=\"Introduction-1\"><span class=\"toc-item-num\">1&nbsp;&nbsp;</span>Introduction</a></span></li><li><span><a href=\"#Method\" data-toc-modified-id=\"Method-2\"><span class=\"toc-item-num\">2&nbsp;&nbsp;</span>Method</a></span><ul class=\"toc-item\"><li><span><a href=\"#[Option-1]-Pandas-Query\" data-toc-modified-id=\"[Option-1]-Pandas-Query-2.1\"><span class=\"toc-item-num\">2.1&nbsp;&nbsp;</span>[Option 1] Pandas Query</a></span></li><li><span><a href=\"#[Option-2]-Pandas-Logical-operators\" data-toc-modified-id=\"[Option-2]-Pandas-Logical-operators-2.2\"><span class=\"toc-item-num\">2.2&nbsp;&nbsp;</span>[Option 2] Pandas Logical operators</a></span></li><li><span><a href=\"#[Option-3]-Numpy-or-Bitwise-logical-function\" data-toc-modified-id=\"[Option-3]-Numpy-or-Bitwise-logical-function-2.3\"><span class=\"toc-item-num\">2.3&nbsp;&nbsp;</span>[Option 3] Numpy or Bitwise logical function</a></span></li></ul></li><li><span><a href=\"#Summary\" data-toc-modified-id=\"Summary-3\"><span class=\"toc-item-num\">3&nbsp;&nbsp;</span>Summary</a></span><ul class=\"toc-item\"><li><span><a href=\"#Why?\" data-toc-modified-id=\"Why?-3.1\"><span class=\"toc-item-num\">3.1&nbsp;&nbsp;</span>Why?</a></span></li><li><span><a href=\"#Avoiding-Parentheses-Grouping\" data-toc-modified-id=\"Avoiding-Parentheses-Grouping-3.2\"><span class=\"toc-item-num\">3.2&nbsp;&nbsp;</span>Avoiding Parentheses Grouping</a></span></li><li><span><a href=\"#Differences-between-logical-and-bitwise-operations-(on-non-booleans)\" data-toc-modified-id=\"Differences-between-logical-and-bitwise-operations-(on-non-booleans)-3.3\"><span class=\"toc-item-num\">3.3&nbsp;&nbsp;</span>Differences between logical and bitwise operations (on non-booleans)</a></span><ul class=\"toc-item\"><li><span><a href=\"#Logical-&amp;-Bitwise-operators-for-Booleans\" data-toc-modified-id=\"Logical-&amp;-Bitwise-operators-for-Booleans-3.3.1\"><span class=\"toc-item-num\">3.3.1&nbsp;&nbsp;</span>Logical &amp; Bitwise operators for Booleans</a></span></li></ul></li></ul></li><li><span><a href=\"#reference\" data-toc-modified-id=\"reference-4\"><span class=\"toc-item-num\">4&nbsp;&nbsp;</span>reference</a></span></li></ul></div>"
   ]
  },
  {
   "cell_type": "markdown",
   "id": "24900d4c",
   "metadata": {},
   "source": [
    "## Introduction \n",
    "\n",
    "\n"
   ]
  },
  {
   "cell_type": "code",
   "execution_count": 45,
   "id": "9599dfd7",
   "metadata": {
    "ExecuteTime": {
     "end_time": "2022-10-19T05:14:24.673232Z",
     "start_time": "2022-10-19T05:14:24.670356Z"
    }
   },
   "outputs": [],
   "source": [
    "import numpy as np \n",
    "import pandas as pd\n",
    "\n",
    "from IPython.display import display_html\n",
    "def display_side_by_side(*args):\n",
    "    \"\"\"여러 데이터프레임 비교가 쉽게 옆쪽으로 표시한다\"\"\"\n",
    "    html_str=''\n",
    "    for df in args:\n",
    "        html_str += df.to_html()\n",
    "    display_html(html_str.replace('table','table style=\"display:inline\"'), raw=True)"
   ]
  },
  {
   "cell_type": "code",
   "execution_count": 46,
   "id": "b3c39b33",
   "metadata": {
    "ExecuteTime": {
     "end_time": "2022-10-19T05:14:24.819635Z",
     "start_time": "2022-10-19T05:14:24.812302Z"
    }
   },
   "outputs": [
    {
     "data": {
      "text/html": [
       "<div>\n",
       "<style scoped>\n",
       "    .dataframe tbody tr th:only-of-type {\n",
       "        vertical-align: middle;\n",
       "    }\n",
       "\n",
       "    .dataframe tbody tr th {\n",
       "        vertical-align: top;\n",
       "    }\n",
       "\n",
       "    .dataframe thead th {\n",
       "        text-align: right;\n",
       "    }\n",
       "</style>\n",
       "<table border=\"1\" class=\"dataframe\">\n",
       "  <thead>\n",
       "    <tr style=\"text-align: right;\">\n",
       "      <th></th>\n",
       "      <th>age</th>\n",
       "      <th>weight</th>\n",
       "      <th>height</th>\n",
       "    </tr>\n",
       "  </thead>\n",
       "  <tbody>\n",
       "    <tr>\n",
       "      <th>0</th>\n",
       "      <td>10</td>\n",
       "      <td>20</td>\n",
       "      <td>150</td>\n",
       "    </tr>\n",
       "    <tr>\n",
       "      <th>1</th>\n",
       "      <td>10</td>\n",
       "      <td>30</td>\n",
       "      <td>160</td>\n",
       "    </tr>\n",
       "    <tr>\n",
       "      <th>2</th>\n",
       "      <td>21</td>\n",
       "      <td>60</td>\n",
       "      <td>170</td>\n",
       "    </tr>\n",
       "    <tr>\n",
       "      <th>3</th>\n",
       "      <td>22</td>\n",
       "      <td>70</td>\n",
       "      <td>180</td>\n",
       "    </tr>\n",
       "  </tbody>\n",
       "</table>\n",
       "</div>"
      ],
      "text/plain": [
       "   age  weight  height\n",
       "0   10      20     150\n",
       "1   10      30     160\n",
       "2   21      60     170\n",
       "3   22      70     180"
      ]
     },
     "metadata": {},
     "output_type": "display_data"
    }
   ],
   "source": [
    "import pandas as pd\n",
    "# print(pd.__version__)    # 실습할 판다스 버전: 1.0.1\n",
    "data = {\"age\": [10, 10, 21, 22],\n",
    "        \"weight\": [20, 30, 60, 70],\n",
    "       \"height\":[150,160,170,180]}\n",
    "df = pd.DataFrame(data)\n",
    "display(df)"
   ]
  },
  {
   "cell_type": "markdown",
   "id": "32c5b12e",
   "metadata": {},
   "source": [
    "## Method\n",
    "\n",
    "\n",
    "\n",
    "### [Option 1] Pandas Query \n",
    "\n",
    "Query 사용 시 장단점\n",
    "- 장점은 가독성과 편의성이 최대 장점입니다.\n",
    "- 단점은 .loc[ ] 로 구현한 것보다 속도가 느립니다.\n",
    "\n",
    "\n",
    "Query 함수는 아래 6가지 기능을 포함하고 있습니다.\n",
    "\n",
    "1. 비교 연산자( ==, >, >=, <, <=, != )\n",
    "2. in 연산자( in, ==, not in, != )\n",
    "3. 논리 연산자(and, or, not)\n",
    "4. 외부 변수(또는 함수) 참조 연산\n",
    "5. 인덱스 검색\n",
    "6. 문자열 부분검색( str.contains, str.startswith, str.endswith )"
   ]
  },
  {
   "cell_type": "code",
   "execution_count": 48,
   "id": "16fba1a0",
   "metadata": {
    "ExecuteTime": {
     "end_time": "2022-10-19T05:15:50.576364Z",
     "start_time": "2022-10-19T05:15:50.568537Z"
    }
   },
   "outputs": [
    {
     "data": {
      "text/html": [
       "<table style=\"display:inline\" border=\"1\" class=\"dataframe\">\n",
       "  <thead>\n",
       "    <tr style=\"text-align: right;\">\n",
       "      <th></th>\n",
       "      <th>age</th>\n",
       "      <th>weight</th>\n",
       "      <th>height</th>\n",
       "    </tr>\n",
       "  </thead>\n",
       "  <tbody>\n",
       "    <tr>\n",
       "      <th>0</th>\n",
       "      <td>10</td>\n",
       "      <td>20</td>\n",
       "      <td>150</td>\n",
       "    </tr>\n",
       "    <tr>\n",
       "      <th>1</th>\n",
       "      <td>10</td>\n",
       "      <td>30</td>\n",
       "      <td>160</td>\n",
       "    </tr>\n",
       "    <tr>\n",
       "      <th>2</th>\n",
       "      <td>21</td>\n",
       "      <td>60</td>\n",
       "      <td>170</td>\n",
       "    </tr>\n",
       "    <tr>\n",
       "      <th>3</th>\n",
       "      <td>22</td>\n",
       "      <td>70</td>\n",
       "      <td>180</td>\n",
       "    </tr>\n",
       "  </tbody>\n",
       "</table style=\"display:inline\"><table style=\"display:inline\" border=\"1\" class=\"dataframe\">\n",
       "  <thead>\n",
       "    <tr style=\"text-align: right;\">\n",
       "      <th></th>\n",
       "      <th>age</th>\n",
       "      <th>weight</th>\n",
       "      <th>height</th>\n",
       "    </tr>\n",
       "  </thead>\n",
       "  <tbody>\n",
       "    <tr>\n",
       "      <th>0</th>\n",
       "      <td>10</td>\n",
       "      <td>20</td>\n",
       "      <td>150</td>\n",
       "    </tr>\n",
       "    <tr>\n",
       "      <th>1</th>\n",
       "      <td>10</td>\n",
       "      <td>30</td>\n",
       "      <td>160</td>\n",
       "    </tr>\n",
       "  </tbody>\n",
       "</table style=\"display:inline\">"
      ]
     },
     "metadata": {},
     "output_type": "display_data"
    }
   ],
   "source": [
    "str_expr = \"age == 10\"    # 나이가 10 이다 (비교연산자 ==)\n",
    "df_q = df.query(str_expr) # 조건 부합 데이터 추출\n",
    "display_side_by_side(df, df_q)"
   ]
  },
  {
   "cell_type": "code",
   "execution_count": 49,
   "id": "be4463bd",
   "metadata": {
    "ExecuteTime": {
     "end_time": "2022-10-19T05:16:29.293646Z",
     "start_time": "2022-10-19T05:16:29.271597Z"
    }
   },
   "outputs": [
    {
     "data": {
      "text/html": [
       "<table style=\"display:inline\" border=\"1\" class=\"dataframe\">\n",
       "  <thead>\n",
       "    <tr style=\"text-align: right;\">\n",
       "      <th></th>\n",
       "      <th>age</th>\n",
       "      <th>weight</th>\n",
       "      <th>height</th>\n",
       "    </tr>\n",
       "  </thead>\n",
       "  <tbody>\n",
       "    <tr>\n",
       "      <th>0</th>\n",
       "      <td>10</td>\n",
       "      <td>20</td>\n",
       "      <td>150</td>\n",
       "    </tr>\n",
       "    <tr>\n",
       "      <th>1</th>\n",
       "      <td>10</td>\n",
       "      <td>30</td>\n",
       "      <td>160</td>\n",
       "    </tr>\n",
       "    <tr>\n",
       "      <th>2</th>\n",
       "      <td>21</td>\n",
       "      <td>60</td>\n",
       "      <td>170</td>\n",
       "    </tr>\n",
       "    <tr>\n",
       "      <th>3</th>\n",
       "      <td>22</td>\n",
       "      <td>70</td>\n",
       "      <td>180</td>\n",
       "    </tr>\n",
       "  </tbody>\n",
       "</table style=\"display:inline\"><table style=\"display:inline\" border=\"1\" class=\"dataframe\">\n",
       "  <thead>\n",
       "    <tr style=\"text-align: right;\">\n",
       "      <th></th>\n",
       "      <th>age</th>\n",
       "      <th>weight</th>\n",
       "      <th>height</th>\n",
       "    </tr>\n",
       "  </thead>\n",
       "  <tbody>\n",
       "    <tr>\n",
       "      <th>1</th>\n",
       "      <td>10</td>\n",
       "      <td>30</td>\n",
       "      <td>160</td>\n",
       "    </tr>\n",
       "  </tbody>\n",
       "</table style=\"display:inline\">"
      ]
     },
     "metadata": {},
     "output_type": "display_data"
    }
   ],
   "source": [
    "str_expr = \"(age == 10) and (weight >= 30)\" # 나이가 10이고 몸무게가 30kg 이상이다 (소문자 논리연산 and)\n",
    "df_q = df.query(str_expr)                   # 조건 부합 데이터 추출\n",
    "display_side_by_side(df, df_q)"
   ]
  },
  {
   "cell_type": "markdown",
   "id": "faab85e3",
   "metadata": {},
   "source": [
    "### [Option 2] Pandas Logical operators\n",
    "\n",
    "좀 더 빠른 조건색인이 가능 "
   ]
  },
  {
   "cell_type": "code",
   "execution_count": 53,
   "id": "7314ff16",
   "metadata": {
    "ExecuteTime": {
     "end_time": "2022-10-19T05:18:21.788161Z",
     "start_time": "2022-10-19T05:18:19.999758Z"
    }
   },
   "outputs": [
    {
     "name": "stdout",
     "output_type": "stream",
     "text": [
      "255 µs ± 1.66 µs per loop (mean ± std. dev. of 7 runs, 1000 loops each)\n"
     ]
    }
   ],
   "source": [
    "%%timeit -n 1_000\n",
    "df[df['age']==10]"
   ]
  },
  {
   "cell_type": "code",
   "execution_count": 54,
   "id": "67c57a1f",
   "metadata": {
    "ExecuteTime": {
     "end_time": "2022-10-19T05:18:30.046349Z",
     "start_time": "2022-10-19T05:18:21.801639Z"
    }
   },
   "outputs": [
    {
     "name": "stdout",
     "output_type": "stream",
     "text": [
      "1.18 ms ± 3.42 µs per loop (mean ± std. dev. of 7 runs, 1000 loops each)\n"
     ]
    }
   ],
   "source": [
    "%%timeit -n 1_000\n",
    "str_expr = \"age == 10\"    # 나이가 10 이다 (비교연산자 ==)\n",
    "df_q = df.query(str_expr) # 조건 부합 데이터 추출"
   ]
  },
  {
   "cell_type": "code",
   "execution_count": 52,
   "id": "5b3485b3",
   "metadata": {
    "ExecuteTime": {
     "end_time": "2022-10-19T05:17:45.358932Z",
     "start_time": "2022-10-19T05:17:42.254535Z"
    }
   },
   "outputs": [
    {
     "name": "stdout",
     "output_type": "stream",
     "text": [
      "443 µs ± 8.26 µs per loop (mean ± std. dev. of 7 runs, 1000 loops each)\n"
     ]
    }
   ],
   "source": [
    "%%timeit -n 1_000\n",
    "df[(df['age']==10) & (df['weight']>=30)]"
   ]
  },
  {
   "cell_type": "code",
   "execution_count": 50,
   "id": "2846fbcb",
   "metadata": {
    "ExecuteTime": {
     "end_time": "2022-10-19T05:17:33.043876Z",
     "start_time": "2022-10-19T05:17:23.402295Z"
    }
   },
   "outputs": [
    {
     "name": "stdout",
     "output_type": "stream",
     "text": [
      "1.38 ms ± 10.4 µs per loop (mean ± std. dev. of 7 runs, 1000 loops each)\n"
     ]
    }
   ],
   "source": [
    "%%timeit -n 1_000\n",
    "str_expr = \"(age == 10) and (weight >= 30)\" # 나이가 10이고 몸무게가 30kg 이상이다 (소문자 논리연산 and)\n",
    "df_q = df.query(str_expr)                   # 조건 부합 데이터 추출"
   ]
  },
  {
   "cell_type": "markdown",
   "id": "fceb158e",
   "metadata": {},
   "source": [
    "### [Option 3] Numpy or Bitwise logical function\n",
    "\n",
    "당연히 비트 연산이 더 빠르다...\n",
    "\n",
    "\n",
    "```python\n",
    ">>> import numpy as np\n",
    ">>> a1 = np.array([0, 0, 1, 1])\n",
    ">>> a2 = np.array([0, 1, 0, 1])\n",
    "\n",
    ">>> np.logical_and(a1, a2)\n",
    "array([False, False, False,  True])\n",
    ">>> np.bitwise_and(a1, a2)\n",
    "array([0, 0, 0, 1], dtype=int32)\n",
    "```\n"
   ]
  },
  {
   "cell_type": "code",
   "execution_count": 19,
   "id": "b130d751",
   "metadata": {
    "ExecuteTime": {
     "end_time": "2022-10-19T04:29:41.787433Z",
     "start_time": "2022-10-19T04:29:37.846238Z"
    },
    "scrolled": true
   },
   "outputs": [
    {
     "name": "stdout",
     "output_type": "stream",
     "text": [
      "562 µs ± 10.2 µs per loop (mean ± std. dev. of 7 runs, 1000 loops each)\n"
     ]
    }
   ],
   "source": [
    "%%timeit -n 1_000\n",
    "df[np.logical_or(df['age']==10 ,df['weight']>=30)]"
   ]
  },
  {
   "cell_type": "code",
   "execution_count": 29,
   "id": "626487c6",
   "metadata": {
    "ExecuteTime": {
     "end_time": "2022-10-19T04:41:00.488018Z",
     "start_time": "2022-10-19T04:40:57.065961Z"
    }
   },
   "outputs": [
    {
     "name": "stdout",
     "output_type": "stream",
     "text": [
      "488 µs ± 9.46 µs per loop (mean ± std. dev. of 7 runs, 1000 loops each)\n"
     ]
    }
   ],
   "source": [
    "%%timeit -n 1_000\n",
    "df[ np.bitwise_or(df['age']==10 , df['weight']>=30)]"
   ]
  },
  {
   "cell_type": "code",
   "execution_count": 75,
   "id": "3863196c",
   "metadata": {
    "ExecuteTime": {
     "end_time": "2022-10-19T05:36:20.044956Z",
     "start_time": "2022-10-19T05:36:16.233498Z"
    }
   },
   "outputs": [
    {
     "name": "stdout",
     "output_type": "stream",
     "text": [
      "544 µs ± 10.1 µs per loop (mean ± std. dev. of 7 runs, 1000 loops each)\n"
     ]
    }
   ],
   "source": [
    "%%timeit -n 1_000\n",
    "df[np.logical_and.reduce([df['age']==10 ,df['weight']>=30, df['weight']<50])]# For multiple masks, use logical_or.reduce: "
   ]
  },
  {
   "cell_type": "markdown",
   "id": "bdc07e8c",
   "metadata": {},
   "source": [
    "## Summary \n",
    "\n",
    "```\n",
    "Logical operator | NumPy logical function | NumPy bitwise function | Bitwise operator\n",
    "-------------------------------------------------------------------------------------\n",
    "       and       |  np.logical_and        | np.bitwise_and         |        &\n",
    "-------------------------------------------------------------------------------------\n",
    "       or        |  np.logical_or         | np.bitwise_or          |        |\n",
    "-------------------------------------------------------------------------------------\n",
    "                 |  np.logical_xor        | np.bitwise_xor         |        ^\n",
    "-------------------------------------------------------------------------------------\n",
    "       not       |  np.logical_not        | np.invert              |        ~\n",
    "```\n",
    "       "
   ]
  },
  {
   "cell_type": "markdown",
   "id": "319c49bc",
   "metadata": {},
   "source": [
    "### Why? \n",
    "\n",
    "\n",
    "If you do not use parentheses, the expression is evaluated incorrectly. \n",
    "\n",
    "\n",
    "> df['A'] < 5 & df['B'] > 5\n",
    "\n",
    "> df['A'] < (5 & df['B']) > 5\n",
    "\n",
    "python operator 순서에 의해서 논리연산자가 부등식보다 먼저 계산되게 된다. 이것을 피하기 위해 괄호(Parentheses)를 쳐야된다. \n",
    "\n",
    "\n",
    "https://docs.python.org/3/reference/expressions.html#comparisons"
   ]
  },
  {
   "cell_type": "markdown",
   "id": "7af21363",
   "metadata": {},
   "source": [
    "### Avoiding Parentheses Grouping\n",
    "The fix is actually quite simple. Most operators have a corresponding bound method for DataFrames. If the individual masks are built up using functions instead of conditional operators, you will no longer need to group by parens to specify evaluation order:\n",
    "\n",
    "\n",
    "```\n",
    "╒════╤════════════╤════════════╕\n",
    "│    │ Operator   │ Function   │\n",
    "╞════╪════════════╪════════════╡\n",
    "│  0 │ >          │ gt         │\n",
    "├────┼────────────┼────────────┤\n",
    "│  1 │ >=         │ ge         │\n",
    "├────┼────────────┼────────────┤\n",
    "│  2 │ <          │ lt         │\n",
    "├────┼────────────┼────────────┤\n",
    "│  3 │ <=         │ le         │\n",
    "├────┼────────────┼────────────┤\n",
    "│  4 │ ==         │ eq         │\n",
    "├────┼────────────┼────────────┤\n",
    "│  5 │ !=         │ ne         │\n",
    "╘════╧════════════╧════════════╛\n",
    "```"
   ]
  },
  {
   "cell_type": "code",
   "execution_count": 76,
   "id": "c5478474",
   "metadata": {
    "ExecuteTime": {
     "end_time": "2022-10-19T05:36:23.191172Z",
     "start_time": "2022-10-19T05:36:20.060370Z"
    }
   },
   "outputs": [
    {
     "name": "stdout",
     "output_type": "stream",
     "text": [
      "447 µs ± 7.37 µs per loop (mean ± std. dev. of 7 runs, 1000 loops each)\n"
     ]
    }
   ],
   "source": [
    "%%timeit -n 1_000\n",
    "df[df['age'].eq(10) & df['weight'].ge(30)]"
   ]
  },
  {
   "cell_type": "code",
   "execution_count": 77,
   "id": "7f9fb4a2",
   "metadata": {
    "ExecuteTime": {
     "end_time": "2022-10-19T05:36:26.310326Z",
     "start_time": "2022-10-19T05:36:23.204889Z"
    }
   },
   "outputs": [
    {
     "name": "stdout",
     "output_type": "stream",
     "text": [
      "442 µs ± 1.59 µs per loop (mean ± std. dev. of 7 runs, 1000 loops each)\n"
     ]
    }
   ],
   "source": [
    "%%timeit -n 1_000\n",
    "df[(df['age']==10) & (df['weight']>=30)]"
   ]
  },
  {
   "cell_type": "markdown",
   "id": "bb5f7c84",
   "metadata": {},
   "source": [
    "### Differences between logical and bitwise operations (on non-booleans)\n",
    "\n",
    "왜 Bitwise operator 밖에 쓸수 없는 걸까? \n",
    "\n",
    "It is really important to stress that bit and logical operations are only equivalent for Boolean NumPy arrays (and boolean Series & DataFrames). If these don't contain Booleans then the operations will give different results. I'll include examples using NumPy arrays, but the results will be similar for the pandas data structures:\n"
   ]
  },
  {
   "cell_type": "markdown",
   "id": "70529965",
   "metadata": {},
   "source": [
    "#### Logical & Bitwise operators for Booleans\n",
    "\n",
    "\n",
    "Python's and, or and not logical operators are designed to work with scalars. So Pandas had to do one better and override the bitwise operators to achieve vectorized (element-wise) version of this functionality.\n",
    "\n",
    "So the following in python (exp1 and exp2 are expressions which evaluate to a boolean result)...\n",
    "\n",
    "- Logical operators\n",
    "```\n",
    "exp1 and exp2              # Logical AND\n",
    "exp1 or exp2               # Logical OR\n",
    "not exp1                   # Logical NOT\n",
    "```\n",
    "\n",
    "- Bitwise operators\n",
    "```\n",
    "exp1 & exp2                # Element-wise logical AND\n",
    "exp1 | exp2                # Element-wise logical OR\n",
    "~exp1                      # Element-wise logical NOT\n",
    "```"
   ]
  },
  {
   "attachments": {
    "image.png": {
     "image/png": "[encoded data removed]"
    }
   },
   "cell_type": "markdown",
   "id": "3de1734d",
   "metadata": {},
   "source": [
    "![image.png](attachment:image.png)\n",
    "\n",
    "- https://docs.python.org/3/library/stdtypes.html#boolean-operations-and-or-not\n",
    "- https://stackoverflow.com/questions/21415661/logical-operators-for-boolean-indexing-in-pandas\n"
   ]
  },
  {
   "cell_type": "code",
   "execution_count": 78,
   "id": "50eb14ce",
   "metadata": {
    "ExecuteTime": {
     "end_time": "2022-10-19T05:36:26.327374Z",
     "start_time": "2022-10-19T05:36:26.324794Z"
    },
    "scrolled": true
   },
   "outputs": [
    {
     "name": "stdout",
     "output_type": "stream",
     "text": [
      "True\n",
      "True\n",
      "True\n",
      "False\n"
     ]
    }
   ],
   "source": [
    "r = True or True   #// True\n",
    "print(r)\n",
    "r = True or False  #// True\n",
    "print(r)\n",
    "r = False or True  #// True\n",
    "print(r)\n",
    "r = False or False #// False\n",
    "print(r)"
   ]
  },
  {
   "cell_type": "code",
   "execution_count": 79,
   "id": "c03313f5",
   "metadata": {
    "ExecuteTime": {
     "end_time": "2022-10-19T05:36:26.342895Z",
     "start_time": "2022-10-19T05:36:26.340290Z"
    }
   },
   "outputs": [
    {
     "name": "stdout",
     "output_type": "stream",
     "text": [
      "True\n",
      "True\n",
      "True\n",
      "False\n"
     ]
    }
   ],
   "source": [
    "r = True | True   #// True\n",
    "print(r)\n",
    "r = True | False  #// True\n",
    "print(r)\n",
    "r = False | True  #// True\n",
    "print(r)\n",
    "r = False | False #// False\n",
    "print(r)"
   ]
  },
  {
   "cell_type": "markdown",
   "id": "cffd8fd8",
   "metadata": {},
   "source": [
    "for pandas.\n",
    "\n",
    "If in the process of performing logical operation you get a ValueError, then you need to use parentheses for grouping:\n",
    "\n",
    "> (exp1) or (exp2)  ---> error!! \n",
    "\n",
    "> (df['col1'] == x) | (df['col2'] == y) \n",
    "\n",
    "이유는: NumPy 배열과 Pandas.Series와 객체에 논리값이 없기 때문이다."
   ]
  },
  {
   "cell_type": "code",
   "execution_count": 80,
   "id": "ed684eac",
   "metadata": {
    "ExecuteTime": {
     "end_time": "2022-10-19T05:36:26.359714Z",
     "start_time": "2022-10-19T05:36:26.355795Z"
    }
   },
   "outputs": [
    {
     "data": {
      "text/plain": [
       "0     True\n",
       "1     True\n",
       "2    False\n",
       "3    False\n",
       "Name: age, dtype: bool"
      ]
     },
     "metadata": {},
     "output_type": "display_data"
    },
    {
     "data": {
      "text/plain": [
       "0    False\n",
       "1     True\n",
       "2     True\n",
       "3     True\n",
       "Name: weight, dtype: bool"
      ]
     },
     "metadata": {},
     "output_type": "display_data"
    }
   ],
   "source": [
    "display((df['age']==10))\n",
    "display((df['weight']>=30))"
   ]
  },
  {
   "cell_type": "code",
   "execution_count": 81,
   "id": "56a66f6c",
   "metadata": {
    "ExecuteTime": {
     "end_time": "2022-10-19T05:36:26.378264Z",
     "start_time": "2022-10-19T05:36:26.372627Z"
    }
   },
   "outputs": [
    {
     "ename": "ValueError",
     "evalue": "The truth value of a Series is ambiguous. Use a.empty, a.bool(), a.item(), a.any() or a.all().",
     "output_type": "error",
     "traceback": [
      "\u001b[0;31m---------------------------------------------------------------------------\u001b[0m",
      "\u001b[0;31mValueError\u001b[0m                                Traceback (most recent call last)",
      "\u001b[0;32m<ipython-input-81-036bcb87125a>\u001b[0m in \u001b[0;36m<module>\u001b[0;34m\u001b[0m\n\u001b[0;32m----> 1\u001b[0;31m \u001b[0mdf\u001b[0m\u001b[0;34m[\u001b[0m\u001b[0;34m(\u001b[0m\u001b[0mdf\u001b[0m\u001b[0;34m[\u001b[0m\u001b[0;34m'age'\u001b[0m\u001b[0;34m]\u001b[0m\u001b[0;34m==\u001b[0m\u001b[0;36m10\u001b[0m\u001b[0;34m)\u001b[0m \u001b[0;32mand\u001b[0m \u001b[0;34m(\u001b[0m\u001b[0mdf\u001b[0m\u001b[0;34m[\u001b[0m\u001b[0;34m'weight'\u001b[0m\u001b[0;34m]\u001b[0m\u001b[0;34m>=\u001b[0m\u001b[0;36m30\u001b[0m\u001b[0;34m)\u001b[0m\u001b[0;34m]\u001b[0m\u001b[0;34m\u001b[0m\u001b[0;34m\u001b[0m\u001b[0m\n\u001b[0m",
      "\u001b[0;32m~/anaconda3/envs/torch/lib/python3.6/site-packages/pandas/core/generic.py\u001b[0m in \u001b[0;36m__nonzero__\u001b[0;34m(self)\u001b[0m\n\u001b[1;32m   1328\u001b[0m     \u001b[0;32mdef\u001b[0m \u001b[0m__nonzero__\u001b[0m\u001b[0;34m(\u001b[0m\u001b[0mself\u001b[0m\u001b[0;34m)\u001b[0m\u001b[0;34m:\u001b[0m\u001b[0;34m\u001b[0m\u001b[0;34m\u001b[0m\u001b[0m\n\u001b[1;32m   1329\u001b[0m         raise ValueError(\n\u001b[0;32m-> 1330\u001b[0;31m             \u001b[0;34mf\"The truth value of a {type(self).__name__} is ambiguous. \"\u001b[0m\u001b[0;34m\u001b[0m\u001b[0;34m\u001b[0m\u001b[0m\n\u001b[0m\u001b[1;32m   1331\u001b[0m             \u001b[0;34m\"Use a.empty, a.bool(), a.item(), a.any() or a.all().\"\u001b[0m\u001b[0;34m\u001b[0m\u001b[0;34m\u001b[0m\u001b[0m\n\u001b[1;32m   1332\u001b[0m         )\n",
      "\u001b[0;31mValueError\u001b[0m: The truth value of a Series is ambiguous. Use a.empty, a.bool(), a.item(), a.any() or a.all()."
     ]
    }
   ],
   "source": [
    "df[(df['age']==10) and (df['weight']>=30)]"
   ]
  },
  {
   "cell_type": "code",
   "execution_count": 82,
   "id": "49d4e1a5",
   "metadata": {
    "ExecuteTime": {
     "end_time": "2022-10-19T05:36:28.240944Z",
     "start_time": "2022-10-19T05:36:28.233734Z"
    }
   },
   "outputs": [],
   "source": [
    "import numpy as np\n",
    "import pandas as pd\n",
    "\n",
    "arr1 = np.array([True,True,False,False])\n",
    "arr2 = pd.array([False,True,True,True])\n"
   ]
  },
  {
   "cell_type": "code",
   "execution_count": 83,
   "id": "2c730728",
   "metadata": {
    "ExecuteTime": {
     "end_time": "2022-10-19T05:36:28.459290Z",
     "start_time": "2022-10-19T05:36:28.448524Z"
    }
   },
   "outputs": [
    {
     "ename": "ValueError",
     "evalue": "The truth value of an array with more than one element is ambiguous. Use a.any() or a.all()",
     "output_type": "error",
     "traceback": [
      "\u001b[0;31m---------------------------------------------------------------------------\u001b[0m",
      "\u001b[0;31mValueError\u001b[0m                                Traceback (most recent call last)",
      "\u001b[0;32m<ipython-input-83-4e8c5dd85b93>\u001b[0m in \u001b[0;36m<module>\u001b[0;34m\u001b[0m\n\u001b[0;32m----> 1\u001b[0;31m \u001b[0mbool\u001b[0m\u001b[0;34m(\u001b[0m\u001b[0marr\u001b[0m\u001b[0;34m)\u001b[0m\u001b[0;34m\u001b[0m\u001b[0;34m\u001b[0m\u001b[0m\n\u001b[0m",
      "\u001b[0;31mValueError\u001b[0m: The truth value of an array with more than one element is ambiguous. Use a.any() or a.all()"
     ]
    }
   ],
   "source": [
    "bool(arr)"
   ]
  },
  {
   "cell_type": "markdown",
   "id": "c980041e",
   "metadata": {},
   "source": [
    "## reference \n",
    "https://m.blog.naver.com/wideeyed/221867273249\n",
    "\n",
    "https://ponyozzang.tistory.com/608\n",
    "\n",
    "\n",
    "https://m.blog.naver.com/wideeyed/221867273249\n"
   ]
  }
 ],
 "metadata": {
  "hide_input": false,
  "kernelspec": {
   "display_name": "Python 3",
   "language": "python",
   "name": "python3"
  },
  "language_info": {
   "codemirror_mode": {
    "name": "ipython",
    "version": 3
   },
   "file_extension": ".py",
   "mimetype": "text/x-python",
   "name": "python",
   "nbconvert_exporter": "python",
   "pygments_lexer": "ipython3",
   "version": "3.6.13"
  },
  "toc": {
   "base_numbering": 1,
   "nav_menu": {},
   "number_sections": true,
   "sideBar": true,
   "skip_h1_title": true,
   "title_cell": "Table of Contents",
   "title_sidebar": "Contents",
   "toc_cell": true,
   "toc_position": {},
   "toc_section_display": true,
   "toc_window_display": true
  },
  "varInspector": {
   "cols": {
    "lenName": 16,
    "lenType": 16,
    "lenVar": 40
   },
   "kernels_config": {
    "python": {
     "delete_cmd_postfix": "",
     "delete_cmd_prefix": "del ",
     "library": "var_list.py",
     "varRefreshCmd": "print(var_dic_list())"
    },
    "r": {
     "delete_cmd_postfix": ") ",
     "delete_cmd_prefix": "rm(",
     "library": "var_list.r",
     "varRefreshCmd": "cat(var_dic_list()) "
    }
   },
   "types_to_exclude": [
    "module",
    "function",
    "builtin_function_or_method",
    "instance",
    "_Feature"
   ],
   "window_display": false
  }
 },
 "nbformat": 4,
 "nbformat_minor": 5
}
