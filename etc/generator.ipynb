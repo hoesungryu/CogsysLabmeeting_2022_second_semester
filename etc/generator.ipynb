{
 "cells": [
  {
   "cell_type": "code",
   "execution_count": null,
   "metadata": {},
   "outputs": [],
   "source": [
    "\n",
    "\n",
    "iterable 은 for-loop과 같이 사용 할 수 잇다. \n",
    "\n",
    "모든 Gernerator object는 iterable이다.\""
   ]
  },
  {
   "cell_type": "markdown",
   "metadata": {},
   "source": [
    "itertools iterator generator"
   ]
  },
  {
   "cell_type": "markdown",
   "metadata": {},
   "source": [
    "\n",
    "\n",
    "\n",
    "> \"모든 Gernerator object는 iterable이다.\" \n",
    "\n",
    "\n",
    "> \"Generator는 메모리 용량을 많이 사용하는 list, tuple, set, Container의 대안이 될 수 있다.\"\n",
    "\n",
    "\"iterable 은 for-loop과 같이 사용 할 수 있다.\"\n"
   ]
  },
  {
   "cell_type": "markdown",
   "metadata": {},
   "source": [
    "이터레이터 $\\in$"
   ]
  },
  {
   "cell_type": "markdown",
   "metadata": {},
   "source": []
  },
  {
   "cell_type": "code",
   "execution_count": null,
   "metadata": {},
   "outputs": [],
   "source": []
  }
 ],
 "metadata": {
  "language_info": {
   "name": "python"
  },
  "orig_nbformat": 4
 },
 "nbformat": 4,
 "nbformat_minor": 2
}
