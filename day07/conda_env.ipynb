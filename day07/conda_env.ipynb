{
 "cells": [
  {
   "cell_type": "markdown",
   "metadata": {},
   "source": [
    "# Day07 Conda environment\n",
    "\n",
    "\n",
    "--- \n"
   ]
  },
  {
   "cell_type": "markdown",
   "metadata": {},
   "source": [
    "## Make virtual environment with python in MAC/Linux\n",
    "\n",
    "```shell\n",
    "> python3 -m venv example \n",
    "> source example/bin/activate \n",
    "\n",
    "```"
   ]
  },
  {
   "cell_type": "markdown",
   "metadata": {},
   "source": [
    "## Make virtual environment with conda\n",
    "\n",
    "\n",
    "```shell\n",
    ">conda create -n <name of env> python=3.11\n",
    ">conda activate <name of env>\n",
    "```"
   ]
  },
  {
   "cell_type": "markdown",
   "metadata": {},
   "source": [
    "## What is different between conda & pip\n",
    "\n",
    "1. pip definition \n",
    "> pip is the package installer for Python. You can use pip to install packages from the Python Package Index and other indexes. [__reference](https://pypi.org/project/pip/)\n",
    "2. Conda definition\n",
    "> Conda is a cross-platform, language-agnostic binary package manager. It is the package manager used by Anaconda installations, but it may be used for other systems as well. Conda makes environments first-class citizens, making it easy to create independent environments even for C libraries. Conda is written entirely in Python, and is BSD licensed open source [__reference](https://pypi.org/project/conda/)"
   ]
  },
  {
   "cell_type": "markdown",
   "metadata": {},
   "source": [
    "## Packaging & Installation\n",
    "\n",
    "1. Export certain environment \n",
    "- pip \n",
    "```shell\n",
    "> pip freeze > requirements.txt\n",
    "```\n",
    "\n",
    "- conda \n",
    "```shell\n",
    "> conda env export -n <name of env> -f <file_name.yaml>\n",
    "```\n",
    "\n",
    "2. Install Export certain environment \n",
    "- pip \n",
    "```shell\n",
    "> pip install -r requirements.txt\n",
    "```\n",
    "- conda \n",
    "```shell\n",
    "> conda env create  -n <name of env> -f <file_name.yaml>\n",
    "```\n",
    "\n",
    "\n"
   ]
  },
  {
   "cell_type": "markdown",
   "metadata": {},
   "source": [
    "## Experiments"
   ]
  },
  {
   "cell_type": "code",
   "execution_count": 2,
   "metadata": {},
   "outputs": [],
   "source": [
    "!pip3 freeze > requirements.txt"
   ]
  },
  {
   "cell_type": "code",
   "execution_count": 6,
   "metadata": {},
   "outputs": [
    {
     "name": "stdout",
     "output_type": "stream",
     "text": [
      "Overwriting requirements.txt\n"
     ]
    }
   ],
   "source": [
    "%%writefile requirements.txt\n",
    "\n",
    "pandas==0.24.0\n"
   ]
  },
  {
   "cell_type": "code",
   "execution_count": 7,
   "metadata": {},
   "outputs": [
    {
     "name": "stdout",
     "output_type": "stream",
     "text": [
      "\u001b[33mDEPRECATION: Python 2.7 reached the end of its life on January 1st, 2020. Please upgrade your Python as Python 2.7 is no longer maintained. pip 21.0 will drop support for Python 2.7 in January 2021. More details about Python 2 support in pip can be found at https://pip.pypa.io/en/latest/development/release-process/#python-2-support pip 21.0 will remove support for this functionality.\u001b[0m\n",
      "Defaulting to user installation because normal site-packages is not writeable\n",
      "Collecting pandas==0.24.0\n",
      "  Downloading pandas-0.24.0-cp27-cp27m-macosx_10_6_intel.macosx_10_9_intel.macosx_10_9_x86_64.macosx_10_10_intel.macosx_10_10_x86_64.whl (16.7 MB)\n",
      "\u001b[K     |████████████████████████████████| 16.7 MB 5.4 MB/s eta 0:00:01\n",
      "\u001b[?25hRequirement already satisfied: pytz>=2011k in /Library/Python/2.7/site-packages (from pandas==0.24.0->-r requirements.txt (line 2)) (2020.5)\n",
      "Requirement already satisfied: numpy>=1.12.0 in /Library/Python/2.7/site-packages (from pandas==0.24.0->-r requirements.txt (line 2)) (1.16.6)\n",
      "Requirement already satisfied: python-dateutil>=2.5.0 in /Library/Python/2.7/site-packages (from pandas==0.24.0->-r requirements.txt (line 2)) (2.8.1)\n",
      "Requirement already satisfied: six>=1.5 in /Library/Python/2.7/site-packages (from python-dateutil>=2.5.0->pandas==0.24.0->-r requirements.txt (line 2)) (1.15.0)\n",
      "Installing collected packages: pandas\n",
      "  Attempting uninstall: pandas\n",
      "    Found existing installation: pandas 0.24.2\n",
      "    Uninstalling pandas-0.24.2:\n",
      "      Successfully uninstalled pandas-0.24.2\n",
      "Successfully installed pandas-0.24.0\n",
      "\u001b[33mWARNING: You are using pip version 20.3.3; however, version 20.3.4 is available.\n",
      "You should consider upgrading via the '/System/Library/Frameworks/Python.framework/Versions/2.7/Resources/Python.app/Contents/MacOS/Python -m pip install --upgrade pip' command.\u001b[0m\n"
     ]
    }
   ],
   "source": [
    "!pip3 install -r requirements.txt"
   ]
  },
  {
   "cell_type": "code",
   "execution_count": 3,
   "metadata": {},
   "outputs": [],
   "source": [
    "!conda env export -n torch -f torch_env.yaml"
   ]
  },
  {
   "cell_type": "code",
   "execution_count": 6,
   "metadata": {},
   "outputs": [
    {
     "name": "stdout",
     "output_type": "stream",
     "text": [
      "Collecting package metadata (repodata.json): done\n",
      "Solving environment: done\n",
      "Preparing transaction: done\n",
      "Verifying transaction: done\n",
      "Executing transaction: done\n",
      "Installing pip dependencies: | ^C\n",
      "\\ "
     ]
    }
   ],
   "source": [
    "!conda env create -n torch_ -f torch_env.yaml"
   ]
  },
  {
   "cell_type": "code",
   "execution_count": 7,
   "metadata": {},
   "outputs": [
    {
     "name": "stdout",
     "output_type": "stream",
     "text": [
      "# conda environments:\n",
      "#\n",
      "base                  *  /opt/homebrew/anaconda3\n",
      "torch                    /opt/homebrew/anaconda3/envs/torch\n",
      "torch_                   /opt/homebrew/anaconda3/envs/torch_\n",
      "\n"
     ]
    }
   ],
   "source": [
    "!conda env list"
   ]
  },
  {
   "cell_type": "code",
   "execution_count": 9,
   "metadata": {},
   "outputs": [
    {
     "name": "stdout",
     "output_type": "stream",
     "text": [
      "\n",
      "Remove all packages in environment /opt/homebrew/anaconda3/envs/torch_:\n",
      "\n",
      "\n",
      "## Package Plan ##\n",
      "\n",
      "  environment location: /opt/homebrew/anaconda3/envs/torch_\n",
      "\n",
      "\n",
      "The following packages will be REMOVED:\n",
      "\n",
      "  blas-1.0-openblas\n",
      "  brotlipy-0.7.0-py39h1a28f6b_1002\n",
      "  bzip2-1.0.8-h620ffc9_4\n",
      "  c-ares-1.18.1-h3422bc3_0\n",
      "  ca-certificates-2022.9.24-h4653dfc_0\n",
      "  cairo-1.16.0-h29d4eff_2\n",
      "  certifi-2022.9.24-pyhd8ed1ab_0\n",
      "  cffi-1.15.1-py39h22df2f2_0\n",
      "  charset-normalizer-2.0.4-pyhd3eb1b0_0\n",
      "  cryptography-38.0.1-py39h834c97f_0\n",
      "  eigen-3.4.0-hc021e02_0\n",
      "  ffmpeg-4.2.2-h04105a8_0\n",
      "  fontconfig-2.13.94-heb65262_0\n",
      "  freetype-2.12.1-h1192e45_0\n",
      "  gettext-0.21.0-h826f4ad_0\n",
      "  giflib-5.2.1-h1a28f6b_0\n",
      "  glib-2.69.1-h98b2900_1\n",
      "  gmp-6.2.1-hc377ac9_3\n",
      "  gnutls-3.6.15-h887c41c_0\n",
      "  graphite2-1.3.14-hc377ac9_1\n",
      "  gst-plugins-base-1.14.1-hf0a386a_0\n",
      "  gstreamer-1.14.1-he09cfb7_0\n",
      "  harfbuzz-4.3.0-hb1b0ec1_0\n",
      "  hdf5-1.12.1-nompi_had0e5e0_100\n",
      "  icu-68.1-hc377ac9_0\n",
      "  idna-3.4-py39hca03da5_0\n",
      "  jpeg-9e-h1a28f6b_0\n",
      "  krb5-1.19.3-hf9b2bbe_0\n",
      "  lame-3.100-h1a28f6b_0\n",
      "  lcms2-2.12-hba8e193_0\n",
      "  lerc-3.0-hc377ac9_0\n",
      "  libclang-12.0.0-default_hc321e17_4\n",
      "  libcurl-7.85.0-hc6d1d07_0\n",
      "  libcxx-14.0.6-h848a8c0_0\n",
      "  libdeflate-1.8-h1a28f6b_5\n",
      "  libedit-3.1.20191231-hc8eb9b7_2\n",
      "  libev-4.33-h642e427_1\n",
      "  libffi-3.4.2-hc377ac9_4\n",
      "  libgfortran-5.0.0-11_3_0_hca03da5_28\n",
      "  libgfortran5-11.3.0-h009349e_28\n",
      "  libiconv-1.16-h1a28f6b_2\n",
      "  libidn2-2.3.1-h1a28f6b_0\n",
      "  libllvm12-12.0.1-h93073aa_2\n",
      "  libnghttp2-1.46.0-h95c9599_0\n",
      "  libopenblas-0.3.21-h269037a_0\n",
      "  libopus-1.3-h1a28f6b_1\n",
      "  libpng-1.6.37-hb8d0fd4_0\n",
      "  libpq-12.9-h65cfe13_3\n",
      "  libssh2-1.10.0-hb80f160_2\n",
      "  libtasn1-4.16.0-h1a28f6b_0\n",
      "  libtiff-4.4.0-had003b8_1\n",
      "  libunistring-0.9.10-h1a28f6b_0\n",
      "  libvpx-1.10.0-hc377ac9_0\n",
      "  libwebp-1.2.4-h68602c7_0\n",
      "  libwebp-base-1.2.4-h1a28f6b_0\n",
      "  libxml2-2.9.14-h8c5e841_0\n",
      "  libxslt-1.1.35-h9833966_0\n",
      "  llvm-openmp-14.0.6-hc6e5704_0\n",
      "  lz4-c-1.9.3-hc377ac9_0\n",
      "  ncurses-6.3-h1a28f6b_3\n",
      "  nettle-3.7.3-h84b5d62_1\n",
      "  nspr-4.33-hc377ac9_0\n",
      "  nss-3.74-h142855e_0\n",
      "  numpy-1.23.3-py39h42add53_1\n",
      "  numpy-base-1.23.3-py39hadd41eb_1\n",
      "  opencv-4.6.0-py39h8794c10_2\n",
      "  openh264-1.8.0-h98b2900_0\n",
      "  openssl-1.1.1s-h03a7124_0\n",
      "  pcre-8.45-hbdafb3b_0\n",
      "  pillow-9.2.0-py39h4d1bdd5_1\n",
      "  pip-22.2.2-py39hca03da5_0\n",
      "  pixman-0.40.0-h27ca646_0\n",
      "  pycparser-2.21-pyhd3eb1b0_0\n",
      "  pyopenssl-22.0.0-pyhd3eb1b0_0\n",
      "  pysocks-1.7.1-py39hca03da5_0\n",
      "  python-3.9.13-hbdb9e5c_2\n",
      "  pytorch-1.13.0-py3.9_0\n",
      "  qt-main-5.15.2-ha2d02b5_7\n",
      "  qt-webengine-5.15.9-h2903aaf_4\n",
      "  qtwebkit-5.212-h0f11f3c_4\n",
      "  readline-8.2-h1a28f6b_0\n",
      "  requests-2.28.1-py39hca03da5_0\n",
      "  setuptools-65.5.0-py39hca03da5_0\n",
      "  sqlite-3.39.3-h1058600_0\n",
      "  tk-8.6.12-hb8d0fd4_0\n",
      "  torchaudio-0.13.0-py39_cpu\n",
      "  torchvision-0.14.0-py39_cpu\n",
      "  tqdm-4.64.1-py39hca03da5_0\n",
      "  typing_extensions-4.3.0-py39hca03da5_0\n",
      "  tzdata-2022f-h04d1e81_0\n",
      "  urllib3-1.26.12-py39hca03da5_0\n",
      "  wheel-0.37.1-pyhd3eb1b0_0\n",
      "  x264-1!152.20180806-h1a28f6b_0\n",
      "  xz-5.2.6-h1a28f6b_0\n",
      "  zlib-1.2.13-h5a0b063_0\n",
      "  zstd-1.5.2-h8574219_0\n",
      "\n",
      "\n",
      "Preparing transaction: done\n",
      "Verifying transaction: done\n",
      "Executing transaction: done\n"
     ]
    }
   ],
   "source": [
    "!conda remove -n torch_ --all -y"
   ]
  },
  {
   "cell_type": "code",
   "execution_count": 10,
   "metadata": {},
   "outputs": [
    {
     "name": "stdout",
     "output_type": "stream",
     "text": [
      "# conda environments:\n",
      "#\n",
      "base                  *  /opt/homebrew/anaconda3\n",
      "torch                    /opt/homebrew/anaconda3/envs/torch\n",
      "\n"
     ]
    }
   ],
   "source": [
    "!conda env list"
   ]
  },
  {
   "cell_type": "markdown",
   "metadata": {},
   "source": [
    "## Reference: \n",
    "\n",
    "- [make virtual env](https://dojang.io/mod/page/view.php?id=2470)"
   ]
  }
 ],
 "metadata": {
  "kernelspec": {
   "display_name": "Python 3.9.6 64-bit",
   "language": "python",
   "name": "python3"
  },
  "language_info": {
   "codemirror_mode": {
    "name": "ipython",
    "version": 3
   },
   "file_extension": ".py",
   "mimetype": "text/x-python",
   "name": "python",
   "nbconvert_exporter": "python",
   "pygments_lexer": "ipython3",
   "version": "3.9.6"
  },
  "orig_nbformat": 4,
  "vscode": {
   "interpreter": {
    "hash": "31f2aee4e71d21fbe5cf8b01ff0e069b9275f58929596ceb00d14d90e3e16cd6"
   }
  }
 },
 "nbformat": 4,
 "nbformat_minor": 2
}
