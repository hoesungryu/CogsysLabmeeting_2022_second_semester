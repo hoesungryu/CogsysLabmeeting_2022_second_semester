{
 "cells": [
  {
   "cell_type": "markdown",
   "metadata": {},
   "source": [
    "# Day07 Conda environment\n",
    "\n",
    "\n",
    "--- \n"
   ]
  },
  {
   "cell_type": "markdown",
   "metadata": {},
   "source": [
    "## What is different between conda & pip\n",
    "\n",
    "1. pip definition \n",
    "> pip is the package installer for Python. You can use pip to install packages from the Python Package Index and other indexes. [__reference](https://pypi.org/project/pip/)\n",
    "2. Conda definition\n",
    "> Conda is a cross-platform, language-agnostic binary package manager. It is the package manager used by Anaconda installations, but it may be used for other systems as well. Conda makes environments first-class citizens, making it easy to create independent environments even for C libraries. Conda is written entirely in Python, and is BSD licensed open source [__reference](https://pypi.org/project/conda/)"
   ]
  },
  {
   "cell_type": "markdown",
   "metadata": {},
   "source": [
    "## Make virtual environment with python in MAC/Linux\n",
    "\n",
    "```shell\n",
    "> python3 -m venv example \n",
    "> source example/bin/activate \n",
    "\n",
    "```"
   ]
  },
  {
   "cell_type": "markdown",
   "metadata": {},
   "source": [
    "## Make virtual environment with conda\n",
    "\n",
    "\n",
    "```shell\n",
    ">conda create -n <name of env> python=3.11\n",
    ">conda activate <name of env>\n",
    "```"
   ]
  },
  {
   "cell_type": "markdown",
   "metadata": {},
   "source": [
    "## Packaging & Installation\n",
    "\n",
    "1. Export certain environment \n",
    "- pip \n",
    "```shell\n",
    "> pip freeze > requirements.txt\n",
    "```\n",
    "\n",
    "- conda \n",
    "```shell\n",
    "> conda env export -n <name of env> -f <file_name.yaml>\n",
    "```\n",
    "\n",
    "2. Install Export certain environment \n",
    "- pip \n",
    "```shell\n",
    "> pip install -r requirements.txt\n",
    "```\n",
    "- conda \n",
    "```shell\n",
    "> conda env create  -n <name of env> -f <file_name.yaml>\n",
    "```\n",
    "\n",
    "\n"
   ]
  },
  {
   "cell_type": "markdown",
   "metadata": {},
   "source": [
    "## Experiments"
   ]
  },
  {
   "cell_type": "code",
   "execution_count": 5,
   "metadata": {},
   "outputs": [],
   "source": [
    "!pip3 freeze > requirements.txt"
   ]
  },
  {
   "cell_type": "code",
   "execution_count": 6,
   "metadata": {},
   "outputs": [
    {
     "name": "stdout",
     "output_type": "stream",
     "text": [
      "Overwriting requirements.txt\n"
     ]
    }
   ],
   "source": [
    "%%writefile requirements.txt\n",
    "\n",
    "pandas==0.24.0\n"
   ]
  },
  {
   "cell_type": "code",
   "execution_count": 7,
   "metadata": {},
   "outputs": [
    {
     "name": "stdout",
     "output_type": "stream",
     "text": [
      "\u001b[33mDEPRECATION: Python 2.7 reached the end of its life on January 1st, 2020. Please upgrade your Python as Python 2.7 is no longer maintained. pip 21.0 will drop support for Python 2.7 in January 2021. More details about Python 2 support in pip can be found at https://pip.pypa.io/en/latest/development/release-process/#python-2-support pip 21.0 will remove support for this functionality.\u001b[0m\n",
      "Defaulting to user installation because normal site-packages is not writeable\n",
      "Collecting pandas==0.24.0\n",
      "  Downloading pandas-0.24.0-cp27-cp27m-macosx_10_6_intel.macosx_10_9_intel.macosx_10_9_x86_64.macosx_10_10_intel.macosx_10_10_x86_64.whl (16.7 MB)\n",
      "\u001b[K     |████████████████████████████████| 16.7 MB 5.4 MB/s eta 0:00:01\n",
      "\u001b[?25hRequirement already satisfied: pytz>=2011k in /Library/Python/2.7/site-packages (from pandas==0.24.0->-r requirements.txt (line 2)) (2020.5)\n",
      "Requirement already satisfied: numpy>=1.12.0 in /Library/Python/2.7/site-packages (from pandas==0.24.0->-r requirements.txt (line 2)) (1.16.6)\n",
      "Requirement already satisfied: python-dateutil>=2.5.0 in /Library/Python/2.7/site-packages (from pandas==0.24.0->-r requirements.txt (line 2)) (2.8.1)\n",
      "Requirement already satisfied: six>=1.5 in /Library/Python/2.7/site-packages (from python-dateutil>=2.5.0->pandas==0.24.0->-r requirements.txt (line 2)) (1.15.0)\n",
      "Installing collected packages: pandas\n",
      "  Attempting uninstall: pandas\n",
      "    Found existing installation: pandas 0.24.2\n",
      "    Uninstalling pandas-0.24.2:\n",
      "      Successfully uninstalled pandas-0.24.2\n",
      "Successfully installed pandas-0.24.0\n",
      "\u001b[33mWARNING: You are using pip version 20.3.3; however, version 20.3.4 is available.\n",
      "You should consider upgrading via the '/System/Library/Frameworks/Python.framework/Versions/2.7/Resources/Python.app/Contents/MacOS/Python -m pip install --upgrade pip' command.\u001b[0m\n"
     ]
    }
   ],
   "source": [
    "!pip3 install -r requirements.txt"
   ]
  },
  {
   "cell_type": "code",
   "execution_count": 8,
   "metadata": {},
   "outputs": [
    {
     "name": "stdout",
     "output_type": "stream",
     "text": [
      "/Users/hoesungryu/opt/anaconda3/lib/python3.8/multiprocessing/resource_tracker.py:216: UserWarning: resource_tracker: There appear to be 1 leaked semaphore objects to clean up at shutdown\n",
      "  warnings.warn('resource_tracker: There appear to be %d '\n"
     ]
    }
   ],
   "source": [
    "!conda env export -n pytorch -f pytorch_env.yaml"
   ]
  },
  {
   "cell_type": "code",
   "execution_count": null,
   "metadata": {},
   "outputs": [],
   "source": [
    "!conda env create -n pytorch_ -f pytorch_env.yaml"
   ]
  },
  {
   "cell_type": "code",
   "execution_count": 10,
   "metadata": {},
   "outputs": [
    {
     "name": "stdout",
     "output_type": "stream",
     "text": [
      "/Users/hoesungryu/opt/anaconda3/lib/python3.8/multiprocessing/resource_tracker.py:216: UserWarning: resource_tracker: There appear to be 1 leaked semaphore objects to clean up at shutdown\n",
      "  warnings.warn('resource_tracker: There appear to be %d '\n",
      "# conda environments:\n",
      "#\n",
      "base                  *  /Users/hoesungryu/opt/anaconda3\n",
      "Python_algorithms        /Users/hoesungryu/opt/anaconda3/envs/Python_algorithms\n",
      "RL3linkFish              /Users/hoesungryu/opt/anaconda3/envs/RL3linkFish\n",
      "drone                    /Users/hoesungryu/opt/anaconda3/envs/drone\n",
      "psychopy                 /Users/hoesungryu/opt/anaconda3/envs/psychopy\n",
      "psypy3                   /Users/hoesungryu/opt/anaconda3/envs/psypy3\n",
      "python                   /Users/hoesungryu/opt/anaconda3/envs/python\n",
      "pythonProject            /Users/hoesungryu/opt/anaconda3/envs/pythonProject\n",
      "pytorch                  /Users/hoesungryu/opt/anaconda3/envs/pytorch\n",
      "tensorflow               /Users/hoesungryu/opt/anaconda3/envs/tensorflow\n",
      "tensorflow1              /Users/hoesungryu/opt/anaconda3/envs/tensorflow1\n",
      "\n"
     ]
    }
   ],
   "source": [
    "!conda env list"
   ]
  },
  {
   "cell_type": "code",
   "execution_count": 12,
   "metadata": {},
   "outputs": [
    {
     "name": "stdout",
     "output_type": "stream",
     "text": [
      "\n",
      "Remove all packages in environment /Users/hoesungryu/opt/anaconda3/envs/RL3linkFish:\n",
      "\n",
      "\n",
      "## Package Plan ##\n",
      "\n",
      "  environment location: /Users/hoesungryu/opt/anaconda3/envs/RL3linkFish\n",
      "\n",
      "\n",
      "The following packages will be REMOVED:\n",
      "\n",
      "  ca-certificates-2020.11.8-h033912b_0\n",
      "  certifi-2020.11.8-py38h50d1736_0\n",
      "  libcxx-11.0.0-h4c3b8ed_1\n",
      "  libffi-3.3-h74dc148_1\n",
      "  ncurses-6.2-h2e338ed_4\n",
      "  openssl-1.1.1h-haf1e3a3_0\n",
      "  pip-20.3-pyhd8ed1ab_0\n",
      "  python-3.8.6-h3b7b5d6_1_cpython\n",
      "  python_abi-3.8-1_cp38\n",
      "  readline-8.0-h0678c8f_2\n",
      "  setuptools-49.6.0-py38h5347e94_2\n",
      "  sqlite-3.33.0-h960bd1c_1\n",
      "  tk-8.6.10-hb0a8c7a_1\n",
      "  wheel-0.35.1-pyh9f0ad1d_0\n",
      "  xz-5.2.5-haf1e3a3_1\n",
      "  zlib-1.2.11-h7795811_1010\n",
      "\n",
      "\n",
      "Preparing transaction: done\n",
      "Verifying transaction: done\n",
      "Executing transaction: done\n"
     ]
    }
   ],
   "source": [
    "!conda remove -n RL3linkFish --all -y"
   ]
  },
  {
   "cell_type": "markdown",
   "metadata": {},
   "source": [
    "## Reference: \n",
    "\n",
    "- [make virtual env](https://dojang.io/mod/page/view.php?id=2470)"
   ]
  }
 ],
 "metadata": {
  "kernelspec": {
   "display_name": "Python 3.9.6 64-bit",
   "language": "python",
   "name": "python3"
  },
  "language_info": {
   "codemirror_mode": {
    "name": "ipython",
    "version": 3
   },
   "file_extension": ".py",
   "mimetype": "text/x-python",
   "name": "python",
   "nbconvert_exporter": "python",
   "pygments_lexer": "ipython3",
   "version": "3.9.6"
  },
  "orig_nbformat": 4,
  "vscode": {
   "interpreter": {
    "hash": "aee8b7b246df8f9039afb4144a1f6fd8d2ca17a180786b69acc140d282b71a49"
   }
  }
 },
 "nbformat": 4,
 "nbformat_minor": 2
}
