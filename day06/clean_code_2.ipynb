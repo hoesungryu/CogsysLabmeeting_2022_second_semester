{
 "cells": [
  {
   "cell_type": "markdown",
   "id": "4a85c542",
   "metadata": {},
   "source": [
    "# Clean Code\n"
   ]
  },
  {
   "cell_type": "markdown",
   "id": "23d05201",
   "metadata": {},
   "source": [
    "## Introduction\n",
    "\n",
    "- PEP-8: coding convention(=coding style guide)\n",
    "- Usage in Python Class\n"
   ]
  },
  {
   "cell_type": "markdown",
   "id": "4a49afd5",
   "metadata": {},
   "source": [
    "## PEP-8 \n",
    "\n",
    "**https://peps.python.org/pep-0008/**"
   ]
  },
  {
   "cell_type": "markdown",
   "id": "33cadd97",
   "metadata": {},
   "source": [
    "### PEP-8 - indentation \n",
    "\n",
    "```python\n",
    "# indentation - tab or 4-space \n",
    "\n",
    "# list - wrong \n",
    "my_list = [1, 2, 3,\n",
    "    4, 5, 6,]\n",
    "\n",
    "# list - correct \n",
    "my_list = [\n",
    "    1, 2, 3,\n",
    "    4, 5, 6,\n",
    "    ]\n",
    "    \n",
    "my_list = [\n",
    "    1, 2, 3,\n",
    "    4, 5, 6,\n",
    "]\n",
    "\n",
    "# function - correct\n",
    "result = some_function_that_takes_arguments(\n",
    "    'a', 'b', 'c',\n",
    "    'd', 'e', 'f',\n",
    "    )\n",
    "\n",
    "result = some_function_that_takes_arguments(\n",
    "    'a', 'b', 'c',\n",
    "    'd', 'e', 'f',\n",
    ")\n",
    "\n",
    "```\n",
    "\n"
   ]
  },
  {
   "cell_type": "markdown",
   "id": "a6708601",
   "metadata": {},
   "source": [
    "### PEP-8 - maximum input \n",
    "\n",
    "Python's standard library recommends using 79 characters, but if some teams wish, docstrings or comments can be limited to 72 characters and up to 100 characters."
   ]
  },
  {
   "cell_type": "markdown",
   "id": "8d1d74b2",
   "metadata": {},
   "source": [
    "### PEP8 - binary operator\n",
    "\n",
    "```python\n",
    "# Wrong:\n",
    "# operators sit far away from their operands\n",
    "income = (gross_wages +\n",
    "          taxable_interest +\n",
    "          (dividends - qualified_dividends) -\n",
    "          ira_deduction -\n",
    "          student_loan_interest)\n",
    "          \n",
    "# Correct:\n",
    "# easy to match operators with operands\n",
    "income = (gross_wages\n",
    "          + taxable_interest\n",
    "          + (dividends - qualified_dividends)\n",
    "          - ira_deduction\n",
    "          - student_loan_interest)\n",
    "\n",
    "```"
   ]
  },
  {
   "cell_type": "markdown",
   "id": "acbd595e",
   "metadata": {},
   "source": [
    "\n",
    "### PEP-8 - encoding \n",
    "```python \n",
    "# -*- coding: utf-8 -*-\n",
    "```\n",
    "\n",
    "Defaul Python 2에서는 ASCII, Python 3에서는 UTF-8\n",
    "python3 utf-8 encoding을 사용하는 파일에는 인코딩 선언이 없어야 합니다. \n",
    "영어만 사용하면 별로 신경 쓸게 없지만 한글은 euc-kr, utf-8이 공존하기 때문이다.\n",
    "\n"
   ]
  },
  {
   "cell_type": "markdown",
   "id": "552581ed",
   "metadata": {},
   "source": [
    "### PEP-8 - importing\n",
    "\n",
    "Standard Library --> 3rd-Library --> Local Libirary\n",
    "\n",
    "\n",
    "```python \n",
    "import os\n",
    "\n",
    "import numpy\n",
    "import pandas \n",
    "\n",
    "from utils import (avg_time, etc)\n",
    "\n",
    "```"
   ]
  },
  {
   "cell_type": "markdown",
   "id": "a2b71f12",
   "metadata": {},
   "source": [
    "### Easy-way to adjust PEP-8 in our code - Use black"
   ]
  },
  {
   "cell_type": "code",
   "execution_count": 16,
   "id": "24a487af",
   "metadata": {},
   "outputs": [
    {
     "name": "stdout",
     "output_type": "stream",
     "text": [
      "Collecting black\n",
      "  Downloading black-22.10.0-cp39-cp39-macosx_11_0_arm64.whl (1.2 MB)\n",
      "\u001b[2K     \u001b[90m━━━━━━━━━━━━━━━━━━━━━━━━━━━━━━━━━━━━━━━━\u001b[0m \u001b[32m1.2/1.2 MB\u001b[0m \u001b[31m9.5 MB/s\u001b[0m eta \u001b[36m0:00:00\u001b[0ma \u001b[36m0:00:01\u001b[0m\n",
      "\u001b[?25hRequirement already satisfied: typing-extensions>=3.10.0.0 in /opt/homebrew/anaconda3/envs/torch/lib/python3.9/site-packages (from black) (4.3.0)\n",
      "Collecting tomli>=1.1.0\n",
      "  Using cached tomli-2.0.1-py3-none-any.whl (12 kB)\n",
      "Collecting mypy-extensions>=0.4.3\n",
      "  Downloading mypy_extensions-0.4.3-py2.py3-none-any.whl (4.5 kB)\n",
      "Collecting platformdirs>=2\n",
      "  Downloading platformdirs-2.5.3-py3-none-any.whl (14 kB)\n",
      "Collecting click>=8.0.0\n",
      "  Downloading click-8.1.3-py3-none-any.whl (96 kB)\n",
      "\u001b[2K     \u001b[90m━━━━━━━━━━━━━━━━━━━━━━━━━━━━━━━━━━━━━━━━\u001b[0m \u001b[32m96.6/96.6 kB\u001b[0m \u001b[31m6.2 MB/s\u001b[0m eta \u001b[36m0:00:00\u001b[0m\n",
      "\u001b[?25hCollecting pathspec>=0.9.0\n",
      "  Downloading pathspec-0.10.1-py3-none-any.whl (27 kB)\n",
      "Installing collected packages: mypy-extensions, tomli, platformdirs, pathspec, click, black\n",
      "Successfully installed black-22.10.0 click-8.1.3 mypy-extensions-0.4.3 pathspec-0.10.1 platformdirs-2.5.3 tomli-2.0.1\n"
     ]
    }
   ],
   "source": [
    "!pip install black"
   ]
  },
  {
   "cell_type": "code",
   "execution_count": 17,
   "id": "4204cc0c",
   "metadata": {},
   "outputs": [
    {
     "name": "stdout",
     "output_type": "stream",
     "text": [
      "Writing sample.py\n"
     ]
    }
   ],
   "source": [
    "%%writefile sample.py\n",
    "\n",
    "def is_unique(\n",
    "               s\n",
    "               ):\n",
    "    s = list(s\n",
    "                )\n",
    "    s.sort()\n",
    " \n",
    " \n",
    "    for i in range(len(s) - 1):\n",
    "        if s[i] == s[i + 1]:\n",
    "            return 0\n",
    "    else:\n",
    "        return 1\n",
    " \n",
    " \n",
    "if __name__ == \"__main__\":\n",
    "    print(\n",
    "          is_unique(input())\n",
    "         )\n",
    "         "
   ]
  },
  {
   "cell_type": "code",
   "execution_count": 21,
   "id": "8408f696",
   "metadata": {},
   "outputs": [
    {
     "name": "stdout",
     "output_type": "stream",
     "text": [
      "\u001b[1mreformatted sample.py\u001b[0m\n",
      "\n",
      "\u001b[1mAll done! ✨ 🍰 ✨\u001b[0m\n",
      "\u001b[34m\u001b[1m1 file \u001b[0m\u001b[1mreformatted\u001b[0m.\n"
     ]
    }
   ],
   "source": [
    "!black sample.py "
   ]
  },
  {
   "cell_type": "code",
   "execution_count": 22,
   "id": "9f621372",
   "metadata": {},
   "outputs": [],
   "source": [
    "# %load sample.py\n",
    "def is_unique(s):\n",
    "    s = list(s)\n",
    "    s.sort()\n",
    "\n",
    "    for i in range(len(s) - 1):\n",
    "        if s[i] == s[i + 1]:\n",
    "            return 0\n",
    "    else:\n",
    "        return 1\n",
    "\n",
    "\n",
    "if __name__ == \"__main__\":\n",
    "    print(is_unique(input()))\n"
   ]
  },
  {
   "cell_type": "markdown",
   "id": "a5cae67a",
   "metadata": {},
   "source": [
    "## Pythonic Code \n",
    "\n",
    "```python\n",
    "arr = [1, 2, 3, 4] \n",
    "\n",
    "# 파이썬스럽지 않은 코드 \n",
    "result = [] \n",
    "for i in range(len(arr)): \n",
    "\tif arr[i] % 2 == 1: \n",
    "\t\tresult.append(arr[i]) \n",
    "\n",
    "# 파이썬스러운 코드\n",
    "result = [num for num in arr if num % 2]\n",
    "```\n",
    "\n"
   ]
  },
  {
   "cell_type": "code",
   "execution_count": 1,
   "id": "03b04829",
   "metadata": {},
   "outputs": [
    {
     "name": "stdout",
     "output_type": "stream",
     "text": [
      "[0, 1, 2, 3, 4, 5, 6, 7, 8, 9]\n",
      "[0, 1, 2, 3, 4, 5, 6, 7, 8, 9]\n"
     ]
    }
   ],
   "source": [
    "# basic \n",
    "list_ = []\n",
    "for i in range(10):\n",
    "    list_.append(i)\n",
    "print(list_)\n",
    "\n",
    "# list-comprehension\n",
    "list_ = [i for i in range(10)]\n",
    "print(list_)\n"
   ]
  },
  {
   "cell_type": "code",
   "execution_count": 4,
   "id": "c4936d4b",
   "metadata": {},
   "outputs": [
    {
     "name": "stdout",
     "output_type": "stream",
     "text": [
      "{'a': 1, 'b': 2, 'c': 3}\n",
      "{'a': 1, 'b': 2, 'c': 3}\n"
     ]
    }
   ],
   "source": [
    "keys = ['a','b','c']\n",
    "values = [1,2,3]\n",
    "\n",
    "# basic \n",
    "dict_ = {}\n",
    "for key,value in zip(keys,values):\n",
    "    dict_[key] = value\n",
    "print(dict_)\n",
    "\n",
    "# dict-comprehension \n",
    "dict_ = {key:value for key,value in zip(keys,values)}\n",
    "print(dict_)\n"
   ]
  },
  {
   "cell_type": "markdown",
   "id": "5f21fcd0",
   "metadata": {},
   "source": [
    "## Python-Class\n"
   ]
  },
  {
   "cell_type": "code",
   "execution_count": 13,
   "id": "aa227ff4",
   "metadata": {},
   "outputs": [],
   "source": [
    "class Items:\n",
    "    \"\"\"class doctring\"\"\"\n",
    "    __version__= \"0.0.1\"\n",
    "    CLASS_VARIABLE = 'class_variable'\n",
    "\n",
    "    def __init__(self, *values):\n",
    "        self._values = list(values)\n",
    "\n",
    "    ##########################################\n",
    "    # magic method --> Sequence indexing ... \n",
    "    ##########################################\n",
    "    def __len__(self):\n",
    "        return len(self._values)\n",
    "    \n",
    "    \n",
    "    def __getitem__(self, item):\n",
    "        return self._values.__getitem__(item)\n"
   ]
  },
  {
   "cell_type": "code",
   "execution_count": 14,
   "id": "2b1b6481",
   "metadata": {},
   "outputs": [
    {
     "name": "stdout",
     "output_type": "stream",
     "text": [
      "class doctring\n",
      "0.0.1\n",
      "class_variable\n"
     ]
    }
   ],
   "source": [
    "print(Items.__doc__)\n",
    "print(Items.__version__)\n",
    "print(Items.CLASS_VARIABLE)"
   ]
  },
  {
   "cell_type": "code",
   "execution_count": 15,
   "id": "164ecaf0",
   "metadata": {},
   "outputs": [
    {
     "name": "stdout",
     "output_type": "stream",
     "text": [
      "aaa\n"
     ]
    }
   ],
   "source": [
    "Items.CLASS_VARIABLE ='aaa'\n",
    "print(Items.CLASS_VARIABLE)"
   ]
  },
  {
   "cell_type": "code",
   "execution_count": 24,
   "id": "f12ffa74",
   "metadata": {},
   "outputs": [
    {
     "data": {
      "text/plain": [
       "'0.0.1'"
      ]
     },
     "execution_count": 24,
     "metadata": {},
     "output_type": "execute_result"
    }
   ],
   "source": [
    "someItems = Items(1,2,3)\n",
    "someItems[2]"
   ]
  },
  {
   "cell_type": "markdown",
   "id": "73c820c8",
   "metadata": {},
   "source": [
    "## Reference \n",
    "\n",
    "- https://velog.io/@hytenic/Python-Python-Clean-code1\n",
    "- https://sooho-kim.tistory.com/97\n"
   ]
  }
 ],
 "metadata": {
  "hide_input": false,
  "kernelspec": {
   "display_name": "Python 3.6.9 64-bit",
   "language": "python",
   "name": "python3"
  },
  "language_info": {
   "codemirror_mode": {
    "name": "ipython",
    "version": 3
   },
   "file_extension": ".py",
   "mimetype": "text/x-python",
   "name": "python",
   "nbconvert_exporter": "python",
   "pygments_lexer": "ipython3",
   "version": "3.6.9"
  },
  "toc": {
   "base_numbering": 1,
   "nav_menu": {},
   "number_sections": true,
   "sideBar": true,
   "skip_h1_title": false,
   "title_cell": "Table of Contents",
   "title_sidebar": "Contents",
   "toc_cell": false,
   "toc_position": {},
   "toc_section_display": true,
   "toc_window_display": false
  },
  "varInspector": {
   "cols": {
    "lenName": 16,
    "lenType": 16,
    "lenVar": 40
   },
   "kernels_config": {
    "python": {
     "delete_cmd_postfix": "",
     "delete_cmd_prefix": "del ",
     "library": "var_list.py",
     "varRefreshCmd": "print(var_dic_list())"
    },
    "r": {
     "delete_cmd_postfix": ") ",
     "delete_cmd_prefix": "rm(",
     "library": "var_list.r",
     "varRefreshCmd": "cat(var_dic_list()) "
    }
   },
   "types_to_exclude": [
    "module",
    "function",
    "builtin_function_or_method",
    "instance",
    "_Feature"
   ],
   "window_display": false
  },
  "vscode": {
   "interpreter": {
    "hash": "31f2aee4e71d21fbe5cf8b01ff0e069b9275f58929596ceb00d14d90e3e16cd6"
   }
  }
 },
 "nbformat": 4,
 "nbformat_minor": 5
}
