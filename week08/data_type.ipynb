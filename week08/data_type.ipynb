{
 "cells": [
  {
   "cell_type": "markdown",
   "metadata": {},
   "source": [
    "# Data Type"
   ]
  },
  {
   "cell_type": "markdown",
   "metadata": {},
   "source": [
    "## Data Type and Data Structure\n",
    "\n",
    "> A Data type is one of the forms of a variable to which the value can be assigned of a given type only. This value can be used throughout the program.\n",
    "\n",
    "\n",
    "> A Data structure is a collection of data of different data types. This collection of data can be represented using an object and can be used throughout the program."
   ]
  },
  {
   "cell_type": "markdown",
   "metadata": {},
   "source": [
    "## Data Type \n",
    "\n",
    "<img src='https://media.geeksforgeeks.org/wp-content/uploads/20191023173512/Python-data-structure.jpg'>"
   ]
  },
  {
   "cell_type": "markdown",
   "metadata": {},
   "source": [
    "## Sequence \n",
    "\n",
    "All sequences are ordered, integer-indexed, and have length.\n",
    "\n",
    "- String:  Strings are arrays of bytes representing Unicode characters. \n",
    "- List \n",
    "- Tuple"
   ]
  },
  {
   "cell_type": "code",
   "execution_count": 7,
   "metadata": {},
   "outputs": [
    {
     "name": "stdout",
     "output_type": "stream",
     "text": [
      "a_b_c\n",
      "a_b_c\n"
     ]
    }
   ],
   "source": [
    "# combine string \n",
    "\n",
    "print('a' +'_' +  'b' +'_'+ 'c') # bad \n",
    "print('_'.join(['a','b','c'])) # good \n"
   ]
  },
  {
   "cell_type": "markdown",
   "metadata": {},
   "source": [
    "## Collections Moudules \n",
    "\n",
    "> This module implements specialized container datatypes providing alternatives to Python’s general purpose built-in containers, dict, list, set, and tuple.\n",
    "\n",
    "refer.: https://docs.python.org/3/library/collections.html\n",
    "\n",
    "- Counters\n",
    "- OrderedDict\n",
    "- DefaultDict\n",
    "- ChainMap\n",
    "- NamedTuple\n",
    "- DeQue\n",
    "- UserDict\n",
    "- UserList\n",
    "- UserString"
   ]
  },
  {
   "cell_type": "markdown",
   "metadata": {},
   "source": []
  },
  {
   "cell_type": "markdown",
   "metadata": {},
   "source": [
    "## Pandas data structure \n",
    "\n",
    "<img src='https://www.datasciencemadesimple.com/wp-content/uploads/2020/05/create-series-in-python-pandas-0.png'>\n",
    "\n",
    "- `Pandas series` is a One-dimensional ndarray with axis labels\n",
    "- `Pandas DataFrame` is a 2 dimensional data structure, like a 2 dimensional array,"
   ]
  }
 ],
 "metadata": {
  "kernelspec": {
   "display_name": "Python 3.9.6 64-bit",
   "language": "python",
   "name": "python3"
  },
  "language_info": {
   "codemirror_mode": {
    "name": "ipython",
    "version": 3
   },
   "file_extension": ".py",
   "mimetype": "text/x-python",
   "name": "python",
   "nbconvert_exporter": "python",
   "pygments_lexer": "ipython3",
   "version": "3.9.6"
  },
  "orig_nbformat": 4,
  "vscode": {
   "interpreter": {
    "hash": "aee8b7b246df8f9039afb4144a1f6fd8d2ca17a180786b69acc140d282b71a49"
   }
  }
 },
 "nbformat": 4,
 "nbformat_minor": 2
}
