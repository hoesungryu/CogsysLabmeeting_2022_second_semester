{
 "cells": [
  {
   "cell_type": "markdown",
   "metadata": {},
   "source": [
    "# Data Type"
   ]
  },
  {
   "cell_type": "markdown",
   "metadata": {},
   "source": [
    "## Data Type and Data Structure\n",
    "\n",
    "> A Data type is one of the forms of a variable to which the value can be assigned of a given type only. This value can be used throughout the program.\n",
    "\n",
    "\n",
    "> A Data structure is a collection of data of different data types. This collection of data can be represented using an object and can be used throughout the program."
   ]
  },
  {
   "cell_type": "markdown",
   "metadata": {},
   "source": [
    "## Data Type \n",
    "\n",
    "<img src='https://media.geeksforgeeks.org/wp-content/uploads/20191023173512/Python-data-structure.jpg'>"
   ]
  },
  {
   "cell_type": "markdown",
   "metadata": {},
   "source": [
    "## Sequence \n",
    "\n",
    "All sequences are ordered, integer-indexed, and have length.\n",
    "\n",
    "- String\n",
    "- List \n",
    "- Tuple"
   ]
  },
  {
   "cell_type": "code",
   "execution_count": 24,
   "metadata": {},
   "outputs": [
    {
     "name": "stdout",
     "output_type": "stream",
     "text": [
      "a_b_c\n",
      "a/b/c\n"
     ]
    }
   ],
   "source": [
    "# combine string \n",
    "\n",
    "print('a' +'_' +  'b' +'_'+ 'c') # bad \n",
    "print('/'.join(['a','b','c'])) # good \n"
   ]
  },
  {
   "cell_type": "code",
   "execution_count": 26,
   "metadata": {},
   "outputs": [
    {
     "name": "stdout",
     "output_type": "stream",
     "text": [
      "README.md \u001b[1m\u001b[36mday02\u001b[m\u001b[m     \u001b[1m\u001b[36mday04\u001b[m\u001b[m     \u001b[1m\u001b[36mday06\u001b[m\u001b[m     \u001b[1m\u001b[36mweek08\u001b[m\u001b[m\n",
      "\u001b[1m\u001b[36mday01\u001b[m\u001b[m     \u001b[1m\u001b[36mday03\u001b[m\u001b[m     \u001b[1m\u001b[36mday05\u001b[m\u001b[m     \u001b[1m\u001b[36mday07\u001b[m\u001b[m\n"
     ]
    }
   ],
   "source": [
    "!ls ../"
   ]
  },
  {
   "cell_type": "code",
   "execution_count": 30,
   "metadata": {},
   "outputs": [
    {
     "name": "stdout",
     "output_type": "stream",
     "text": [
      "../day07\n",
      "../day06\n",
      "../day01\n",
      "../week08\n",
      "../README.md\n",
      "../day04\n",
      "../day03\n",
      "../day02\n",
      "../day05\n",
      "../.git\n"
     ]
    }
   ],
   "source": [
    "import os \n",
    "\n",
    "for file_path in os.listdir('../'):\n",
    "    print(os.path.join('../'+file_path))"
   ]
  },
  {
   "cell_type": "code",
   "execution_count": 31,
   "metadata": {},
   "outputs": [
    {
     "name": "stdout",
     "output_type": "stream",
     "text": [
      "../README.md\n",
      "../day01\n",
      "../day02\n",
      "../day03\n",
      "../day04\n",
      "../day05\n",
      "../day06\n",
      "../day07\n",
      "../week08\n"
     ]
    }
   ],
   "source": [
    "from glob import glob \n",
    "\n",
    "for file_path in sorted(glob('../'+'/*')):\n",
    "    print(file_path)"
   ]
  },
  {
   "cell_type": "markdown",
   "metadata": {},
   "source": [
    "## Collections Moudules \n",
    "\n",
    "> This module implements specialized container datatypes providing alternatives to Python’s general purpose built-in containers, dict, list, set, and tuple.\n",
    "\n",
    "refer.: https://docs.python.org/3/library/collections.html\n",
    "\n",
    "- Counters\n",
    "- OrderedDict\n",
    "- DefaultDict\n",
    "- ChainMap\n",
    "- NamedTuple\n",
    "- DeQue\n",
    "- UserDict\n",
    "- UserList\n",
    "- UserString"
   ]
  },
  {
   "cell_type": "code",
   "execution_count": 9,
   "metadata": {},
   "outputs": [
    {
     "name": "stdout",
     "output_type": "stream",
     "text": [
      "Counter({'B': 5, 'A': 3, 'C': 2})\n"
     ]
    }
   ],
   "source": [
    "from collections import Counter \n",
    "    \n",
    "items = ['B','B','A',\n",
    "          'B','C','A',\n",
    "          'B','B','A',\n",
    "          'C']\n",
    "\n",
    "# With sequence of items  \n",
    "print(Counter(items))\n",
    "    "
   ]
  },
  {
   "cell_type": "code",
   "execution_count": null,
   "metadata": {},
   "outputs": [],
   "source": [
    "for i in items:\n",
    "    if i =='B':\n",
    "        c+=1"
   ]
  },
  {
   "cell_type": "code",
   "execution_count": 10,
   "metadata": {},
   "outputs": [
    {
     "name": "stdout",
     "output_type": "stream",
     "text": [
      "normal dict: {'a': 1, 'b': 2, 'c': 3, 'd': 4}\n",
      "ordered dict: OrderedDict([('a', 1), ('b', 2), ('c', 3), ('d', 4)])\n"
     ]
    }
   ],
   "source": [
    "from collections import OrderedDict \n",
    "\n",
    "d = {} \n",
    "d['a'] = 1\n",
    "d['b'] = 2\n",
    "d['c'] = 3\n",
    "d['d'] = 4\n",
    "\n",
    "od = OrderedDict() \n",
    "od['a'] = 1\n",
    "od['b'] = 2\n",
    "od['c'] = 3\n",
    "od['d'] = 4\n",
    "\n",
    "print('normal dict:',d)\n",
    "print('ordered dict:',od)\n"
   ]
  },
  {
   "cell_type": "code",
   "execution_count": 11,
   "metadata": {},
   "outputs": [
    {
     "name": "stdout",
     "output_type": "stream",
     "text": [
      "Before inserting OrderedDict([('b', 2), ('c', 3), ('d', 4)])\n",
      "After re-inserting OrderedDict([('b', 2), ('c', 3), ('d', 4), ('a', 1)])\n"
     ]
    }
   ],
   "source": [
    "# deleting element\n",
    "od.pop('a')\n",
    "print('Before inserting',od)\n",
    "\n",
    "# Re-inserting the same\n",
    "od['a'] = 1\n",
    "print('After re-inserting',od)"
   ]
  },
  {
   "cell_type": "code",
   "execution_count": 12,
   "metadata": {},
   "outputs": [
    {
     "name": "stdout",
     "output_type": "stream",
     "text": [
      "Dictionary with values as list:\n",
      "defaultdict(<class 'list'>, {0: [0], 1: [1], 2: [2], 3: [3], 4: [4]})\n"
     ]
    }
   ],
   "source": [
    "from collections import defaultdict \n",
    "    \n",
    "# Defining a dict \n",
    "d = defaultdict(list) \n",
    "    \n",
    "for i in range(5): \n",
    "    d[i].append(i) \n",
    "        \n",
    "print(\"Dictionary with values as list:\") \n",
    "print(d)"
   ]
  },
  {
   "cell_type": "code",
   "execution_count": 37,
   "metadata": {},
   "outputs": [
    {
     "name": "stdout",
     "output_type": "stream",
     "text": [
      "Dictionary with values as list:\n",
      "defaultdict(<function <lambda> at 0x113537f70>, {0: 10, 1: 11, 2: 12, 3: 13, 4: 14})\n"
     ]
    }
   ],
   "source": [
    "from collections import defaultdict \n",
    "    \n",
    "# Defining a dict \n",
    "d = defaultdict(lambda:10) \n",
    "    \n",
    "for i in range(5): \n",
    "    d[i] += i\n",
    "        \n",
    "print(\"Dictionary with values as list:\") \n",
    "print(d)"
   ]
  },
  {
   "cell_type": "code",
   "execution_count": 47,
   "metadata": {},
   "outputs": [
    {
     "name": "stdout",
     "output_type": "stream",
     "text": [
      "ChainMap({'a': 1, 'b': 2}, {'a': 3, 'd': 4}, {'e': 5, 'f': 6})\n",
      "1\n",
      "2\n",
      "6\n"
     ]
    }
   ],
   "source": [
    "from collections import ChainMap \n",
    "     \n",
    "     \n",
    "d1 = {'a': 1, 'b': 2}\n",
    "d2 = {'a': 3, 'd': 4}\n",
    "d3 = {'e': 5, 'f': 6}\n",
    "  \n",
    "# Defining the chainmap \n",
    "c = ChainMap(d1, d2, d3) \n",
    "     \n",
    "print(c)\n",
    "print(c['a'])\n",
    "print(c['b'])\n",
    "print(c['f'])\n"
   ]
  },
  {
   "cell_type": "code",
   "execution_count": 13,
   "metadata": {},
   "outputs": [
    {
     "name": "stdout",
     "output_type": "stream",
     "text": [
      "Student(name='Hoesung', age='32')\n",
      "Hoesung\n",
      "32\n"
     ]
    }
   ],
   "source": [
    "from collections import namedtuple\n",
    "    \n",
    "# Declaring namedtuple() \n",
    "Student = namedtuple('Student',['name','age'])\n",
    "Coordinates = namedtuple('Coordinates',['x','y','z'])  \n",
    "\n",
    "\n",
    "# Adding values \n",
    "S1 = Student('Hoesung','32')\n",
    "S2 = Student('Heeseung','30')\n",
    "\n",
    "print(S1)\n",
    "print(S1.name)\n",
    "print(S1.age)\n",
    "    "
   ]
  },
  {
   "cell_type": "markdown",
   "metadata": {},
   "source": [
    "## Deque (Doubly Ended Queue) \n",
    "\n",
    "> Definition: Deque is the optimized list for quicker append and pop operations from both sides of the container. It provides O(1) time complexity for append and pop operations as compared to list with O(n) time complexity.\n",
    "\n",
    "\n",
    "\n",
    "### Queue & Stack \n",
    "\n",
    "- Queue: FIFO(First In First Out)\n",
    "\n",
    "<img src='https://img1.daumcdn.net/thumb/R1280x0/?scode=mtistory2&fname=https%3A%2F%2Ft1.daumcdn.net%2Fcfile%2Ftistory%2F99130E405AA92FB501' width=15%>\n",
    "<br>\n",
    "\n",
    "- Stack : LIFO(Last In First Out) \n",
    "\n",
    "<img src='https://img1.daumcdn.net/thumb/R1280x0/?scode=mtistory2&fname=https%3A%2F%2Ft1.daumcdn.net%2Fcfile%2Ftistory%2F9994B53E5AA92F6613' width=15%>\n"
   ]
  },
  {
   "cell_type": "code",
   "execution_count": 25,
   "metadata": {},
   "outputs": [
    {
     "name": "stdout",
     "output_type": "stream",
     "text": [
      "original deque([1, 2, 3])\n",
      "--- Insert ---\n",
      "append deque([1, 2, 3, 4])\n",
      "append left: deque([6, 1, 2, 3, 4])\n"
     ]
    }
   ],
   "source": [
    "# Deque\n",
    "\n",
    "from collections import deque \n",
    "    \n",
    "# initializing deque \n",
    "de = deque([1,2,3]) \n",
    "print('original', de)\n",
    "\n",
    "\n",
    "print('--- Insert ---')\n",
    "# using append() to insert element at right end  \n",
    "# inserts 4 at the end of deque \n",
    "de.append(4) \n",
    "print('append', de)\n",
    "\n",
    "# inserts 6 at the beginning of deque \n",
    "de.appendleft(6) \n",
    "print('append left:',de)"
   ]
  },
  {
   "cell_type": "code",
   "execution_count": 26,
   "metadata": {},
   "outputs": [
    {
     "name": "stdout",
     "output_type": "stream",
     "text": [
      "original deque([6, 1, 2, 3, 4])\n",
      "-- delete --- \n",
      "pop\n",
      ": deque([6, 1, 2, 3])\n",
      "pop left\n",
      ": deque([1, 2, 3])\n"
     ]
    }
   ],
   "source": [
    "print('original', de)\n",
    "\n",
    "print('-- delete --- ')\n",
    "# using pop() to delete element from right end  \n",
    "# deletes 4 from the right end of deque \n",
    "de.pop() \n",
    "print (\"pop\\n:\",de) \n",
    "    \n",
    "# using popleft() to delete element from left end  \n",
    "# deletes 6 from the left end of deque \n",
    "de.popleft()\n",
    "print (\"pop left\\n:\", de) "
   ]
  },
  {
   "cell_type": "markdown",
   "metadata": {},
   "source": [
    "## Pandas data structure \n",
    "\n",
    "<img src='https://www.datasciencemadesimple.com/wp-content/uploads/2020/05/create-series-in-python-pandas-0.png'>\n",
    "\n",
    "- `Pandas series` is a One-dimensional ndarray with axis labels\n",
    "- `Pandas DataFrame` is a 2 dimensional data structure, like a 2 dimensional array,"
   ]
  }
 ],
 "metadata": {
  "kernelspec": {
   "display_name": "Python 3.6.9 64-bit",
   "language": "python",
   "name": "python3"
  },
  "language_info": {
   "codemirror_mode": {
    "name": "ipython",
    "version": 3
   },
   "file_extension": ".py",
   "mimetype": "text/x-python",
   "name": "python",
   "nbconvert_exporter": "python",
   "pygments_lexer": "ipython3",
   "version": "3.9.6"
  },
  "orig_nbformat": 4,
  "vscode": {
   "interpreter": {
    "hash": "31f2aee4e71d21fbe5cf8b01ff0e069b9275f58929596ceb00d14d90e3e16cd6"
   }
  }
 },
 "nbformat": 4,
 "nbformat_minor": 2
}
