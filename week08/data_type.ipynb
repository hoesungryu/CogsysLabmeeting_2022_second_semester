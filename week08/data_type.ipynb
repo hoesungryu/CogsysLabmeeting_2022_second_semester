{
 "cells": [
  {
   "cell_type": "markdown",
   "metadata": {},
   "source": [
    "# Data Type"
   ]
  },
  {
   "cell_type": "markdown",
   "metadata": {},
   "source": [
    "## Data Type and Data Structure\n",
    "\n",
    "> A Data type is one of the forms of a variable to which the value can be assigned of a given type only. This value can be used throughout the program.\n",
    "\n",
    "\n",
    "> A Data structure is a collection of data of different data types. This collection of data can be represented using an object and can be used throughout the program."
   ]
  },
  {
   "cell_type": "markdown",
   "metadata": {},
   "source": [
    "## Data Type \n",
    "\n",
    "<img src='https://media.geeksforgeeks.org/wp-content/uploads/20191023173512/Python-data-structure.jpg'>"
   ]
  },
  {
   "cell_type": "markdown",
   "metadata": {},
   "source": [
    "## Sequence \n",
    "\n",
    "All sequences are ordered, integer-indexed, and have length.\n",
    "\n",
    "- String\n",
    "- List \n",
    "- Tuple"
   ]
  },
  {
   "cell_type": "code",
   "execution_count": 7,
   "metadata": {},
   "outputs": [
    {
     "name": "stdout",
     "output_type": "stream",
     "text": [
      "a_b_c\n",
      "a_b_c\n"
     ]
    }
   ],
   "source": [
    "# combine string \n",
    "\n",
    "print('a' +'_' +  'b' +'_'+ 'c') # bad \n",
    "print('_'.join(['a','b','c'])) # good \n"
   ]
  },
  {
   "cell_type": "markdown",
   "metadata": {},
   "source": [
    "## Collections Moudules \n",
    "\n",
    "> This module implements specialized container datatypes providing alternatives to Python’s general purpose built-in containers, dict, list, set, and tuple.\n",
    "\n",
    "refer.: https://docs.python.org/3/library/collections.html\n",
    "\n",
    "- Counters\n",
    "- OrderedDict\n",
    "- DefaultDict\n",
    "- ChainMap\n",
    "- NamedTuple\n",
    "- DeQue\n",
    "- UserDict\n",
    "- UserList\n",
    "- UserString"
   ]
  },
  {
   "cell_type": "code",
   "execution_count": 9,
   "metadata": {},
   "outputs": [
    {
     "name": "stdout",
     "output_type": "stream",
     "text": [
      "Counter({'B': 5, 'A': 3, 'C': 2})\n"
     ]
    }
   ],
   "source": [
    "from collections import Counter \n",
    "    \n",
    "items = ['B','B','A',\n",
    "          'B','C','A',\n",
    "          'B','B','A',\n",
    "          'C']\n",
    "\n",
    "# With sequence of items  \n",
    "print(Counter(items))\n",
    "    "
   ]
  },
  {
   "cell_type": "code",
   "execution_count": 10,
   "metadata": {},
   "outputs": [
    {
     "name": "stdout",
     "output_type": "stream",
     "text": [
      "normal dict: {'a': 1, 'b': 2, 'c': 3, 'd': 4}\n",
      "ordered dict: OrderedDict([('a', 1), ('b', 2), ('c', 3), ('d', 4)])\n"
     ]
    }
   ],
   "source": [
    "from collections import OrderedDict \n",
    "\n",
    "d = {} \n",
    "d['a'] = 1\n",
    "d['b'] = 2\n",
    "d['c'] = 3\n",
    "d['d'] = 4\n",
    "\n",
    "od = OrderedDict() \n",
    "od['a'] = 1\n",
    "od['b'] = 2\n",
    "od['c'] = 3\n",
    "od['d'] = 4\n",
    "\n",
    "print('normal dict:',d)\n",
    "print('ordered dict:',od)\n"
   ]
  },
  {
   "cell_type": "code",
   "execution_count": 11,
   "metadata": {},
   "outputs": [
    {
     "name": "stdout",
     "output_type": "stream",
     "text": [
      "Before inserting OrderedDict([('b', 2), ('c', 3), ('d', 4)])\n",
      "After re-inserting OrderedDict([('b', 2), ('c', 3), ('d', 4), ('a', 1)])\n"
     ]
    }
   ],
   "source": [
    "# deleting element\n",
    "od.pop('a')\n",
    "print('Before inserting',od)\n",
    "\n",
    "# Re-inserting the same\n",
    "od['a'] = 1\n",
    "print('After re-inserting',od)"
   ]
  },
  {
   "cell_type": "code",
   "execution_count": 12,
   "metadata": {},
   "outputs": [
    {
     "name": "stdout",
     "output_type": "stream",
     "text": [
      "Dictionary with values as list:\n",
      "defaultdict(<class 'list'>, {0: [0], 1: [1], 2: [2], 3: [3], 4: [4]})\n"
     ]
    }
   ],
   "source": [
    "from collections import defaultdict \n",
    "    \n",
    "# Defining a dict \n",
    "d = defaultdict(list) \n",
    "    \n",
    "for i in range(5): \n",
    "    d[i].append(i) \n",
    "        \n",
    "print(\"Dictionary with values as list:\") \n",
    "print(d)"
   ]
  },
  {
   "cell_type": "code",
   "execution_count": 19,
   "metadata": {},
   "outputs": [
    {
     "name": "stdout",
     "output_type": "stream",
     "text": [
      "Dictionary with values as list:\n",
      "defaultdict(<function <lambda> at 0x1134f8160>, {0: 10, 1: 11, 2: 12, 3: 13, 4: 14})\n"
     ]
    }
   ],
   "source": [
    "from collections import defaultdict \n",
    "    \n",
    "# Defining a dict \n",
    "d = defaultdict(lambda:10) \n",
    "    \n",
    "for i in range(5): \n",
    "    d[i] += i \n",
    "        \n",
    "print(\"Dictionary with values as list:\") \n",
    "print(d)"
   ]
  },
  {
   "cell_type": "markdown",
   "metadata": {},
   "source": [
    "## Pandas data structure \n",
    "\n",
    "<img src='https://www.datasciencemadesimple.com/wp-content/uploads/2020/05/create-series-in-python-pandas-0.png'>\n",
    "\n",
    "- `Pandas series` is a One-dimensional ndarray with axis labels\n",
    "- `Pandas DataFrame` is a 2 dimensional data structure, like a 2 dimensional array,"
   ]
  }
 ],
 "metadata": {
  "kernelspec": {
   "display_name": "Python 3.9.6 64-bit",
   "language": "python",
   "name": "python3"
  },
  "language_info": {
   "codemirror_mode": {
    "name": "ipython",
    "version": 3
   },
   "file_extension": ".py",
   "mimetype": "text/x-python",
   "name": "python",
   "nbconvert_exporter": "python",
   "pygments_lexer": "ipython3",
   "version": "3.9.6"
  },
  "orig_nbformat": 4,
  "vscode": {
   "interpreter": {
    "hash": "aee8b7b246df8f9039afb4144a1f6fd8d2ca17a180786b69acc140d282b71a49"
   }
  }
 },
 "nbformat": 4,
 "nbformat_minor": 2
}
