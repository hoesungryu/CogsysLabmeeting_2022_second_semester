{
 "cells": [
  {
   "cell_type": "code",
   "execution_count": null,
   "id": "c1cd94f8",
   "metadata": {},
   "outputs": [],
   "source": []
  },
  {
   "cell_type": "markdown",
   "id": "23d05201",
   "metadata": {},
   "source": [
    "## Clean Code \n",
    "\n",
    "책임이 다르면 컴포넌트, 계층 또는 모듈로 분리되어야 한다. 프로그램의 각 부분은 자신의 관심사에 대해서만 책임을 지며 나머지 부분에 대해서는 알 필요가 없다.\n",
    "\n",
    "소프트웨어에서 관심사를 분리하는 목표는 파급 효과를 최소화하여 유지보수성을 향상시키는 것이다. 파급 효과는 어느 지점의 변화가 프로그램 전체로 전파되는 것을 의미한다. 소프트웨어는 쉽게 변경될 수 있어야 한다.\n",
    "\n",
    "응집력\n",
    "\n",
    "응집력이란 객체가 잘 정의된 목적을 가져야 하며 가능하면 작아야 한다는 것을 의미한다. 응집력이 높을수록 코드의 재사용성은 높아진다.\n",
    "\n",
    "결합력\n",
    "\n",
    "결합력이란 두 개 이상의 객체가 서로 어떻게 의존하는지를 나타낸다. 두 개 이상의 객체간의 의존도가 높으면 낮은 재사용성과 파급효과가 발생하여 우리가 원하는 소프트웨어 디자인과는 다른 방향으로 개발될 가능성이 크다\n",
    "\n",
    "\n",
    "\n",
    "- PEP-8 \n",
    "- PEP-3107 "
   ]
  },
  {
   "cell_type": "markdown",
   "id": "33cadd97",
   "metadata": {},
   "source": [
    "### PEP-8 - indentation \n",
    "\n",
    "```python \n",
    "# 들여쓰기 - 괄호\n",
    "\n",
    "# 내용에 줄 맞추기 가능\n",
    "my_list = [\n",
    "    1, 2, 3,\n",
    "    4, 5, 6,\n",
    "    ]\n",
    "    \n",
    "result = some_function_that_takes_arguments(\n",
    "    'a', 'b', 'c',\n",
    "    'd', 'e', 'f',\n",
    "    )\n",
    "    \n",
    "# 맨 앞에 맞추는 것도 가능\n",
    "my_list = [\n",
    "    1, 2, 3,\n",
    "    4, 5, 6,\n",
    "]\n",
    "result = some_function_that_takes_arguments(\n",
    "    'a', 'b', 'c',\n",
    "    'd', 'e', 'f',\n",
    ")\n",
    "\n",
    "\n",
    "```\n",
    "\n",
    "\n",
    "### PEP-8 - maximum input \n",
    "\n",
    "Python's standard library recommends using 79 characters, but if some teams wish, docstrings or comments can be limited to 72 characters and up to 100 characters.\n",
    "\n",
    "\n",
    "\n",
    "### PEP8 - binary operator\n",
    "\n",
    "\n",
    "# Wrong:\n",
    "# operators sit far away from their operands\n",
    "income = (gross_wages +\n",
    "          taxable_interest +\n",
    "          (dividends - qualified_dividends) -\n",
    "          ira_deduction -\n",
    "          student_loan_interest)\n",
    "          \n",
    "# Correct:\n",
    "# easy to match operators with operands\n",
    "income = (gross_wages\n",
    "          + taxable_interest\n",
    "          + (dividends - qualified_dividends)\n",
    "          - ira_deduction\n",
    "          - student_loan_interest)\n",
    "\n",
    "\n",
    "### PEP-8 - encoding \n",
    "```python \n",
    "# -*- coding: utf-8 -*-\n",
    "```\n",
    "\n",
    "Defaul Python 2에서는 ASCII, Python 3에서는 UTF-8\n",
    "python3 utf-8 encoding을 사용하는 파일에는 인코딩 선언이 없어야 합니다. \n",
    "\n",
    "\n",
    "### PEP-8 - importing\n",
    "\n",
    "표준 라이브러리 임포트--> 제 3자 임포트--> 로컬 라이브러리 임포트"
   ]
  },
  {
   "cell_type": "code",
   "execution_count": null,
   "id": "24a487af",
   "metadata": {},
   "outputs": [],
   "source": [
    "# black 적용하기 \n"
   ]
  },
  {
   "cell_type": "code",
   "execution_count": null,
   "id": "4204cc0c",
   "metadata": {},
   "outputs": [],
   "source": []
  },
  {
   "cell_type": "markdown",
   "id": "5089bc6b",
   "metadata": {},
   "source": [
    "## Acronym of develping \n",
    "- DRY/OAOO: `'Do not Repeat Yourself' & 'Once and Only Once'`\n",
    "- \n",
    "- EAFP/LBYL\n",
    "\n"
   ]
  },
  {
   "cell_type": "markdown",
   "id": "a5cae67a",
   "metadata": {},
   "source": [
    "## Pythonic Code \n",
    "\n",
    "```python\n",
    "arr = [1, 2, 3, 4] \n",
    "\n",
    "# 파이썬스럽지 않은 코드 \n",
    "result = [] \n",
    "for i in range(len(arr)): \n",
    "\tif arr[i] % 2 == 1: \n",
    "\t\tresult.append(arr[i]) \n",
    "\n",
    "# 파이썬스러운 코드\n",
    "result = [num for num in arr if num % 2]\n",
    "```\n",
    "\n"
   ]
  },
  {
   "cell_type": "code",
   "execution_count": null,
   "id": "03b04829",
   "metadata": {},
   "outputs": [],
   "source": [
    "# list-comprehension\n",
    "\n",
    "\n",
    "# dict-comprehension \n",
    "\n"
   ]
  },
  {
   "cell_type": "markdown",
   "id": "5f21fcd0",
   "metadata": {},
   "source": [
    "## Python-Class\n"
   ]
  },
  {
   "cell_type": "code",
   "execution_count": 22,
   "id": "aa227ff4",
   "metadata": {},
   "outputs": [],
   "source": [
    "class Items:\n",
    "    \"\"\"class doctring\"\"\"\n",
    "    __version__= \"0.0.1\"\n",
    "    CLASS_VARIABLE = 'class_variable'\n",
    "\n",
    "    def __init__(self, *values):\n",
    "        self._values = list(values)\n",
    "    \n",
    "    def __len__(self):\n",
    "        return len(self._values)\n",
    "    \n",
    "    # magic method --> Sequence indexing ... \n",
    "    def __getitem__(self, item):\n",
    "        return self._values.__getitem__(item)\n"
   ]
  },
  {
   "cell_type": "code",
   "execution_count": 23,
   "id": "2b1b6481",
   "metadata": {},
   "outputs": [
    {
     "data": {
      "text/plain": [
       "'class doctring'"
      ]
     },
     "execution_count": 23,
     "metadata": {},
     "output_type": "execute_result"
    }
   ],
   "source": [
    "Items.__doc__"
   ]
  },
  {
   "cell_type": "code",
   "execution_count": 24,
   "id": "f12ffa74",
   "metadata": {},
   "outputs": [
    {
     "data": {
      "text/plain": [
       "'0.0.1'"
      ]
     },
     "execution_count": 24,
     "metadata": {},
     "output_type": "execute_result"
    }
   ],
   "source": [
    "Items.__version__"
   ]
  },
  {
   "cell_type": "code",
   "execution_count": 25,
   "id": "85e21a7b",
   "metadata": {},
   "outputs": [
    {
     "data": {
      "text/plain": [
       "'class_variable'"
      ]
     },
     "execution_count": 25,
     "metadata": {},
     "output_type": "execute_result"
    }
   ],
   "source": [
    "Items.CLASS_VARIABLE"
   ]
  },
  {
   "cell_type": "code",
   "execution_count": 26,
   "id": "ff6d8c20",
   "metadata": {},
   "outputs": [
    {
     "data": {
      "text/plain": [
       "3"
      ]
     },
     "execution_count": 26,
     "metadata": {},
     "output_type": "execute_result"
    }
   ],
   "source": [
    "someItems = Items(1,2,3)\n",
    "someItems[2]"
   ]
  },
  {
   "cell_type": "code",
   "execution_count": null,
   "id": "e640dacf",
   "metadata": {},
   "outputs": [],
   "source": []
  },
  {
   "cell_type": "markdown",
   "id": "73c820c8",
   "metadata": {},
   "source": [
    "## Reference \n",
    "\n",
    "- https://velog.io/@hytenic/Python-Python-Clean-code1\n",
    "- https://sooho-kim.tistory.com/97\n"
   ]
  }
 ],
 "metadata": {
  "hide_input": false,
  "kernelspec": {
   "display_name": "Python 3.9.13 ('torch')",
   "language": "python",
   "name": "python3"
  },
  "language_info": {
   "codemirror_mode": {
    "name": "ipython",
    "version": 3
   },
   "file_extension": ".py",
   "mimetype": "text/x-python",
   "name": "python",
   "nbconvert_exporter": "python",
   "pygments_lexer": "ipython3",
   "version": "3.9.13"
  },
  "toc": {
   "base_numbering": 1,
   "nav_menu": {},
   "number_sections": true,
   "sideBar": true,
   "skip_h1_title": false,
   "title_cell": "Table of Contents",
   "title_sidebar": "Contents",
   "toc_cell": false,
   "toc_position": {},
   "toc_section_display": true,
   "toc_window_display": false
  },
  "varInspector": {
   "cols": {
    "lenName": 16,
    "lenType": 16,
    "lenVar": 40
   },
   "kernels_config": {
    "python": {
     "delete_cmd_postfix": "",
     "delete_cmd_prefix": "del ",
     "library": "var_list.py",
     "varRefreshCmd": "print(var_dic_list())"
    },
    "r": {
     "delete_cmd_postfix": ") ",
     "delete_cmd_prefix": "rm(",
     "library": "var_list.r",
     "varRefreshCmd": "cat(var_dic_list()) "
    }
   },
   "types_to_exclude": [
    "module",
    "function",
    "builtin_function_or_method",
    "instance",
    "_Feature"
   ],
   "window_display": false
  },
  "vscode": {
   "interpreter": {
    "hash": "4fb909b709635dc6aea781413ee8c310e18074535d75c98624385cc6a701a6a9"
   }
  }
 },
 "nbformat": 4,
 "nbformat_minor": 5
}
