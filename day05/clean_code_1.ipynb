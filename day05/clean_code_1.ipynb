{
 "cells": [
  {
   "cell_type": "markdown",
   "metadata": {},
   "source": [
    "# Clean Code (1)\n",
    "\n",
    "## Introduction\n",
    "\n",
    "- PEP-3107: type hinting\n",
    "\n"
   ]
  },
  {
   "cell_type": "markdown",
   "metadata": {},
   "source": [
    "## PEP- 3107; type hinting\n",
    "\n",
    "**https://docs.python.org/3/library/typing.html**\n"
   ]
  },
  {
   "cell_type": "markdown",
   "metadata": {},
   "source": [
    "### Basic "
   ]
  },
  {
   "cell_type": "code",
   "execution_count": null,
   "metadata": {},
   "outputs": [],
   "source": [
    "def location(latitude: float, longtitude: float) -> None:\n",
    "    \"\"\"\"find longtitude latitude \"\"\"\n",
    "    return None \n",
    "\n",
    "print(location.__annotations__)\n",
    "print(location.__doc__)\n"
   ]
  },
  {
   "cell_type": "markdown",
   "metadata": {},
   "source": [
    "### Use Typing module - List, Set, Dict, Tuple\n",
    "\n"
   ]
  },
  {
   "cell_type": "code",
   "execution_count": null,
   "metadata": {},
   "outputs": [],
   "source": [
    "## Typing module \n",
    "\n",
    "from typing import List, Set, Dict, Tuple\n",
    "\n",
    "nums: List[int] = [1]\n",
    "unique_nums: Set[int] = {6, 7}\n",
    "vision: Dict[str, float] = {'left': 1.0, 'right': 0.9}\n",
    "john: Tuple[int, str, List[float]] = (25, \"John Doe\", [1.0, 0.9])"
   ]
  },
  {
   "cell_type": "markdown",
   "metadata": {},
   "source": [
    "### Use Typing module - Callable"
   ]
  },
  {
   "cell_type": "code",
   "execution_count": null,
   "metadata": {},
   "outputs": [],
   "source": [
    "from typing import Callable\n",
    "\n",
    "def repeat(greet: Callable[[str], str], name: str, times: int = 2) -> None:\n",
    "    for _ in range(times):\n",
    "        print(greet(name))\n",
    "        \n",
    "greet = lambda name: f\"Hi, {name}!\"\n",
    "repeat(greet, \"Dale\")"
   ]
  },
  {
   "cell_type": "markdown",
   "metadata": {},
   "source": [
    "### Use Typing module - Protocol"
   ]
  },
  {
   "cell_type": "code",
   "execution_count": null,
   "metadata": {},
   "outputs": [],
   "source": [
    "from typing import Protocol\n",
    "\n",
    "\n",
    "class Flyable(Protocol):\n",
    "    def fly(self): ...\n",
    "\n",
    "\n",
    "class Bird:\n",
    "    def fly(self):\n",
    "        print(\"Bird is flying\")\n",
    "\n",
    "\n",
    "class Plane:\n",
    "    def fly(self):\n",
    "        print(\"Plane is flying\")\n",
    "\n",
    "\n",
    "class Dog:\n",
    "    def walk(self):\n",
    "        print(\"Dog is walking\")\n",
    "\n",
    "\n",
    "def take_off(flyable: Flyable):\n",
    "    flyable.fly()"
   ]
  },
  {
   "cell_type": "code",
   "execution_count": null,
   "metadata": {},
   "outputs": [],
   "source": [
    "bird = Bird()\n",
    "dog = Dog()\n",
    "\n",
    "print(take_off(bird))\n",
    "print(take_off(dog))"
   ]
  }
 ],
 "metadata": {
  "kernelspec": {
   "display_name": "Python 3.6.9 64-bit",
   "language": "python",
   "name": "python3"
  },
  "language_info": {
   "name": "python",
   "version": "3.6.9"
  },
  "orig_nbformat": 4,
  "vscode": {
   "interpreter": {
    "hash": "31f2aee4e71d21fbe5cf8b01ff0e069b9275f58929596ceb00d14d90e3e16cd6"
   }
  }
 },
 "nbformat": 4,
 "nbformat_minor": 2
}
