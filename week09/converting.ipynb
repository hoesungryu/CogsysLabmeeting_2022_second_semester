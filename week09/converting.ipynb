{
 "cells": [
  {
   "cell_type": "markdown",
   "metadata": {},
   "source": [
    "## Converting "
   ]
  },
  {
   "cell_type": "markdown",
   "metadata": {},
   "source": [
    "## Arguments: py <--> ipynb\n",
    " \n",
    " - reference: https://docs.python.org/ko/3/library/argparse.html"
   ]
  },
  {
   "cell_type": "code",
   "execution_count": 24,
   "metadata": {},
   "outputs": [],
   "source": [
    "import argparse\n",
    "parser = argparse.ArgumentParser(\n",
    "                    prog = 'ProgramName',\n",
    "                    description = 'What the program does',\n",
    "                    epilog = 'Text at the bottom of help')\n",
    "\n",
    "parser.add_argument('-b','--batch_size', default=128, type=int, help='--')\n",
    "parser.add_argument('-lr','--learning_rate', default=0.001, type=float, help='--')\n",
    "parser.add_argument('-epochs', '--num_epochs', default=201, type=int, help='--')\n",
    "\n",
    "\n",
    "# ----------------------------\n",
    "# only activate in .py file \n",
    "# ----------------------------\n",
    "# args = parser.parse_args()\n",
    "\n",
    "# ----------------------------\n",
    "# when using argparse in jupyter ... \n",
    "# ----------------------------\n",
    "args = parser.parse_args(args=[])\n"
   ]
  },
  {
   "cell_type": "code",
   "execution_count": 21,
   "metadata": {},
   "outputs": [
    {
     "name": "stdout",
     "output_type": "stream",
     "text": [
      "Batch Size: 128\n",
      "Learning Rate: 0.001\n",
      "Num of Epochs: 201\n"
     ]
    }
   ],
   "source": [
    "print('Batch Size:', args.batch_size)\n",
    "print('Learning Rate:', args.learning_rate)\n",
    "print('Num of Epochs:', args.num_epochs)"
   ]
  },
  {
   "cell_type": "markdown",
   "metadata": {},
   "source": [
    "## "
   ]
  },
  {
   "cell_type": "markdown",
   "metadata": {},
   "source": []
  }
 ],
 "metadata": {
  "kernelspec": {
   "display_name": "Python 3.6.9 64-bit",
   "language": "python",
   "name": "python3"
  },
  "language_info": {
   "codemirror_mode": {
    "name": "ipython",
    "version": 3
   },
   "file_extension": ".py",
   "mimetype": "text/x-python",
   "name": "python",
   "nbconvert_exporter": "python",
   "pygments_lexer": "ipython3",
   "version": "3.9.6"
  },
  "orig_nbformat": 4,
  "vscode": {
   "interpreter": {
    "hash": "31f2aee4e71d21fbe5cf8b01ff0e069b9275f58929596ceb00d14d90e3e16cd6"
   }
  }
 },
 "nbformat": 4,
 "nbformat_minor": 2
}
