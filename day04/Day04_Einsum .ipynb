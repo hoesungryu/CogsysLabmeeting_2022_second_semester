{
 "cells": [
  {
   "cell_type": "markdown",
   "id": "d094a132",
   "metadata": {},
   "source": [
    "# Day04_Einsum"
   ]
  },
  {
   "cell_type": "markdown",
   "id": "cd05b809",
   "metadata": {
    "toc": true
   },
   "source": [
    "<h1>Table of Contents<span class=\"tocSkip\"></span></h1>\n",
    "<div class=\"toc\"><ul class=\"toc-item\"><li><span><a href=\"#Introduction\" data-toc-modified-id=\"Introduction-1\"><span class=\"toc-item-num\">1&nbsp;&nbsp;</span>Introduction</a></span></li><li><span><a href=\"#Method\" data-toc-modified-id=\"Method-2\"><span class=\"toc-item-num\">2&nbsp;&nbsp;</span>Method</a></span><ul class=\"toc-item\"><li><span><a href=\"#1.-Transpose\" data-toc-modified-id=\"1.-Transpose-2.1\"><span class=\"toc-item-num\">2.1&nbsp;&nbsp;</span>1. Transpose</a></span></li><li><span><a href=\"#Diagonal\" data-toc-modified-id=\"Diagonal-2.2\"><span class=\"toc-item-num\">2.2&nbsp;&nbsp;</span>Diagonal</a></span></li><li><span><a href=\"#Trace\" data-toc-modified-id=\"Trace-2.3\"><span class=\"toc-item-num\">2.3&nbsp;&nbsp;</span>Trace</a></span></li><li><span><a href=\"#MATRIX-MULTIPLICATION\" data-toc-modified-id=\"MATRIX-MULTIPLICATION-2.4\"><span class=\"toc-item-num\">2.4&nbsp;&nbsp;</span>MATRIX MULTIPLICATION</a></span></li><li><span><a href=\"#Hadamard(element-wise)-product\" data-toc-modified-id=\"Hadamard(element-wise)-product-2.5\"><span class=\"toc-item-num\">2.5&nbsp;&nbsp;</span>Hadamard(element-wise) product</a></span></li><li><span><a href=\"#Batched-Matrix-Multiplication\" data-toc-modified-id=\"Batched-Matrix-Multiplication-2.6\"><span class=\"toc-item-num\">2.6&nbsp;&nbsp;</span>Batched Matrix Multiplication</a></span></li></ul></li><li><span><a href=\"#Examples\" data-toc-modified-id=\"Examples-3\"><span class=\"toc-item-num\">3&nbsp;&nbsp;</span>Examples</a></span><ul class=\"toc-item\"><li><span><a href=\"#Example-1:-Filtering\" data-toc-modified-id=\"Example-1:-Filtering-3.1\"><span class=\"toc-item-num\">3.1&nbsp;&nbsp;</span>Example 1: Filtering</a></span></li><li><span><a href=\"#Example-2:-Gradient-Descent\" data-toc-modified-id=\"Example-2:-Gradient-Descent-3.2\"><span class=\"toc-item-num\">3.2&nbsp;&nbsp;</span>Example 2: Gradient Descent</a></span></li></ul></li><li><span><a href=\"#Multi-head-Attention\" data-toc-modified-id=\"Multi-head-Attention-4\"><span class=\"toc-item-num\">4&nbsp;&nbsp;</span>Multi-head Attention</a></span></li></ul></div>"
   ]
  },
  {
   "cell_type": "markdown",
   "id": "5f201bdd",
   "metadata": {},
   "source": [
    "## Introduction \n",
    "\n",
    "**Einstein summation (einsum)** is implemented in numpy, as well as deep learning libraries such as Pytorch and TensorFlow.\n",
    "\n",
    "\n",
    "Einsum notation is an elegant way to express the atrix-matrix multiplications, as well as complex operations on tensors, using essentially a domain-specific language. \n",
    "\n",
    "When we handle the Deep Leaning model, we often encounter a problem is applying a transformation to vectors in a higher-order tensor. In this situation, Einsum can be a solution for us. \n"
   ]
  },
  {
   "cell_type": "markdown",
   "id": "74e7bd70",
   "metadata": {},
   "source": [
    "## Method\n",
    "\n",
    "\n",
    "- Pros:\n",
    "    - Domain Specific Language\n",
    "- Cons:\n",
    "    - Slow ?!... **TODO...**\n"
   ]
  },
  {
   "cell_type": "code",
   "execution_count": 1,
   "id": "f468a181",
   "metadata": {
    "ExecuteTime": {
     "end_time": "2022-11-03T04:30:35.820680Z",
     "start_time": "2022-11-03T04:30:35.651268Z"
    }
   },
   "outputs": [],
   "source": [
    "%matplotlib inline\n",
    "\n",
    "import numpy as np\n",
    "import matplotlib.pyplot as plt\n",
    "plt.style.use(['ggplot'])\n",
    "\n",
    "\n",
    "def show_before_after(A: np, query: str) -> None:\n",
    "    AA = np.einsum(query, A)\n",
    "\n",
    "    print(f'Query: {query}')\n",
    "    print(' ')\n",
    "    print(f'Before: A {A.shape}')\n",
    "    print(A)\n",
    "    print(' ')\n",
    "    print(f'After: A {AA.shape}')\n",
    "    print(AA)"
   ]
  },
  {
   "cell_type": "markdown",
   "id": "05a68ae4",
   "metadata": {},
   "source": [
    "### 1. Transpose"
   ]
  },
  {
   "cell_type": "code",
   "execution_count": 2,
   "id": "a53c1a63",
   "metadata": {
    "ExecuteTime": {
     "end_time": "2022-11-03T05:47:55.685254Z",
     "start_time": "2022-11-03T05:47:55.681412Z"
    }
   },
   "outputs": [
    {
     "name": "stdout",
     "output_type": "stream",
     "text": [
      "Query: ij->ji\n",
      " \n",
      "Before: A (2, 3)\n",
      "[[1 2 3]\n",
      " [4 5 6]]\n",
      " \n",
      "After: A (3, 2)\n",
      "[[1 4]\n",
      " [2 5]\n",
      " [3 6]]\n"
     ]
    }
   ],
   "source": [
    "A = np.array([[1,2,3], [4,5,6]])\n",
    "query = \"ij->ji\"\n",
    "\n",
    "show_before_after(A, query)"
   ]
  },
  {
   "cell_type": "code",
   "execution_count": 3,
   "id": "4ed09c0c",
   "metadata": {
    "ExecuteTime": {
     "end_time": "2022-11-03T05:48:01.086233Z",
     "start_time": "2022-11-03T05:48:01.083376Z"
    }
   },
   "outputs": [
    {
     "data": {
      "text/plain": [
       "array([[1, 2],\n",
       "       [3, 4],\n",
       "       [5, 6]])"
      ]
     },
     "execution_count": 3,
     "metadata": {},
     "output_type": "execute_result"
    }
   ],
   "source": [
    "np.reshape(A, (3,2))"
   ]
  },
  {
   "cell_type": "markdown",
   "id": "7cacb5b3",
   "metadata": {},
   "source": [
    "### Diagonal"
   ]
  },
  {
   "cell_type": "code",
   "execution_count": 4,
   "id": "3df48317",
   "metadata": {
    "ExecuteTime": {
     "end_time": "2022-11-03T04:30:36.655455Z",
     "start_time": "2022-11-03T04:30:36.644176Z"
    }
   },
   "outputs": [
    {
     "name": "stdout",
     "output_type": "stream",
     "text": [
      "Query: ii->i\n",
      " \n",
      "Before: A (3, 3)\n",
      "[[1. 0. 0.]\n",
      " [0. 1. 0.]\n",
      " [0. 0. 1.]]\n",
      " \n",
      "After: A (3,)\n",
      "[1. 1. 1.]\n"
     ]
    }
   ],
   "source": [
    "A =  np.eye(3)\n",
    "query = \"ii->i\"\n",
    "\n",
    "show_before_after(A, query)"
   ]
  },
  {
   "cell_type": "code",
   "execution_count": 5,
   "id": "b8c01457",
   "metadata": {
    "ExecuteTime": {
     "end_time": "2022-11-03T04:30:36.818049Z",
     "start_time": "2022-11-03T04:30:36.807166Z"
    }
   },
   "outputs": [
    {
     "data": {
      "text/plain": [
       "array([1., 1., 1.])"
      ]
     },
     "execution_count": 5,
     "metadata": {},
     "output_type": "execute_result"
    }
   ],
   "source": [
    "np.diag(A)"
   ]
  },
  {
   "cell_type": "markdown",
   "id": "77a3db63",
   "metadata": {},
   "source": [
    "### Trace"
   ]
  },
  {
   "cell_type": "code",
   "execution_count": 6,
   "id": "10792152",
   "metadata": {
    "ExecuteTime": {
     "end_time": "2022-11-03T04:30:37.106882Z",
     "start_time": "2022-11-03T04:30:37.092299Z"
    }
   },
   "outputs": [
    {
     "name": "stdout",
     "output_type": "stream",
     "text": [
      "Query: ii->\n",
      " \n",
      "Before: A (3, 3)\n",
      "[[1. 0. 0.]\n",
      " [0. 1. 0.]\n",
      " [0. 0. 1.]]\n",
      " \n",
      "After: A ()\n",
      "3.0\n"
     ]
    }
   ],
   "source": [
    "A =  np.eye(3)\n",
    "query = \"ii->\"\n",
    "\n",
    "show_before_after(A, query)"
   ]
  },
  {
   "cell_type": "code",
   "execution_count": 7,
   "id": "ba9160ae",
   "metadata": {
    "ExecuteTime": {
     "end_time": "2022-11-03T04:30:37.243525Z",
     "start_time": "2022-11-03T04:30:37.235632Z"
    }
   },
   "outputs": [
    {
     "data": {
      "text/plain": [
       "3.0"
      ]
     },
     "execution_count": 7,
     "metadata": {},
     "output_type": "execute_result"
    }
   ],
   "source": [
    "np.diag(A).sum()"
   ]
  },
  {
   "cell_type": "markdown",
   "id": "2ca9f6fb",
   "metadata": {},
   "source": [
    "### MATRIX MULTIPLICATION"
   ]
  },
  {
   "cell_type": "code",
   "execution_count": 8,
   "id": "becb677d",
   "metadata": {
    "ExecuteTime": {
     "end_time": "2022-11-03T04:30:37.551501Z",
     "start_time": "2022-11-03T04:30:37.543486Z"
    }
   },
   "outputs": [],
   "source": [
    "# np.random.randint(min_val,max_val,(<num_rows>,<num_cols>))\n",
    "A = np.random.randint(1,10, (2, 3))\n",
    "B = np.random.randint(1,10, (3, 2))\n",
    "\n"
   ]
  },
  {
   "cell_type": "code",
   "execution_count": 9,
   "id": "916442a7",
   "metadata": {
    "ExecuteTime": {
     "end_time": "2022-11-03T04:30:37.715579Z",
     "start_time": "2022-11-03T04:30:37.707349Z"
    }
   },
   "outputs": [
    {
     "name": "stdout",
     "output_type": "stream",
     "text": [
      "[[8 8 1]\n",
      " [8 6 7]]\n",
      "[[9 2]\n",
      " [5 9]\n",
      " [1 2]]\n"
     ]
    }
   ],
   "source": [
    "print(A)\n",
    "print(B)"
   ]
  },
  {
   "cell_type": "code",
   "execution_count": 10,
   "id": "c1d253e5",
   "metadata": {
    "ExecuteTime": {
     "end_time": "2022-11-03T04:30:37.948491Z",
     "start_time": "2022-11-03T04:30:37.938998Z"
    }
   },
   "outputs": [
    {
     "name": "stdout",
     "output_type": "stream",
     "text": [
      "[[113  90]\n",
      " [109  84]]\n",
      "[[113  90]\n",
      " [109  84]]\n"
     ]
    }
   ],
   "source": [
    "multiplication = np.einsum('ij,jk-> ik ', A, B )\n",
    "\n",
    "print(multiplication)\n",
    "print(A@B) # another: np.matmul "
   ]
  },
  {
   "cell_type": "markdown",
   "id": "8d328e93",
   "metadata": {},
   "source": [
    "### Hadamard(element-wise) product\n",
    "\n",
    "$R_{ij} = A_{ij}B_{ij}$\n",
    "    \n",
    "    "
   ]
  },
  {
   "cell_type": "code",
   "execution_count": 11,
   "id": "7768aa85",
   "metadata": {
    "ExecuteTime": {
     "end_time": "2022-11-03T04:30:38.323356Z",
     "start_time": "2022-11-03T04:30:38.305989Z"
    }
   },
   "outputs": [
    {
     "name": "stdout",
     "output_type": "stream",
     "text": [
      "[[30  6]\n",
      " [72 72]]\n",
      "[[30  6]\n",
      " [72 72]]\n"
     ]
    }
   ],
   "source": [
    "A = np.random.randint(1,10, (2, 2))\n",
    "B = np.random.randint(1,10, (2, 2))\n",
    "\n",
    "Hadamard = np.einsum('ij,ij-> ij', A, B )\n",
    "\n",
    "print(Hadamard)\n",
    "print(A*B)"
   ]
  },
  {
   "cell_type": "markdown",
   "id": "b1bd6a4a",
   "metadata": {},
   "source": [
    "### Batched Matrix Multiplication "
   ]
  },
  {
   "cell_type": "code",
   "execution_count": 12,
   "id": "f697f199",
   "metadata": {
    "ExecuteTime": {
     "end_time": "2022-11-03T05:48:37.621677Z",
     "start_time": "2022-11-03T05:48:37.618582Z"
    }
   },
   "outputs": [
    {
     "name": "stdout",
     "output_type": "stream",
     "text": [
      "(3, 2, 3)\n",
      "[[[137  76  76]\n",
      "  [115  67 157]]\n",
      "\n",
      " [[ 94  67 107]\n",
      "  [ 91  83 106]]\n",
      "\n",
      " [[ 27  32  25]\n",
      "  [109 141 115]]]\n"
     ]
    }
   ],
   "source": [
    "A = np.random.randint(1,10, (3, 2, 5))\n",
    "B = np.random.randint(1,10, (3, 5, 3))\n",
    "\n",
    "batch_m = np.einsum('ijk,ikl-> ijl', A, B )\n",
    "print(batch_m.shape)\n",
    "print(batch_m)"
   ]
  },
  {
   "cell_type": "markdown",
   "id": "bae3cecf",
   "metadata": {},
   "source": [
    "## Examples\n",
    "\n",
    "### Example 1: Filtering \n",
    "\n",
    "\n",
    "``` python \n",
    "\n",
    "def conv2d_without_for_loop(self):\n",
    "    \"\"\"\n",
    "\n",
    "    \"\"\"\n",
    "    # Generation of the submatrices\n",
    "    sub_shape = self._kernel.shape\n",
    "    view_shape = tuple(np.subtract(\n",
    "        self._pad_src_img.shape, sub_shape) + 1) + sub_shape\n",
    "    strides = self._pad_src_img.strides + self._pad_src_img.strides\n",
    "\n",
    "    stretched_matrix = np.lib.stride_tricks.as_strided(\n",
    "        self._pad_src_img, view_shape, strides)\n",
    "    return np.einsum('ij,klij->kl', self._kernel, stretched_matrix)\n",
    "\n",
    "def conv2dp(self):\n",
    "    # do the filtering\n",
    "    for i in range(height, roi.shape[1]-height):\n",
    "        for j in range(width, roi.shape[0]-width):\n",
    "            # how do you create the output of the filtering?\n",
    "            filtered[j, i] = np.multiply(\n",
    "                roi[(j-width):(j+width)+1, (i-height):(i+height)+1], weights).sum()\n",
    "\n",
    "```"
   ]
  },
  {
   "cell_type": "markdown",
   "id": "adb70c2f",
   "metadata": {},
   "source": [
    "### Example 2: Gradient Descent\n",
    "\n",
    "\n",
    "\n",
    "\n",
    "<b>Cost</b>\n",
    "\\begin{equation}\n",
    "J(\\theta) = 1/2m \\sum_{i=1}^{m} (h(\\theta)^{(i)} - y^{(i)})^2 \n",
    "\\end{equation}\n",
    "\n",
    "<b>Gradient</b>\n",
    "\n",
    "\\begin{equation}\n",
    "\\frac{\\partial J(\\theta)}{\\partial \\theta_j} = 1/m\\sum_{i=1}^{m}(h(\\theta^{(i)} - y^{(i)}).X_j^{(i)}\n",
    "\\end{equation}\n",
    "\n",
    "<b>Gradients</b>\n",
    "\\begin{equation}\n",
    "\\theta_0: = \\theta_0 -\\alpha . (1/m .\\sum_{i=1}^{m}(h(\\theta^{(i)} - y^{(i)}).X_0^{(i)})\n",
    "\\end{equation}\n",
    "\\begin{equation}\n",
    "\\theta_1: = \\theta_1 -\\alpha . (1/m .\\sum_{i=1}^{m}(h(\\theta^{(i)} - y^{(i)}).X_1^{(i)})\n",
    "\\end{equation}\n",
    "\\begin{equation}\n",
    "\\theta_2: = \\theta_2 -\\alpha . (1/m .\\sum_{i=1}^{m}(h(\\theta^{(i)} - y^{(i)}).X_2^{(i)})\n",
    "\\end{equation}\n",
    "\n",
    "\\begin{equation}\n",
    "\\theta_j: = \\theta_j -\\alpha . (1/m .\\sum_{i=1}^{m}(h(\\theta^{(i)} - y^{(i)}).X_0^{(i)})\n",
    "\\end{equation}\n",
    "\n"
   ]
  },
  {
   "cell_type": "code",
   "execution_count": 13,
   "id": "8f9a90fb",
   "metadata": {},
   "outputs": [],
   "source": [
    "def cal_cost(theta,X,y):\n",
    "    '''\n",
    "    \n",
    "    Calculates the cost for given X and Y. The following shows and example of a single dimensional X\n",
    "    theta = Vector of thetas \n",
    "    X     = Row of X's np.zeros((2,j))\n",
    "    y     = Actual y's np.zeros((2,1))\n",
    "    \n",
    "    where:\n",
    "        j is the no of features\n",
    "    '''\n",
    "    \n",
    "    m = len(y)\n",
    "    \n",
    "    predictions = X.dot(theta)\n",
    "    cost = (1/2*m) * np.sum(np.square(predictions-y))\n",
    "    return cost"
   ]
  },
  {
   "cell_type": "code",
   "execution_count": 14,
   "id": "6839349b",
   "metadata": {},
   "outputs": [],
   "source": [
    "def gradient_descent(X,y,theta,learning_rate=0.01,iterations=100):\n",
    "    '''\n",
    "    X    = Matrix of X with added bias units\n",
    "    y    = Vector of Y\n",
    "    theta=Vector of thetas np.random.randn(j,1)\n",
    "    learning_rate \n",
    "    iterations = no of iterations\n",
    "    \n",
    "    Returns the final theta vector and array of cost history over no of iterations\n",
    "    '''\n",
    "    m = len(y)\n",
    "    cost_history = np.zeros(iterations)\n",
    "    theta_history = np.zeros((iterations,2))\n",
    "    for it in range(iterations):\n",
    "        \n",
    "        prediction = np.dot(X,theta)\n",
    "        \n",
    "        theta = theta -(1/m)*learning_rate*( X.T.dot((prediction - y)))\n",
    "        theta_history[it,:] =theta.T\n",
    "        cost_history[it]  = cal_cost(theta,X,y)\n",
    "        \n",
    "    return theta, cost_history, theta_history\n",
    "        \n",
    "    \n",
    "    "
   ]
  },
  {
   "cell_type": "code",
   "execution_count": 15,
   "id": "57a5300c",
   "metadata": {
    "ExecuteTime": {
     "end_time": "2022-11-03T05:39:21.551882Z",
     "start_time": "2022-11-03T05:39:21.546867Z"
    }
   },
   "outputs": [],
   "source": [
    "def show_results(X,y, theta_best,cost_history,theta_history):\n",
    "    #################################\n",
    "    # 1. predcit \n",
    "    #################################\n",
    "    X_new = np.array([[0],[2]])\n",
    "    X_new_b = np.c_[np.ones((2,1)),X_new]\n",
    "    y_predict = X_new_b.dot(theta_best)\n",
    "\n",
    "\n",
    "    #################################\n",
    "    # 2. report\n",
    "    #################################\n",
    "    # 2-2 learning curve\n",
    "    fig,ax = plt.subplots(figsize=(12,8))\n",
    "    ax.set_ylabel('J(Theta)')\n",
    "    ax.set_xlabel('Iterations')\n",
    "    plt.title('Learing Curve', fontsize=18)\n",
    "    _=ax.plot(range(n_iter),cost_history,'b.')\n",
    "    plt.show()\n",
    "    \n",
    "    # 2-3 total results with the original data \n",
    "    plt.figure(figsize=(12,8))\n",
    "    plt.title('After Regression \\nTheta0:{:0.3f}|Theta1:{:0.3f}|MSE:{:0.3f}'.format(theta[0][0],\n",
    "                                                                                        theta[1][0],\n",
    "                                                                                        cost_history[-1]\n",
    "                                                                                       ),\n",
    "                                                                                        \n",
    "                                                                                        fontsize=20)\n",
    "    plt.plot(X_new,y_predict,'r-')\n",
    "    plt.plot(X,y,'b.')\n",
    "    plt.xlabel(\"$x$\", fontsize=18)\n",
    "    plt.ylabel(\"$y$\", rotation=0, fontsize=18)\n",
    "    _ =plt.axis([0,2,0,15])\n",
    "    plt.show()"
   ]
  },
  {
   "cell_type": "code",
   "execution_count": 16,
   "id": "bf337af7",
   "metadata": {
    "ExecuteTime": {
     "end_time": "2022-11-03T05:12:36.216127Z",
     "start_time": "2022-11-03T05:12:36.108933Z"
    },
    "scrolled": true
   },
   "outputs": [
    {
     "data": {
      "image/png": "[encoded data removed]",
      "text/plain": [
       "<Figure size 432x288 with 1 Axes>"
      ]
     },
     "metadata": {},
     "output_type": "display_data"
    }
   ],
   "source": [
    "# data \n",
    "X = 2 * np.random.rand(100,1)\n",
    "y = 4 +3 * X+np.random.randn(100,1)\n",
    "\n",
    "# plotting the original data\n",
    "plt.title('Original data', fontsize=20)\n",
    "plt.plot(X,y,'b.')\n",
    "plt.xlabel(\"$x$\", fontsize=18)\n",
    "plt.ylabel(\"$y$\", rotation=0, fontsize=18)\n",
    "_ =plt.axis([0,2,0,15])"
   ]
  },
  {
   "cell_type": "code",
   "execution_count": 17,
   "id": "42ba030d",
   "metadata": {
    "ExecuteTime": {
     "end_time": "2022-11-03T05:40:07.615796Z",
     "start_time": "2022-11-03T05:40:07.613534Z"
    }
   },
   "outputs": [],
   "source": [
    "# init variables\n",
    "lr =0.01\n",
    "n_iter = 1000\n",
    "\n",
    "X_b = np.c_[np.ones((len(X),1)),X]\n",
    "init_theta = np.random.randn(2,1)"
   ]
  },
  {
   "cell_type": "code",
   "execution_count": 18,
   "id": "9930f656",
   "metadata": {
    "ExecuteTime": {
     "end_time": "2022-11-03T05:40:08.030772Z",
     "start_time": "2022-11-03T05:40:07.781888Z"
    }
   },
   "outputs": [
    {
     "data": {
      "image/png": "[encoded data removed]",
      "text/plain": [
       "<Figure size 864x576 with 1 Axes>"
      ]
     },
     "metadata": {},
     "output_type": "display_data"
    },
    {
     "data": {
      "image/png": "[encoded data removed]",
      "text/plain": [
       "<Figure size 864x576 with 1 Axes>"
      ]
     },
     "metadata": {},
     "output_type": "display_data"
    }
   ],
   "source": [
    "theta,cost_history,theta_history = gradient_descent(X_b,y,init_theta,lr,n_iter)\n",
    "show_results(X,y, theta,cost_history,theta_history)"
   ]
  },
  {
   "cell_type": "code",
   "execution_count": 19,
   "id": "b135478b",
   "metadata": {
    "ExecuteTime": {
     "end_time": "2022-11-03T05:40:08.103890Z",
     "start_time": "2022-11-03T05:40:08.100473Z"
    }
   },
   "outputs": [],
   "source": [
    "def gradient_descent_einsum(X,y,theta,learning_rate=0.01,iterations=100):\n",
    "    '''\n",
    "    X    = Matrix of X with added bias units\n",
    "    y    = Vector of Y\n",
    "    theta=Vector of thetas np.random.randn(j,1)\n",
    "    learning_rate \n",
    "    iterations = no of iterations\n",
    "    \n",
    "    Returns the final theta vector and array of cost history over no of iterations\n",
    "    '''\n",
    "    m = len(y)\n",
    "    cost_history = np.zeros(iterations)\n",
    "    theta_history = np.zeros((iterations,2))\n",
    "    \n",
    "    for it in range(iterations):\n",
    "        \n",
    "        # prediction = np.dot(X,theta)\n",
    "#         prediction =  '''code'''\n",
    "\n",
    "        \n",
    "#         theta = theta -(1/m)*learning_rate*( X.T.dot((prediction - y)))\n",
    "#         theta = '''code'''\n",
    "\n",
    "        \n",
    "        \n",
    "        theta_history[it,:] = theta.T\n",
    "        cost_history[it]  = cal_cost(theta,X,y)\n",
    "        \n",
    "    return theta, cost_history, theta_history\n",
    "        \n",
    "    "
   ]
  },
  {
   "cell_type": "code",
   "execution_count": 20,
   "id": "60e89e7d",
   "metadata": {
    "ExecuteTime": {
     "end_time": "2022-11-03T05:40:08.958672Z",
     "start_time": "2022-11-03T05:40:08.736601Z"
    }
   },
   "outputs": [
    {
     "data": {
      "image/png": "[encoded data removed]",
      "text/plain": [
       "<Figure size 864x576 with 1 Axes>"
      ]
     },
     "metadata": {},
     "output_type": "display_data"
    },
    {
     "data": {
      "image/png": "[encoded data removed]",
      "text/plain": [
       "<Figure size 864x576 with 1 Axes>"
      ]
     },
     "metadata": {},
     "output_type": "display_data"
    }
   ],
   "source": [
    "theta,cost_history,theta_history = gradient_descent_einsum(X_b,y,init_theta,lr,n_iter)\n",
    "show_results(X,y, theta,cost_history,theta_history)\n"
   ]
  },
  {
   "cell_type": "markdown",
   "id": "3ef50c57",
   "metadata": {},
   "source": [
    "## Multi-head Attention\n",
    "\n",
    "$\\text{MultiHeadAttention}(K,Q,V) = \\text{concat}(head_1, head_2, head_3, ...)$\n",
    "\n",
    "$head_i = \\text{Attention}(QW^Q_i, KW^K_i, VW^V_i)$ \n",
    "\n",
    "$\\text{Attention}(Q,K,V) = \\text{softmax}(\\frac{QK^{\\top}}{\\sqrt{d_k}})V$\n"
   ]
  },
  {
   "cell_type": "code",
   "execution_count": 21,
   "id": "d11a8764",
   "metadata": {
    "ExecuteTime": {
     "end_time": "2022-11-03T05:45:43.438335Z",
     "start_time": "2022-11-03T05:45:43.369030Z"
    }
   },
   "outputs": [],
   "source": [
    "from scipy.special import softmax\n",
    "\n",
    "def multihead_attention(hidden_states, W_Q, W_K, W_V, num_head):\n",
    "    batch_size, sequence_length, hidden_size = hidden_states.shape\n",
    "    assert hidden_size % num_head == 0\n",
    "    head_hidden_size = hidden_size // num_head\n",
    "\n",
    "    Q = np.einsum(\"ijk,kl->ijl\", hidden_states, W_Q)   # [batch_size, sequence_length, hidden_size]\n",
    "    K = np.einsum(\"ijk,kl->ijl\", hidden_states, W_K)   # [batch_size, sequence_length, hidden_size]\n",
    "    V = np.einsum(\"ijk,kl->ijl\", hidden_states, W_V)   # [batch_size, sequence_length, hidden_size]\n",
    "    print(f\"Q shape: {Q.shape} K shape: {K.shape} V shape: {V.shape}\")\n",
    "\n",
    "    Q = np.reshape(Q, [batch_size, sequence_length, num_head, head_hidden_size]) # [batch_size, sequence_length, num_haed, head_hidden_size]\n",
    "    K = np.reshape(K, [batch_size, sequence_length, num_head, head_hidden_size]) # [batch_size, sequence_length, num_haed, head_hidden_size]\n",
    "    V = np.reshape(V, [batch_size, sequence_length, num_head, head_hidden_size]) # [batch_size, sequence_length, num_haed, head_hidden_size]\n",
    "    print(f\"Q shape: {Q.shape} K shape: {K.shape} V shape: {V.shape}\")\n",
    "\n",
    "    Q = np.einsum(\"ijkl->ikjl\", Q)  # [batch_size, num_haed, sequence_length, head_hidden_size]\n",
    "    K = np.einsum(\"ijkl->ikjl\", K)  # [batch_size, num_haed, sequence_length, head_hidden_size]\n",
    "    V = np.einsum(\"ijkl->ikjl\", V)  # [batch_size, num_haed, sequence_length, head_hidden_size]\n",
    "    print(f\"Q shape: {Q.shape} K shape: {K.shape} V shape: {V.shape}\")\n",
    "\n",
    "    attention_score = np.einsum(\"ijkl,ijml->ijkm\", Q, K)/np.sqrt(hidden_size)  # [batch_size, num_haed, sequence_length, sequence_length]\n",
    "    attention_score = softmax(attention_score, axis=3)   # [batch_size, num_haed, sequence_length, sequence_length]\n",
    "    print(f\"Attention score shape: {attention_score.shape}\")\n",
    "\n",
    "    attention_result = np.einsum(\"ijkl,ijkm->iljm\", attention_score, V)   # [batch_size, sequence_length, num_head, head_hidden_size]\n",
    "    attention_result = np.reshape(attention_result, [batch_size, sequence_length, hidden_size])  # [batch_size, sequence_length, hidden_size]\n",
    "    print(f\"Attention result shape: {attention_result.shape}\")\n",
    "\n",
    "    return attention_result"
   ]
  },
  {
   "cell_type": "code",
   "execution_count": 22,
   "id": "758483c1",
   "metadata": {
    "ExecuteTime": {
     "end_time": "2022-11-03T05:45:43.614438Z",
     "start_time": "2022-11-03T05:45:43.596390Z"
    }
   },
   "outputs": [
    {
     "name": "stdout",
     "output_type": "stream",
     "text": [
      "Q shape: (2, 10, 16) K shape: (2, 10, 16) V shape: (2, 10, 16)\n",
      "Q shape: (2, 10, 8, 2) K shape: (2, 10, 8, 2) V shape: (2, 10, 8, 2)\n",
      "Q shape: (2, 8, 10, 2) K shape: (2, 8, 10, 2) V shape: (2, 8, 10, 2)\n",
      "Attention score shape: (2, 8, 10, 10)\n",
      "Attention result shape: (2, 10, 16)\n"
     ]
    }
   ],
   "source": [
    "batch_size, sequence_length, hidden_size, num_head = 2, 10, 16, 8\n",
    "hidden_states = np.random.uniform(size=(batch_size, sequence_length, hidden_size))\n",
    "\n",
    "W_K = np.random.uniform(size=(hidden_size, hidden_size))\n",
    "W_Q = np.random.uniform(size=(hidden_size, hidden_size))\n",
    "W_V = np.random.uniform(size=(hidden_size, hidden_size))\n",
    "\n",
    "result = multihead_attention(hidden_states, W_Q, W_K, W_V, num_head)"
   ]
  },
  {
   "cell_type": "markdown",
   "id": "6ec50a8e",
   "metadata": {},
   "source": [
    "## Einops \n",
    "\n",
    "**Einstein operations (Einops)** has flexible and powerful tensor operations for readable and reliable code. It support numpy, pytorch, tensorflow, and so on.\n",
    "\n",
    "When einsum is for intuitive matrix multiplication, einops is useful to manipulate tensor shape."
   ]
  },
  {
   "cell_type": "code",
   "execution_count": 23,
   "id": "2b205735",
   "metadata": {},
   "outputs": [],
   "source": [
    "## Basic\n",
    "from einops import rearrange, reduce, repeat\n",
    "# rearrange elements according to the pattern\n",
    "batch_size, sequence_length, hidden_size = 2, 10, 16"
   ]
  },
  {
   "cell_type": "code",
   "execution_count": 24,
   "id": "da6fd31e",
   "metadata": {},
   "outputs": [
    {
     "name": "stdout",
     "output_type": "stream",
     "text": [
      "Input shape: (2, 10, 16)\n",
      "Output shape: (10, 16, 2)\n"
     ]
    }
   ],
   "source": [
    "input_tensor = np.random.uniform(size=(batch_size, sequence_length, hidden_size))\n",
    "print(f\"Input shape: {input_tensor.shape}\")\n",
    "output_tensor = rearrange(input_tensor, 't b c -> b c t') ## reshape\n",
    "print(f\"Output shape: {output_tensor.shape}\")"
   ]
  },
  {
   "cell_type": "code",
   "execution_count": 25,
   "id": "4c4b208e",
   "metadata": {},
   "outputs": [
    {
     "name": "stdout",
     "output_type": "stream",
     "text": [
      "Input shape: (2, 10, 16)\n",
      "Output shape: (10, 16)\n"
     ]
    }
   ],
   "source": [
    "# combine rearrangement and reduction\n",
    "input_tensor = np.random.uniform(size=(batch_size, sequence_length, hidden_size))\n",
    "print(f\"Input shape: {input_tensor.shape}\")\n",
    "output_tensor = reduce(input_tensor, 'b c h -> c h', 'mean') ## merge batches with mean\n",
    "print(f\"Output shape: {output_tensor.shape}\")"
   ]
  },
  {
   "cell_type": "code",
   "execution_count": 26,
   "id": "7f654723",
   "metadata": {},
   "outputs": [
    {
     "name": "stdout",
     "output_type": "stream",
     "text": [
      "Input shape: (10, 16)\n",
      "Output shape: (10, 16, 3)\n"
     ]
    }
   ],
   "source": [
    "# copy along a new axis \n",
    "input_tensor = np.random.uniform(size=(sequence_length, hidden_size))\n",
    "print(f\"Input shape: {input_tensor.shape}\")\n",
    "output_tensor = repeat(input_tensor, 'h w -> h w c', c=3) ## duplicate\n",
    "print(f\"Output shape: {output_tensor.shape}\")"
   ]
  },
  {
   "cell_type": "markdown",
   "id": "8185fa6d",
   "metadata": {},
   "source": [
    "### Multi-head Attention with Einsum and Einops"
   ]
  },
  {
   "cell_type": "code",
   "execution_count": 27,
   "id": "dbfc1d66",
   "metadata": {},
   "outputs": [],
   "source": [
    "def multihead_attention_einops(hidden_states, W_Q, W_K, W_V, num_head):\n",
    "    batch_size, sequence_length, hidden_size = hidden_states.shape\n",
    "    assert hidden_size % num_head == 0\n",
    "    head_hidden_size = hidden_size // num_head\n",
    "\n",
    "    Q = np.einsum(\"ijk,kl->ijl\", hidden_states, W_Q)   # [batch_size, sequence_length, hidden_size]\n",
    "    K = np.einsum(\"ijk,kl->ijl\", hidden_states, W_K)   # [batch_size, sequence_length, hidden_size]\n",
    "    V = np.einsum(\"ijk,kl->ijl\", hidden_states, W_V)   # [batch_size, sequence_length, hidden_size]\n",
    "    print(f\"Q shape: {Q.shape} K shape: {K.shape} V shape: {V.shape}\")\n",
    "\n",
    "    ### Rearrange with einops\n",
    "    Q = rearrange(Q, 'b q (h d) -> b q d h', h = head_hidden_size) # [batch_size, sequence_length, num_haed, head_hidden_size]\n",
    "    K = rearrange(K, 'b q (h d) -> b q d h', h = head_hidden_size) # [batch_size, sequence_length, num_haed, head_hidden_size]\n",
    "    V = rearrange(V, 'b q (h d) -> b q d h', h = head_hidden_size) # [batch_size, sequence_length, num_haed, head_hidden_size]\n",
    "    print(f\"Q shape: {Q.shape} K shape: {K.shape} V shape: {V.shape}\")\n",
    "\n",
    "    Q = np.einsum(\"ijkl->ikjl\", Q)  # [batch_size, num_haed, sequence_length, head_hidden_size]\n",
    "    K = np.einsum(\"ijkl->ikjl\", K)  # [batch_size, num_haed, sequence_length, head_hidden_size]\n",
    "    V = np.einsum(\"ijkl->ikjl\", V)  # [batch_size, num_haed, sequence_length, head_hidden_size]\n",
    "    print(f\"Q shape: {Q.shape} K shape: {K.shape} V shape: {V.shape}\")\n",
    "\n",
    "    attention_score = np.einsum(\"ijkl,ijml->ijkm\", Q, K)/np.sqrt(hidden_size)  # [batch_size, num_haed, sequence_length, sequence_length]\n",
    "    attention_score = softmax(attention_score, axis=3)   # [batch_size, num_haed, sequence_length, sequence_length]\n",
    "    print(f\"Attention score shape: {attention_score.shape}\")\n",
    "\n",
    "    attention_result = np.einsum(\"ijkl,ijkm->iljm\", attention_score, V)   # [batch_size, sequence_length, num_head, head_hidden_size]\n",
    "    ### Rearrange with einops\n",
    "    attention_result = rearrange(attention_result,'b q d h -> b q (d h)', h = head_hidden_size)  # [batch_size, sequence_length, hidden_size]\n",
    "    print(f\"Attention result shape: {attention_result.shape}\")\n",
    "\n",
    "    return attention_result"
   ]
  },
  {
   "cell_type": "code",
   "execution_count": 28,
   "id": "9e001f17",
   "metadata": {},
   "outputs": [
    {
     "name": "stdout",
     "output_type": "stream",
     "text": [
      "Q shape: (2, 10, 16) K shape: (2, 10, 16) V shape: (2, 10, 16)\n",
      "Q shape: (2, 10, 8, 2) K shape: (2, 10, 8, 2) V shape: (2, 10, 8, 2)\n",
      "Q shape: (2, 8, 10, 2) K shape: (2, 8, 10, 2) V shape: (2, 8, 10, 2)\n",
      "Attention score shape: (2, 8, 10, 10)\n",
      "Attention result shape: (2, 10, 16)\n"
     ]
    }
   ],
   "source": [
    "batch_size, sequence_length, hidden_size, num_head = 2, 10, 16, 8\n",
    "hidden_states = np.random.uniform(size=(batch_size, sequence_length, hidden_size))\n",
    "\n",
    "W_K = np.random.uniform(size=(hidden_size, hidden_size))\n",
    "W_Q = np.random.uniform(size=(hidden_size, hidden_size))\n",
    "W_V = np.random.uniform(size=(hidden_size, hidden_size))\n",
    "\n",
    "result = multihead_attention_einops(hidden_states, W_Q, W_K, W_V, num_head)"
   ]
  },
  {
   "cell_type": "markdown",
   "id": "99227624",
   "metadata": {},
   "source": [
    "# Reference \n",
    "\n",
    "- [einsum is all you need](https://rockt.github.io/2018/04/30/einsum)\n",
    "- https://colab.research.google.com/gist/sagarmainkar/5cfa33898a303f895da5100472371d91/notebook.ipynb#scrollTo=erQifW90Y9cy\n",
    "- [Einops: Clear and Reliable Tensor Manipulations with Einstein-like Notation](https://iclr.cc/virtual/2022/oral/6603)"
   ]
  },
  {
   "cell_type": "code",
   "execution_count": null,
   "id": "fc79f19c",
   "metadata": {},
   "outputs": [],
   "source": []
  }
 ],
 "metadata": {
  "hide_input": false,
  "interpreter": {
   "hash": "0dd05da7729844209ebe7ae432159a766a502dd01e52b265c7791d26d8fe0247"
  },
  "kernelspec": {
   "display_name": "Python 3.8.12 ('torch')",
   "language": "python",
   "name": "python3"
  },
  "language_info": {
   "codemirror_mode": {
    "name": "ipython",
    "version": 3
   },
   "file_extension": ".py",
   "mimetype": "text/x-python",
   "name": "python",
   "nbconvert_exporter": "python",
   "pygments_lexer": "ipython3",
   "version": "3.8.12"
  },
  "toc": {
   "base_numbering": 1,
   "nav_menu": {},
   "number_sections": true,
   "sideBar": true,
   "skip_h1_title": true,
   "title_cell": "Table of Contents",
   "title_sidebar": "Contents",
   "toc_cell": true,
   "toc_position": {
    "height": "calc(100% - 180px)",
    "left": "10px",
    "top": "150px",
    "width": "286.667px"
   },
   "toc_section_display": true,
   "toc_window_display": false
  },
  "varInspector": {
   "cols": {
    "lenName": 16,
    "lenType": 16,
    "lenVar": 40
   },
   "kernels_config": {
    "python": {
     "delete_cmd_postfix": "",
     "delete_cmd_prefix": "del ",
     "library": "var_list.py",
     "varRefreshCmd": "print(var_dic_list())"
    },
    "r": {
     "delete_cmd_postfix": ") ",
     "delete_cmd_prefix": "rm(",
     "library": "var_list.r",
     "varRefreshCmd": "cat(var_dic_list()) "
    }
   },
   "types_to_exclude": [
    "module",
    "function",
    "builtin_function_or_method",
    "instance",
    "_Feature"
   ],
   "window_display": false
  }
 },
 "nbformat": 4,
 "nbformat_minor": 5
}
