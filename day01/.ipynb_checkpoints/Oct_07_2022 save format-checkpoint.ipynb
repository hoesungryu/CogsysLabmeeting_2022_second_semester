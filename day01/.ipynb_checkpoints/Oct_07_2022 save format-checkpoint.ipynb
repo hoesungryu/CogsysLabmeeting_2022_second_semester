{
 "cells": [
  {
   "cell_type": "markdown",
   "id": "5b2a0e51",
   "metadata": {},
   "source": [
    "# Oct_07_2022 save format"
   ]
  },
  {
   "cell_type": "markdown",
   "id": "6dea19d3",
   "metadata": {
    "toc": true
   },
   "source": [
    "<h1>Table of Contents<span class=\"tocSkip\"></span></h1>\n",
    "<div class=\"toc\"><ul class=\"toc-item\"><li><span><a href=\"#Introduction\" data-toc-modified-id=\"Introduction-1\"><span class=\"toc-item-num\">1&nbsp;&nbsp;</span>Introduction</a></span></li><li><span><a href=\"#Save-format\" data-toc-modified-id=\"Save-format-2\"><span class=\"toc-item-num\">2&nbsp;&nbsp;</span>Save format</a></span></li><li><span><a href=\"#Experiments\" data-toc-modified-id=\"Experiments-3\"><span class=\"toc-item-num\">3&nbsp;&nbsp;</span>Experiments</a></span></li><li><span><a href=\"#Conclusion\" data-toc-modified-id=\"Conclusion-4\"><span class=\"toc-item-num\">4&nbsp;&nbsp;</span>Conclusion</a></span></li><li><span><a href=\"#Reference:\" data-toc-modified-id=\"Reference:-5\"><span class=\"toc-item-num\">5&nbsp;&nbsp;</span>Reference:</a></span></li></ul></div>"
   ]
  },
  {
   "cell_type": "markdown",
   "id": "a1b7b45c",
   "metadata": {},
   "source": [
    "## Introduction\n",
    "\n",
    "CSV provides enormous flexibility in data reading writing previewsing etc.. But, we have another option to save the data in a few time-efficient ans storage-optimized way . \n",
    "\n",
    "\n",
    "## Save format \n",
    "Pandas offers a variety of file formats:\n",
    "- Csv — a good old friend of a data scientist\n",
    "- pickle — a Python’s way to serialize things\n",
    "- parquet — an Apache Hadoop’s columnar storage format\n",
    "- feather — a fast, lightweight, and easy-to-use binary file format for storing data frames\n",
    "- Json — data interchange format that uses human-readable\n",
    "- HDF5 — a file format designed to store and organize large amounts of data\n",
    "\n",
    "## Experiments \n",
    "\n",
    "\n"
   ]
  },
  {
   "cell_type": "code",
   "execution_count": 2,
   "id": "0377999b",
   "metadata": {
    "ExecuteTime": {
     "end_time": "2022-10-05T12:01:25.724500Z",
     "start_time": "2022-10-05T12:01:25.722958Z"
    }
   },
   "outputs": [],
   "source": [
    "################################\n",
    "# Install package Linux os has problem when install the feather format... \n",
    "# Be careful. \n",
    "################################\n",
    "# !conda install -c conda-forge feather-format -y"
   ]
  },
  {
   "cell_type": "code",
   "execution_count": 1,
   "id": "c03ade0b",
   "metadata": {
    "ExecuteTime": {
     "end_time": "2022-10-05T12:51:06.500058Z",
     "start_time": "2022-10-05T12:51:06.020902Z"
    },
    "scrolled": false
   },
   "outputs": [],
   "source": [
    "# package load \n",
    "import os\n",
    "import feather\n",
    "import numpy as np\n",
    "import pandas as pd\n",
    "import seaborn as sns\n",
    "from collections import defaultdict\n",
    "\n",
    "from utils import *"
   ]
  },
  {
   "cell_type": "code",
   "execution_count": 2,
   "id": "6409fb20",
   "metadata": {
    "ExecuteTime": {
     "end_time": "2022-10-05T12:51:06.509773Z",
     "start_time": "2022-10-05T12:51:06.506936Z"
    }
   },
   "outputs": [],
   "source": [
    "# import gc\n",
    "# from multiprocessing import Process, Event, Value\n",
    "# import os\n",
    "# import time\n",
    "# from timeit import default_timer\n",
    "\n",
    "# import matplotlib.pyplot as plt\n",
    "# import numpy as np\n",
    "# import psutil\n",
    "\n",
    "\n",
    "# class Timer:\n",
    "#     \"\"\"Simple util to measure execution time.\n",
    "#     Examples\n",
    "#     --------\n",
    "#     >>> import time\n",
    "#     >>> with Timer() as timer:\n",
    "#     ...     time.sleep(1)\n",
    "#     >>> print(timer)\n",
    "#     00:00:01\n",
    "#     \"\"\"\n",
    "#     def __init__(self):\n",
    "#         self.start = None\n",
    "#         self.elapsed = None\n",
    "\n",
    "#     def __enter__(self):\n",
    "#         self.start = default_timer()\n",
    "#         return self\n",
    "\n",
    "#     def __exit__(self, exc_type, exc_val, exc_tb):\n",
    "#         self.elapsed = default_timer() - self.start\n",
    "\n",
    "#     def __str__(self):\n",
    "#         return self.verbose()\n",
    "\n",
    "#     def __float__(self):\n",
    "#         return self.elapsed\n",
    "\n",
    "#     def verbose(self):\n",
    "#         if self.elapsed is None:\n",
    "#             return '<not-measured>'\n",
    "#         return self.format_elapsed_time(self.elapsed)\n",
    "\n",
    "#     @staticmethod\n",
    "#     def format_elapsed_time(value: float):\n",
    "#         return time.strftime('%H:%M:%S', time.gmtime(value))\n",
    "    \n",
    "    \n",
    "# class MemoryTrackingProcess(Process):\n",
    "#     \"\"\"A process that periodically measures the amount of RAM consumed by another process.\n",
    "    \n",
    "#     This process is stopped as soon as the event is set.\n",
    "#     \"\"\"\n",
    "#     def __init__(self, pid, event, **kwargs):\n",
    "#         super().__init__()\n",
    "#         self.p = psutil.Process(pid)\n",
    "#         self.event = event\n",
    "#         self.max_mem = Value('f', 0.0)\n",
    "        \n",
    "#     def run(self):\n",
    "#         mem_usage = []\n",
    "#         while not self.event.is_set():\n",
    "#             info = self.p.memory_info()\n",
    "#             mem_bytes = info.rss\n",
    "#             mem_usage.append(mem_bytes)\n",
    "#             time.sleep(0.05)\n",
    "#         self.max_mem.value = np.max(mem_usage)\n",
    "\n",
    "\n",
    "# class MemoryTracker:\n",
    "#     \"\"\"A context manager that runs MemoryTrackingProcess in background and collects \n",
    "#     the information about used memory when the context is exited.\n",
    "#     \"\"\"\n",
    "#     def __init__(self, pid=None):\n",
    "#         pid = pid or os.getpid()\n",
    "#         self.start_mem = psutil.Process(pid).memory_info().rss\n",
    "#         self.event = Event()\n",
    "#         self.p = MemoryTrackingProcess(pid, self.event)\n",
    "    \n",
    "#     @property\n",
    "#     def memory(self):\n",
    "#         return self.p.max_mem.value - self.start_mem\n",
    "    \n",
    "#     def __enter__(self):\n",
    "#         self.p.start()\n",
    "#         return self\n",
    "    \n",
    "#     def __exit__(self, exc_type, exc_val, exc_tb):\n",
    "#         self.event.set()\n",
    "#         self.p.join()\n",
    "\n",
    "        \n",
    "# class GC:\n",
    "#     def __enter__(self):\n",
    "#         return self\n",
    "#     def __exit__(self, exc_type, exc_val, ext_tb):\n",
    "#         self.collected = gc.collect()\n",
    "        \n",
    "\n",
    "# class VisualStyle:\n",
    "#     def __init__(self, config, default=None):\n",
    "#         if default is None:\n",
    "#             default = plt.rcParams\n",
    "#         self.default = default.copy()\n",
    "#         self.config = config\n",
    "        \n",
    "#     def replace(self):\n",
    "#         plt.rcParams = self.config\n",
    "    \n",
    "#     def override(self, extra=None):\n",
    "#         plt.rcParams.update(self.config)\n",
    "#         if extra is not None:\n",
    "#             plt.rcParams.update(extra)\n",
    "\n",
    "#     def restore(self):\n",
    "#         plt.rcParams = self.default\n",
    "\n",
    "\n",
    "# class NotebookStyle(VisualStyle):\n",
    "#     def __init__(self):\n",
    "#         super().__init__({\n",
    "#             'figure.figsize': (11, 8),\n",
    "#             'axes.titlesize': 20,\n",
    "#             'axes.labelsize': 18,\n",
    "#             'xtick.labelsize': 14,\n",
    "#             'ytick.labelsize': 14,\n",
    "#             'font.size': 16\n",
    "#         })"
   ]
  },
  {
   "cell_type": "code",
   "execution_count": 3,
   "id": "53c98a17",
   "metadata": {
    "ExecuteTime": {
     "end_time": "2022-10-05T12:51:07.152163Z",
     "start_time": "2022-10-05T12:51:07.135243Z"
    }
   },
   "outputs": [],
   "source": [
    "def generate_dataset(n_rows, num_count, cat_count, max_nan=0.1, max_cat_size=100):\n",
    "    \"\"\"Randomly generate datasets with numerical and categorical features.\n",
    "    \n",
    "    The numerical features are taken from the normal distribution X ~ N(0, 1).\n",
    "    The categorical features are generated as random uuid4 strings with \n",
    "    cardinality C where 2 <= C <= max_cat_size.\n",
    "    \n",
    "    Also, a max_nan proportion of both numerical and categorical features is replaces\n",
    "    with NaN values.\n",
    "    \"\"\"\n",
    "    dataset, types = {}, {}\n",
    "    \n",
    "    def generate_categories():\n",
    "        from uuid import uuid4\n",
    "        category_size = np.random.randint(2, max_cat_size)\n",
    "        return [str(uuid4()) for _ in range(category_size)]\n",
    "    \n",
    "    for col in range(num_count):\n",
    "        name = f'n{col}'\n",
    "        values = np.random.normal(0, 1, n_rows)\n",
    "        nan_cnt = np.random.randint(1, int(max_nan*n_rows))\n",
    "        index = np.random.choice(n_rows, nan_cnt, replace=False)\n",
    "        values[index] = np.nan\n",
    "        dataset[name] = values\n",
    "        types[name] = 'float32'\n",
    "        \n",
    "    for col in range(cat_count):\n",
    "        name = f'c{col}'\n",
    "        cats = generate_categories()\n",
    "        values = np.array(np.random.choice(cats, n_rows, replace=True), dtype=object)\n",
    "        nan_cnt = np.random.randint(1, int(max_nan*n_rows))\n",
    "        index = np.random.choice(n_rows, nan_cnt, replace=False)\n",
    "        values[index] = np.nan\n",
    "        dataset[name] = values\n",
    "        types[name] = 'object'\n",
    "    \n",
    "    return pd.DataFrame(dataset), types\n",
    "\n",
    "def size_of(filename, unit=1024**2):\n",
    "    return round(os.stat(filename).st_size / unit, 2)\n",
    "def get_save_load(df, fmt):\n",
    "    save = getattr(df, f'to_{fmt}')\n",
    "    load = feather.read_dataframe if fmt == 'feather' else getattr(pd, f'read_{fmt}')\n",
    "    return save, load\n",
    "def benchmark(list_of_formats, data_size=1_000_00, n_num=15, n_cat=15, n_rounds=5,\n",
    "              as_category=False):\n",
    "    \"\"\"Runs dataset saving/loading benchamrk using formts from the list_of_formats.\n",
    "    \n",
    "    Each round a new random dataset is generated with data_size observations. \n",
    "    The measurements for each of the rounds are concatenated together and returned\n",
    "    as a single data frame.\n",
    "    \n",
    "    Parameters:\n",
    "        list_of_formats: A list of tuples in the format (<format_name>, [<params_dict>]). \n",
    "            The <format_name> should be one of the pandas supported formats.\n",
    "        data_size: A number of samples in the generated dataset.\n",
    "        n_num: A number of numerical columns in the generated dataset.\n",
    "        n_cat: A number of categorical columns in the generated dataset.\n",
    "        n_rounds: A number of randomly generated datasets to test the formats.\n",
    "        as_category: If True, then categorical columns will be converted into \n",
    "            pandas.Category type before saving.\n",
    "            \n",
    "    \"\"\"\n",
    "    runs = []\n",
    "    \n",
    "    for i in range(n_rounds):\n",
    "        print(f'Benchmarking round #{i + 1:d}', end='\\r')\n",
    "#         print('\\tgenerating dataset...',end='\\r')\n",
    "        dataset, _ = generate_dataset(data_size, n_num, n_cat)\n",
    "        \n",
    "        if as_category:\n",
    "#             print('\\tconverting categorical columns into pandas.Category')\n",
    "            cat_cols = dataset.select_dtypes(include=object).columns\n",
    "            dataset[cat_cols] = dataset[cat_cols].fillna('none').astype('category')\n",
    "        \n",
    "        benchmark = []\n",
    "        \n",
    "        for case in list_of_formats:\n",
    "            fmt, params = case if len(case) == 2 else (case[0], {})\n",
    "            \n",
    "            with GC():\n",
    "#                 print('\\ttesting format:', fmt)\n",
    "                filename = f'random.{fmt}'\n",
    "                save, load = get_save_load(dataset, fmt)\n",
    "                results = defaultdict(int)\n",
    "                results['format'] = fmt\n",
    "                results['filename'] = filename\n",
    "                \n",
    "                with MemoryTracker() as tracker:\n",
    "                    with Timer() as timer:\n",
    "                        save(filename, **params)\n",
    "                results['size_mb'] = size_of(filename)\n",
    "                results['save_ram_delta_mb'] = tracker.memory / (1024 ** 2)\n",
    "                results['save_time'] = float(timer)\n",
    "                \n",
    "                with MemoryTracker() as tracker:\n",
    "                    with Timer() as timer:\n",
    "                        _ = load(filename)\n",
    "                results['load_ram_delta_mb'] = tracker.memory / (1024 ** 2)\n",
    "                results['load_time'] = float(timer)\n",
    "                \n",
    "                benchmark.append(results)\n",
    "                \n",
    "            run = pd.DataFrame(benchmark)\n",
    "            run['run_no'] = i\n",
    "            runs.append(run)\n",
    "            \n",
    "    benchmark = pd.concat(runs, axis=0)\n",
    "    benchmark.reset_index(inplace=True, drop=True)\n",
    "    print(f'Benchmarking round Done ...')\n",
    "    return benchmark"
   ]
  },
  {
   "cell_type": "code",
   "execution_count": 4,
   "id": "ce2a995e",
   "metadata": {
    "ExecuteTime": {
     "end_time": "2022-10-05T12:51:07.874031Z",
     "start_time": "2022-10-05T12:51:07.870725Z"
    }
   },
   "outputs": [],
   "source": [
    "formats = [\n",
    "    ('csv', {'index': None}),\n",
    "    ('hdf', {'key': 'data', 'format': 'table'}),\n",
    "    ('pickle',),\n",
    "    ('feather',),\n",
    "    ('json',),\n",
    "    ('parquet', {'engine': 'pyarrow'})\n",
    "]"
   ]
  },
  {
   "cell_type": "code",
   "execution_count": 5,
   "id": "a1010497",
   "metadata": {
    "ExecuteTime": {
     "end_time": "2022-10-05T12:51:55.047756Z",
     "start_time": "2022-10-05T12:51:08.416749Z"
    }
   },
   "outputs": [
    {
     "name": "stdout",
     "output_type": "stream",
     "text": [
      "Benchmarking round Done ...\n"
     ]
    }
   ],
   "source": [
    "results = benchmark(formats)"
   ]
  },
  {
   "cell_type": "code",
   "execution_count": 6,
   "id": "f3245b92",
   "metadata": {
    "ExecuteTime": {
     "end_time": "2022-10-05T12:51:55.069691Z",
     "start_time": "2022-10-05T12:51:55.067200Z"
    }
   },
   "outputs": [],
   "source": [
    "results['save+load_time'] = results['save_time'] + results['load_time']\n",
    "avg = results.groupby('format').mean().reset_index().drop(columns=['run_no'])"
   ]
  },
  {
   "cell_type": "code",
   "execution_count": 7,
   "id": "4f432c56",
   "metadata": {
    "ExecuteTime": {
     "end_time": "2022-10-05T12:51:55.321172Z",
     "start_time": "2022-10-05T12:51:55.086772Z"
    }
   },
   "outputs": [
    {
     "data": {
      "image/png": "[encoded data removed]",
      "text/plain": [
       "<Figure size 432x288 with 1 Axes>"
      ]
     },
     "metadata": {
      "needs_background": "light"
     },
     "output_type": "display_data"
    }
   ],
   "source": [
    "ax = sns.barplot(x='format', y='save+load_time',\n",
    "                 data=results.sort_values('save+load_time',ascending=False),\n",
    "                 ci=95,capsize=.15,)\n",
    "_ = ax.set_xlabel('File Format')\n",
    "_ = ax.set_ylabel('Seconds')\n",
    "_ = ax.set_title('Time to Save+Load a Data Frame ')"
   ]
  },
  {
   "cell_type": "code",
   "execution_count": 11,
   "id": "864c0c15",
   "metadata": {
    "ExecuteTime": {
     "end_time": "2022-10-05T12:52:24.608188Z",
     "start_time": "2022-10-05T12:52:24.428544Z"
    },
    "scrolled": false
   },
   "outputs": [
    {
     "data": {
      "image/png": "[encoded data removed]",
      "text/plain": [
       "<Figure size 432x288 with 1 Axes>"
      ]
     },
     "metadata": {
      "needs_background": "light"
     },
     "output_type": "display_data"
    },
    {
     "data": {
      "image/png": "[encoded data removed]",
      "text/plain": [
       "<Figure size 432x288 with 1 Axes>"
      ]
     },
     "metadata": {
      "needs_background": "light"
     },
     "output_type": "display_data"
    }
   ],
   "source": [
    "ax = sns.barplot(x='format', y='size_mb',\n",
    "                 data=avg.sort_values('size_mb',ascending=False))\n",
    "_ = ax.set_xlabel('Memory, Mb')\n",
    "_ = ax.set_ylabel('File Format')\n",
    "_ = ax.set_title('Serialized File Size')\n",
    "plt.show()\n",
    "ax = sns.barplot(x='format', y='size_mb', data=avg.drop(2,axis=0))\n",
    "_ = ax.set_xlabel('Memory, Mb')\n",
    "_ = ax.set_ylabel('File Format')\n",
    "_ = ax.set_title('Serialized File Size')\n",
    "plt.show()"
   ]
  },
  {
   "cell_type": "markdown",
   "id": "4ba0849e",
   "metadata": {},
   "source": [
    "## Conclusion \n",
    "\n",
    "- `CSV` is essentially a text file. It allows us to easy view of data\n",
    "- `Feather` format is an ideal candiate to store data. but, [feather format is not expected to be used as a long-term file storage.](https://stackoverflow.com/questions/48083405/what-are-the-differences-between-feather-and-parquet)\n",
    "- If you save the data like Pythonic way then use `Pickle`. "
   ]
  },
  {
   "cell_type": "markdown",
   "id": "e7dc1bbc",
   "metadata": {},
   "source": [
    "## Reference: \n",
    "- https://github.com/devforfu/pandas-formats-benchmark/blob/master/benchmark.ipynb"
   ]
  }
 ],
 "metadata": {
  "hide_input": false,
  "kernelspec": {
   "display_name": "Python 3",
   "language": "python",
   "name": "python3"
  },
  "language_info": {
   "codemirror_mode": {
    "name": "ipython",
    "version": 3
   },
   "file_extension": ".py",
   "mimetype": "text/x-python",
   "name": "python",
   "nbconvert_exporter": "python",
   "pygments_lexer": "ipython3",
   "version": "3.6.13"
  },
  "toc": {
   "base_numbering": 1,
   "nav_menu": {},
   "number_sections": true,
   "sideBar": true,
   "skip_h1_title": true,
   "title_cell": "Table of Contents",
   "title_sidebar": "Contents",
   "toc_cell": true,
   "toc_position": {},
   "toc_section_display": true,
   "toc_window_display": true
  },
  "varInspector": {
   "cols": {
    "lenName": 16,
    "lenType": 16,
    "lenVar": 40
   },
   "kernels_config": {
    "python": {
     "delete_cmd_postfix": "",
     "delete_cmd_prefix": "del ",
     "library": "var_list.py",
     "varRefreshCmd": "print(var_dic_list())"
    },
    "r": {
     "delete_cmd_postfix": ") ",
     "delete_cmd_prefix": "rm(",
     "library": "var_list.r",
     "varRefreshCmd": "cat(var_dic_list()) "
    }
   },
   "types_to_exclude": [
    "module",
    "function",
    "builtin_function_or_method",
    "instance",
    "_Feature"
   ],
   "window_display": false
  }
 },
 "nbformat": 4,
 "nbformat_minor": 5
}
