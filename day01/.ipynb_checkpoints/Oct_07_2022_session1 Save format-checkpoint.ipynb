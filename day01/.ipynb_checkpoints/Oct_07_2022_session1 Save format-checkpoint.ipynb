{
 "cells": [
  {
   "cell_type": "markdown",
   "id": "5b2a0e51",
   "metadata": {},
   "source": [
    "# Oct_07_2022 save format"
   ]
  },
  {
   "cell_type": "markdown",
   "id": "6dea19d3",
   "metadata": {
    "toc": true
   },
   "source": [
    "<h1>Table of Contents<span class=\"tocSkip\"></span></h1>\n",
    "<div class=\"toc\"><ul class=\"toc-item\"><li><span><a href=\"#Introduction\" data-toc-modified-id=\"Introduction-1\"><span class=\"toc-item-num\">1&nbsp;&nbsp;</span>Introduction</a></span></li><li><span><a href=\"#Save-format\" data-toc-modified-id=\"Save-format-2\"><span class=\"toc-item-num\">2&nbsp;&nbsp;</span>Save format</a></span></li><li><span><a href=\"#Method\" data-toc-modified-id=\"Method-3\"><span class=\"toc-item-num\">3&nbsp;&nbsp;</span>Method</a></span></li><li><span><a href=\"#Experiments\" data-toc-modified-id=\"Experiments-4\"><span class=\"toc-item-num\">4&nbsp;&nbsp;</span>Experiments</a></span></li><li><span><a href=\"#Results\" data-toc-modified-id=\"Results-5\"><span class=\"toc-item-num\">5&nbsp;&nbsp;</span>Results</a></span></li><li><span><a href=\"#Conclusion\" data-toc-modified-id=\"Conclusion-6\"><span class=\"toc-item-num\">6&nbsp;&nbsp;</span>Conclusion</a></span></li><li><span><a href=\"#Appendix\" data-toc-modified-id=\"Appendix-7\"><span class=\"toc-item-num\">7&nbsp;&nbsp;</span>Appendix</a></span></li><li><span><a href=\"#Reference:\" data-toc-modified-id=\"Reference:-8\"><span class=\"toc-item-num\">8&nbsp;&nbsp;</span>Reference:</a></span></li></ul></div>"
   ]
  },
  {
   "cell_type": "markdown",
   "id": "4b1763d6",
   "metadata": {},
   "source": [
    "## Introduction\n",
    "\n",
    "CSV provides enormous flexibility in data reading writing previewsing etc.. But, we have another option to save the data in a few time-efficient ans storage-optimized way . \n",
    "\n",
    "\n",
    "## Save format \n",
    "Pandas offers a variety of file formats:\n",
    "- Csv — a good old friend of a data scientist\n",
    "- pickle — a Python’s way to serialize things\n",
    "- parquet — an Apache Hadoop’s columnar storage format\n",
    "- feather — a fast, lightweight, and easy-to-use binary file format for storing data frames\n",
    "- Json — data interchange format that uses human-readable\n",
    "- HDF5 — a file format designed to store and organize large amounts of data"
   ]
  },
  {
   "cell_type": "markdown",
   "id": "268f9cb8",
   "metadata": {},
   "source": [
    "## Method \n",
    "\n",
    "```python \n",
    "import feather\n",
    "import pandas as pd\n",
    "\n",
    "df.to_csv('example.csv')\n",
    "csv_file = pd.read_csv('example.csv')\n",
    "\n",
    "df.to_pickle('example.pkl')\n",
    "pickel_file = pd.read_pickle('example.pkl')\n",
    "\n",
    "df.to_json('example.json')\n",
    "pickel_file = pd.read_json('example.pkl')\n",
    "\n",
    "df.to_feather('example.feather')\n",
    "feathre_file = feather.read_dataframe('example.feather')\n",
    "\n",
    "```"
   ]
  },
  {
   "cell_type": "markdown",
   "id": "a1b7b45c",
   "metadata": {},
   "source": [
    "## Experiments "
   ]
  },
  {
   "cell_type": "code",
   "execution_count": 1,
   "id": "0377999b",
   "metadata": {
    "ExecuteTime": {
     "end_time": "2022-10-09T04:10:27.145574Z",
     "start_time": "2022-10-09T04:10:27.143740Z"
    }
   },
   "outputs": [],
   "source": [
    "################################\n",
    "# Install package Linux os has problem when install the feather format... \n",
    "# Be careful. \n",
    "################################\n",
    "# !conda install -c conda-forge feather-format -y"
   ]
  },
  {
   "cell_type": "code",
   "execution_count": 2,
   "id": "c03ade0b",
   "metadata": {
    "ExecuteTime": {
     "end_time": "2022-10-09T04:10:27.477400Z",
     "start_time": "2022-10-09T04:10:27.146484Z"
    },
    "scrolled": false
   },
   "outputs": [
    {
     "ename": "ModuleNotFoundError",
     "evalue": "No module named 'feather'",
     "output_type": "error",
     "traceback": [
      "\u001b[0;31m---------------------------------------------------------------------------\u001b[0m",
      "\u001b[0;31mModuleNotFoundError\u001b[0m                       Traceback (most recent call last)",
      "Input \u001b[0;32mIn [2]\u001b[0m, in \u001b[0;36m<cell line: 3>\u001b[0;34m()\u001b[0m\n\u001b[1;32m      1\u001b[0m \u001b[38;5;66;03m# package load \u001b[39;00m\n\u001b[1;32m      2\u001b[0m \u001b[38;5;28;01mimport\u001b[39;00m \u001b[38;5;21;01mos\u001b[39;00m\n\u001b[0;32m----> 3\u001b[0m \u001b[38;5;28;01mimport\u001b[39;00m \u001b[38;5;21;01mfeather\u001b[39;00m\n\u001b[1;32m      4\u001b[0m \u001b[38;5;28;01mimport\u001b[39;00m \u001b[38;5;21;01mnumpy\u001b[39;00m \u001b[38;5;28;01mas\u001b[39;00m \u001b[38;5;21;01mnp\u001b[39;00m\n\u001b[1;32m      5\u001b[0m \u001b[38;5;28;01mimport\u001b[39;00m \u001b[38;5;21;01mpandas\u001b[39;00m \u001b[38;5;28;01mas\u001b[39;00m \u001b[38;5;21;01mpd\u001b[39;00m\n",
      "\u001b[0;31mModuleNotFoundError\u001b[0m: No module named 'feather'"
     ]
    }
   ],
   "source": [
    "# package load \n",
    "import os\n",
    "import feather\n",
    "import numpy as np\n",
    "import pandas as pd\n",
    "import seaborn as sns\n",
    "from collections import defaultdict\n",
    "import matplotlib.pyplot as plt\n",
    "# user-defined function\n",
    "from utils import *"
   ]
  },
  {
   "cell_type": "code",
   "execution_count": null,
   "id": "ce2a995e",
   "metadata": {
    "ExecuteTime": {
     "end_time": "2022-10-09T04:10:27.478500Z",
     "start_time": "2022-10-09T04:10:27.478491Z"
    }
   },
   "outputs": [],
   "source": [
    "formats = [\n",
    "    ('csv', {'index': None}),\n",
    "    ('hdf', {'key': 'data', 'format': 'table'}),\n",
    "    ('pickle',),\n",
    "    ('feather',),\n",
    "    ('json',),\n",
    "    ('parquet', {'engine': 'pyarrow'})\n",
    "]"
   ]
  },
  {
   "cell_type": "code",
   "execution_count": null,
   "id": "a1010497",
   "metadata": {
    "ExecuteTime": {
     "end_time": "2022-10-09T04:10:27.479484Z",
     "start_time": "2022-10-09T04:10:27.479473Z"
    }
   },
   "outputs": [],
   "source": [
    "results = benchmark(formats)"
   ]
  },
  {
   "cell_type": "code",
   "execution_count": null,
   "id": "f3245b92",
   "metadata": {
    "ExecuteTime": {
     "end_time": "2022-10-09T04:10:27.480306Z",
     "start_time": "2022-10-09T04:10:27.480295Z"
    }
   },
   "outputs": [],
   "source": [
    "results['save+load_time'] = results['save_time'] + results['load_time']\n",
    "avg = results.groupby('format').mean().reset_index().drop(columns=['run_no'])\n",
    "avg"
   ]
  },
  {
   "cell_type": "markdown",
   "id": "b924e78a",
   "metadata": {},
   "source": [
    "## Results"
   ]
  },
  {
   "cell_type": "code",
   "execution_count": null,
   "id": "4f432c56",
   "metadata": {
    "ExecuteTime": {
     "end_time": "2022-10-09T04:10:27.480930Z",
     "start_time": "2022-10-09T04:10:27.480921Z"
    }
   },
   "outputs": [],
   "source": [
    "ax = sns.barplot(x='format', y='save+load_time',\n",
    "                 data=results.sort_values('save+load_time',ascending=False),\n",
    "                 ci=95,capsize=.15,)\n",
    "_ = ax.set_xlabel('File Format')\n",
    "_ = ax.set_ylabel('Seconds')\n",
    "_ = ax.set_title('Time to Save+Load a Data Frame ')"
   ]
  },
  {
   "cell_type": "code",
   "execution_count": null,
   "id": "864c0c15",
   "metadata": {
    "ExecuteTime": {
     "end_time": "2022-10-09T04:10:27.481700Z",
     "start_time": "2022-10-09T04:10:27.481690Z"
    },
    "scrolled": false
   },
   "outputs": [],
   "source": [
    "ax = sns.barplot(x='format', y='size_mb',\n",
    "                 data=avg.sort_values('size_mb', ascending=False))\n",
    "_ = ax.set_ylabel('Memory, Mb')\n",
    "_ = ax.set_xlabel('File Format')\n",
    "_ = ax.set_title('Serialized File Size')\n",
    "plt.show()"
   ]
  },
  {
   "cell_type": "markdown",
   "id": "4ba0849e",
   "metadata": {},
   "source": [
    "## Conclusion \n",
    "\n",
    "- `CSV` is essentially a text file. It allows us to easy view of data\n",
    "- `Feather` format is an ideal candiate to store data. but, [feather format is not expected to be used as a long-term file storage.](https://stackoverflow.com/questions/48083405/what-are-the-differences-between-feather-and-parquet)\n",
    "- If you save the data like Pythonic way then use `Pickle`. "
   ]
  },
  {
   "cell_type": "markdown",
   "id": "251b5ead",
   "metadata": {},
   "source": [
    "## Appendix \n",
    "\n",
    "When we used Torch framework, we usually build `dataset and dataloader` and lots of augmentation method apply to our data. This approach is not time-efficient. \n",
    "Therefore, we can save our dataset as an `.pt` format and it can save our time to load the data.  \n",
    "Please check... "
   ]
  },
  {
   "cell_type": "markdown",
   "id": "e7dc1bbc",
   "metadata": {},
   "source": [
    "## Reference: \n",
    "- https://github.com/devforfu/pandas-formats-benchmark/blob/master/benchmark.ipynb"
   ]
  }
 ],
 "metadata": {
  "hide_input": false,
  "kernelspec": {
   "display_name": "Python 3 (ipykernel)",
   "language": "python",
   "name": "python3"
  },
  "language_info": {
   "codemirror_mode": {
    "name": "ipython",
    "version": 3
   },
   "file_extension": ".py",
   "mimetype": "text/x-python",
   "name": "python",
   "nbconvert_exporter": "python",
   "pygments_lexer": "ipython3",
   "version": "3.8.5"
  },
  "toc": {
   "base_numbering": 1,
   "nav_menu": {},
   "number_sections": true,
   "sideBar": true,
   "skip_h1_title": true,
   "title_cell": "Table of Contents",
   "title_sidebar": "Contents",
   "toc_cell": true,
   "toc_position": {},
   "toc_section_display": true,
   "toc_window_display": false
  },
  "varInspector": {
   "cols": {
    "lenName": 16,
    "lenType": 16,
    "lenVar": 40
   },
   "kernels_config": {
    "python": {
     "delete_cmd_postfix": "",
     "delete_cmd_prefix": "del ",
     "library": "var_list.py",
     "varRefreshCmd": "print(var_dic_list())"
    },
    "r": {
     "delete_cmd_postfix": ") ",
     "delete_cmd_prefix": "rm(",
     "library": "var_list.r",
     "varRefreshCmd": "cat(var_dic_list()) "
    }
   },
   "types_to_exclude": [
    "module",
    "function",
    "builtin_function_or_method",
    "instance",
    "_Feature"
   ],
   "window_display": false
  }
 },
 "nbformat": 4,
 "nbformat_minor": 5
}
