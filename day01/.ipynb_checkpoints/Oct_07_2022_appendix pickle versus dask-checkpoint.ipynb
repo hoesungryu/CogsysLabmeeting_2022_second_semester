{
 "cells": [
  {
   "cell_type": "markdown",
   "id": "3fa14418",
   "metadata": {},
   "source": [
    "# Oct_07_2022_appendix pickle versus dask"
   ]
  },
  {
   "cell_type": "code",
   "execution_count": 1,
   "id": "fdcdf815",
   "metadata": {
    "ExecuteTime": {
     "end_time": "2022-10-09T05:11:09.769924Z",
     "start_time": "2022-10-09T05:11:09.124204Z"
    }
   },
   "outputs": [
    {
     "data": {
      "text/html": [
       "<style type='text/css'>\n",
       ".datatable table.frame { margin-bottom: 0; }\n",
       ".datatable table.frame thead { border-bottom: none; }\n",
       ".datatable table.frame tr.coltypes td {  color: #FFFFFF;  line-height: 6px;  padding: 0 0.5em;}\n",
       ".datatable .bool    { background: #DDDD99; }\n",
       ".datatable .object  { background: #565656; }\n",
       ".datatable .int     { background: #5D9E5D; }\n",
       ".datatable .float   { background: #4040CC; }\n",
       ".datatable .str     { background: #CC4040; }\n",
       ".datatable .time    { background: #40CC40; }\n",
       ".datatable .row_index {  background: var(--jp-border-color3);  border-right: 1px solid var(--jp-border-color0);  color: var(--jp-ui-font-color3);  font-size: 9px;}\n",
       ".datatable .frame tbody td { text-align: left; }\n",
       ".datatable .frame tr.coltypes .row_index {  background: var(--jp-border-color0);}\n",
       ".datatable th:nth-child(2) { padding-left: 12px; }\n",
       ".datatable .hellipsis {  color: var(--jp-cell-editor-border-color);}\n",
       ".datatable .vellipsis {  background: var(--jp-layout-color0);  color: var(--jp-cell-editor-border-color);}\n",
       ".datatable .na {  color: var(--jp-cell-editor-border-color);  font-size: 80%;}\n",
       ".datatable .sp {  opacity: 0.25;}\n",
       ".datatable .footer { font-size: 9px; }\n",
       ".datatable .frame_dimensions {  background: var(--jp-border-color3);  border-top: 1px solid var(--jp-border-color0);  color: var(--jp-ui-font-color3);  display: inline-block;  opacity: 0.6;  padding: 1px 10px 1px 5px;}\n",
       "</style>\n"
      ],
      "text/plain": [
       "<IPython.core.display.HTML object>"
      ]
     },
     "metadata": {},
     "output_type": "display_data"
    },
    {
     "name": "stderr",
     "output_type": "stream",
     "text": [
      "/home/hoesungryu/anaconda3/envs/torch/lib/python3.6/site-packages/dask/dataframe/utils.py:13: FutureWarning: pandas.util.testing is deprecated. Use the functions in the public API at pandas.testing instead.\n",
      "  import pandas.util.testing as tm\n"
     ]
    }
   ],
   "source": [
    "#############################\n",
    "# import\n",
    "#############################\n",
    "\n",
    "import pandas as pd\n",
    "import datatable as dt\n",
    "from time import time\n",
    "from dask import dataframe as dd\n",
    "\n",
    "import matplotlib.pyplot as plt\n",
    "from utils import read_pickle, read_Dask, check_reading_speed_appendix"
   ]
  },
  {
   "cell_type": "markdown",
   "id": "1f42b9e9",
   "metadata": {},
   "source": [
    "## Experiments"
   ]
  },
  {
   "cell_type": "code",
   "execution_count": 5,
   "id": "925f3423",
   "metadata": {
    "ExecuteTime": {
     "end_time": "2022-10-09T05:19:27.557294Z",
     "start_time": "2022-10-09T05:19:21.949471Z"
    },
    "scrolled": true
   },
   "outputs": [
    {
     "name": "stdout",
     "output_type": "stream",
     "text": [
      "Checking reading speed ...\n",
      "\tDask done ... \n",
      "\tPickle done ... \n",
      "Experiments Done .. \n"
     ]
    }
   ],
   "source": [
    "csv_file_path = './random.csv'\n",
    "pickle_file_path = './random.pickle'\n",
    "\n",
    "results = check_reading_speed_appendix(\n",
    "    csv_file_path, pickle_file_path, num_test = 30 )"
   ]
  },
  {
   "cell_type": "code",
   "execution_count": 6,
   "id": "26bb13a7",
   "metadata": {
    "ExecuteTime": {
     "end_time": "2022-10-09T05:19:27.635064Z",
     "start_time": "2022-10-09T05:19:27.575255Z"
    }
   },
   "outputs": [
    {
     "data": {
      "image/png": "[encoded data removed]",
      "text/plain": [
       "<Figure size 432x288 with 1 Axes>"
      ]
     },
     "metadata": {
      "needs_background": "light"
     },
     "output_type": "display_data"
    }
   ],
   "source": [
    "fig = plt.figure()\n",
    "ax = fig.add_axes([0,0,1,1])\n",
    "ax.set_ylabel('s')\n",
    "ax.set_title('Speed of reading csv files')\n",
    "lib = ['dask', 'Pickle']\n",
    "perf = [*results]\n",
    "ax.bar(lib,perf)\n",
    "plt.show()"
   ]
  },
  {
   "cell_type": "markdown",
   "id": "e514917c",
   "metadata": {},
   "source": [
    "## Conclusions\n",
    "\n",
    "when we trying to handle multiple files, it seems clear that using `Dask` is faster using `Pickle` .\n"
   ]
  },
  {
   "cell_type": "code",
   "execution_count": null,
   "id": "6cf46319",
   "metadata": {},
   "outputs": [],
   "source": []
  }
 ],
 "metadata": {
  "hide_input": false,
  "kernelspec": {
   "display_name": "Python 3",
   "language": "python",
   "name": "python3"
  },
  "language_info": {
   "codemirror_mode": {
    "name": "ipython",
    "version": 3
   },
   "file_extension": ".py",
   "mimetype": "text/x-python",
   "name": "python",
   "nbconvert_exporter": "python",
   "pygments_lexer": "ipython3",
   "version": "3.6.13"
  },
  "toc": {
   "base_numbering": 1,
   "nav_menu": {},
   "number_sections": true,
   "sideBar": true,
   "skip_h1_title": true,
   "title_cell": "Table of Contents",
   "title_sidebar": "Contents",
   "toc_cell": false,
   "toc_position": {
    "height": "calc(100% - 180px)",
    "left": "10px",
    "top": "150px",
    "width": "276.667px"
   },
   "toc_section_display": true,
   "toc_window_display": true
  },
  "varInspector": {
   "cols": {
    "lenName": 16,
    "lenType": 16,
    "lenVar": 40
   },
   "kernels_config": {
    "python": {
     "delete_cmd_postfix": "",
     "delete_cmd_prefix": "del ",
     "library": "var_list.py",
     "varRefreshCmd": "print(var_dic_list())"
    },
    "r": {
     "delete_cmd_postfix": ") ",
     "delete_cmd_prefix": "rm(",
     "library": "var_list.r",
     "varRefreshCmd": "cat(var_dic_list()) "
    }
   },
   "types_to_exclude": [
    "module",
    "function",
    "builtin_function_or_method",
    "instance",
    "_Feature"
   ],
   "window_display": false
  }
 },
 "nbformat": 4,
 "nbformat_minor": 5
}
