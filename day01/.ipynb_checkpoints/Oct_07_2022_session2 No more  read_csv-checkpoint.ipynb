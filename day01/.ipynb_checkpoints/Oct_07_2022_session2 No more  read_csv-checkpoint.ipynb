{
 "cells": [
  {
   "cell_type": "markdown",
   "id": "4d039e0e",
   "metadata": {},
   "source": [
    "# Oct_07_2022 No more  read_csv and to_csv"
   ]
  },
  {
   "cell_type": "markdown",
   "id": "9b7f05cf",
   "metadata": {
    "toc": true
   },
   "source": [
    "<h1>Table of Contents<span class=\"tocSkip\"></span></h1>\n",
    "<div class=\"toc\"><ul class=\"toc-item\"><li><span><a href=\"#Introduction\" data-toc-modified-id=\"Introduction-1\"><span class=\"toc-item-num\">1&nbsp;&nbsp;</span>Introduction</a></span></li><li><span><a href=\"#Dask-and-DataTable\" data-toc-modified-id=\"Dask-and-DataTable-2\"><span class=\"toc-item-num\">2&nbsp;&nbsp;</span>Dask and DataTable</a></span></li><li><span><a href=\"#Method\" data-toc-modified-id=\"Method-3\"><span class=\"toc-item-num\">3&nbsp;&nbsp;</span>Method</a></span></li><li><span><a href=\"#Experiments\" data-toc-modified-id=\"Experiments-4\"><span class=\"toc-item-num\">4&nbsp;&nbsp;</span>Experiments</a></span></li><li><span><a href=\"#Conclusions\" data-toc-modified-id=\"Conclusions-5\"><span class=\"toc-item-num\">5&nbsp;&nbsp;</span>Conclusions</a></span></li><li><span><a href=\"#Appendix\" data-toc-modified-id=\"Appendix-6\"><span class=\"toc-item-num\">6&nbsp;&nbsp;</span>Appendix</a></span></li><li><span><a href=\"#References\" data-toc-modified-id=\"References-7\"><span class=\"toc-item-num\">7&nbsp;&nbsp;</span>References</a></span></li></ul></div>"
   ]
  },
  {
   "cell_type": "markdown",
   "id": "0f2605d0",
   "metadata": {},
   "source": [
    "## Introduction\n",
    "\n",
    "In previous session, we figure out `csv` is not a good option to handle the data. But, we assump that we want to stick traditional `csv` format. Here, I will represent other package that can be generate `CSV` to `Dask` and `DataTable`. \n",
    "\n",
    "\n",
    "## Dask and DataTable  \n",
    "\n",
    "- Dask is an open-source library that provides advanced parallelization for analytics when you work with large data.\n",
    "- Datatable is another Python library with performance in mind. Unlike dask, the goal of datatable is to perform large data processing on a single-node machine at the maximum speed possible. Meanwhile, its interoperability with pandas provides the ability to convert to another data-processing framework with ease."
   ]
  },
  {
   "cell_type": "markdown",
   "id": "1a7d0331",
   "metadata": {},
   "source": [
    "## Method \n",
    "\n",
    "```python \n",
    "file_path = './random.csv'\n",
    "\n",
    "## Pandas \n",
    "df = pd.read_csv(file_path)\n",
    "\n",
    "## DataTable\n",
    "dsk_df = dt.fread(file_path)\n",
    "dsk_df = dsk_df.to_pandas()\n",
    "\n",
    "## Dask \n",
    "dt_df = dd.read_csv(file_path)\n",
    "dt_df = dt_df.compute()\n",
    "\n",
    "```"
   ]
  },
  {
   "cell_type": "markdown",
   "id": "21bdcdce",
   "metadata": {},
   "source": [
    "## Experiments"
   ]
  },
  {
   "cell_type": "code",
   "execution_count": 1,
   "id": "e8b9dcfa",
   "metadata": {
    "ExecuteTime": {
     "end_time": "2022-10-09T05:00:18.603338Z",
     "start_time": "2022-10-09T05:00:18.600752Z"
    }
   },
   "outputs": [],
   "source": [
    "#############################\n",
    "# install \n",
    "#############################\n",
    "# !pip install datatable"
   ]
  },
  {
   "cell_type": "code",
   "execution_count": 2,
   "id": "9f5021ff",
   "metadata": {
    "ExecuteTime": {
     "end_time": "2022-10-09T05:00:19.180081Z",
     "start_time": "2022-10-09T05:00:18.604851Z"
    }
   },
   "outputs": [
    {
     "ename": "ModuleNotFoundError",
     "evalue": "No module named 'datatable'",
     "output_type": "error",
     "traceback": [
      "\u001b[0;31m---------------------------------------------------------------------------\u001b[0m",
      "\u001b[0;31mModuleNotFoundError\u001b[0m                       Traceback (most recent call last)",
      "Input \u001b[0;32mIn [2]\u001b[0m, in \u001b[0;36m<cell line: 2>\u001b[0;34m()\u001b[0m\n\u001b[1;32m      1\u001b[0m \u001b[38;5;28;01mimport\u001b[39;00m \u001b[38;5;21;01mpandas\u001b[39;00m \u001b[38;5;28;01mas\u001b[39;00m \u001b[38;5;21;01mpd\u001b[39;00m\n\u001b[0;32m----> 2\u001b[0m \u001b[38;5;28;01mimport\u001b[39;00m \u001b[38;5;21;01mdatatable\u001b[39;00m \u001b[38;5;28;01mas\u001b[39;00m \u001b[38;5;21;01mdt\u001b[39;00m\n\u001b[1;32m      3\u001b[0m \u001b[38;5;28;01mfrom\u001b[39;00m \u001b[38;5;21;01mtime\u001b[39;00m \u001b[38;5;28;01mimport\u001b[39;00m time\n\u001b[1;32m      4\u001b[0m \u001b[38;5;28;01mfrom\u001b[39;00m \u001b[38;5;21;01mdask\u001b[39;00m \u001b[38;5;28;01mimport\u001b[39;00m dataframe \u001b[38;5;28;01mas\u001b[39;00m dd\n",
      "\u001b[0;31mModuleNotFoundError\u001b[0m: No module named 'datatable'"
     ]
    }
   ],
   "source": [
    "import pandas as pd\n",
    "import datatable as dt\n",
    "from time import time\n",
    "from dask import dataframe as dd\n",
    "\n",
    "import matplotlib.pyplot as plt\n",
    "\n",
    "from utils import read_pandas, read_DataTable, read_Dask, check_reading_speed"
   ]
  },
  {
   "cell_type": "code",
   "execution_count": null,
   "id": "abf54a00",
   "metadata": {
    "ExecuteTime": {
     "end_time": "2022-10-09T05:00:19.181351Z",
     "start_time": "2022-10-09T05:00:19.181342Z"
    }
   },
   "outputs": [],
   "source": [
    "file_path = './random.csv'\n",
    "results = check_reading_speed(file_path, num_test = 10)"
   ]
  },
  {
   "cell_type": "code",
   "execution_count": null,
   "id": "d63cacc6",
   "metadata": {
    "ExecuteTime": {
     "end_time": "2022-10-09T05:00:19.183283Z",
     "start_time": "2022-10-09T05:00:19.183270Z"
    }
   },
   "outputs": [],
   "source": [
    "fig = plt.figure()\n",
    "ax = fig.add_axes([0,0,1,1])\n",
    "ax.set_ylabel('s')\n",
    "ax.set_title('Speed of reading csv files')\n",
    "lib = ['pandas', 'dask', 'datatable']\n",
    "perf = [*results]\n",
    "ax.bar(lib,perf)\n",
    "plt.show()"
   ]
  },
  {
   "cell_type": "markdown",
   "id": "7b94fe72",
   "metadata": {},
   "source": [
    "## Conclusions\n",
    "\n",
    "We look up and check the reading speed of different package such as Pandas, Dask, and DataTable. \n",
    "If we"
   ]
  },
  {
   "cell_type": "markdown",
   "id": "fe4cadfe",
   "metadata": {},
   "source": [
    "## Appendix \n",
    "\n",
    "[Speed up a pandas query 10x with these 6 Dask DataFrame tricks](https://coiled.io/blog/speed-up-pandas-query-10x-with-dask/#:~:text=Dask%20runs%20faster%20than%20pandas,cores%20to%20run%20the%20computation)\n"
   ]
  },
  {
   "cell_type": "markdown",
   "id": "3ddced80",
   "metadata": {},
   "source": [
    "## References\n",
    "- https://towardsdatascience.com/pandas-vs-dask-vs-datatable-a-performance-comparison-for-processing-csv-files-3b0e0e98215e"
   ]
  }
 ],
 "metadata": {
  "hide_input": false,
  "kernelspec": {
   "display_name": "Python 3 (ipykernel)",
   "language": "python",
   "name": "python3"
  },
  "language_info": {
   "codemirror_mode": {
    "name": "ipython",
    "version": 3
   },
   "file_extension": ".py",
   "mimetype": "text/x-python",
   "name": "python",
   "nbconvert_exporter": "python",
   "pygments_lexer": "ipython3",
   "version": "3.8.5"
  },
  "toc": {
   "base_numbering": 1,
   "nav_menu": {},
   "number_sections": true,
   "sideBar": true,
   "skip_h1_title": true,
   "title_cell": "Table of Contents",
   "title_sidebar": "Contents",
   "toc_cell": true,
   "toc_position": {},
   "toc_section_display": true,
   "toc_window_display": false
  },
  "varInspector": {
   "cols": {
    "lenName": 16,
    "lenType": 16,
    "lenVar": 40
   },
   "kernels_config": {
    "python": {
     "delete_cmd_postfix": "",
     "delete_cmd_prefix": "del ",
     "library": "var_list.py",
     "varRefreshCmd": "print(var_dic_list())"
    },
    "r": {
     "delete_cmd_postfix": ") ",
     "delete_cmd_prefix": "rm(",
     "library": "var_list.r",
     "varRefreshCmd": "cat(var_dic_list()) "
    }
   },
   "types_to_exclude": [
    "module",
    "function",
    "builtin_function_or_method",
    "instance",
    "_Feature"
   ],
   "window_display": false
  }
 },
 "nbformat": 4,
 "nbformat_minor": 5
}
