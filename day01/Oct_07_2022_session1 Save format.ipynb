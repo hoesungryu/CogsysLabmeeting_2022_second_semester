{
 "cells": [
  {
   "cell_type": "markdown",
   "id": "5b2a0e51",
   "metadata": {},
   "source": [
    "# Oct_07_2022 save format"
   ]
  },
  {
   "cell_type": "markdown",
   "id": "6dea19d3",
   "metadata": {
    "toc": true
   },
   "source": [
    "<h1>Table of Contents<span class=\"tocSkip\"></span></h1>\n",
    "<div class=\"toc\"><ul class=\"toc-item\"><li><span><a href=\"#Introduction\" data-toc-modified-id=\"Introduction-1\"><span class=\"toc-item-num\">1&nbsp;&nbsp;</span>Introduction</a></span></li><li><span><a href=\"#Save-format\" data-toc-modified-id=\"Save-format-2\"><span class=\"toc-item-num\">2&nbsp;&nbsp;</span>Save format</a></span></li><li><span><a href=\"#Method\" data-toc-modified-id=\"Method-3\"><span class=\"toc-item-num\">3&nbsp;&nbsp;</span>Method</a></span></li><li><span><a href=\"#Experiments\" data-toc-modified-id=\"Experiments-4\"><span class=\"toc-item-num\">4&nbsp;&nbsp;</span>Experiments</a></span></li><li><span><a href=\"#Results\" data-toc-modified-id=\"Results-5\"><span class=\"toc-item-num\">5&nbsp;&nbsp;</span>Results</a></span></li><li><span><a href=\"#Conclusion\" data-toc-modified-id=\"Conclusion-6\"><span class=\"toc-item-num\">6&nbsp;&nbsp;</span>Conclusion</a></span></li><li><span><a href=\"#Appendix\" data-toc-modified-id=\"Appendix-7\"><span class=\"toc-item-num\">7&nbsp;&nbsp;</span>Appendix</a></span></li><li><span><a href=\"#Reference:\" data-toc-modified-id=\"Reference:-8\"><span class=\"toc-item-num\">8&nbsp;&nbsp;</span>Reference:</a></span></li></ul></div>"
   ]
  },
  {
   "cell_type": "markdown",
   "id": "4b1763d6",
   "metadata": {},
   "source": [
    "## Introduction\n",
    "\n",
    "CSV provides enormous flexibility in data reading writing previewsing etc.. But, we have another option to save the data in a few time-efficient ans storage-optimized way . \n",
    "\n",
    "\n",
    "## Save format \n",
    "Pandas offers a variety of file formats:\n",
    "- Csv — a good old friend of a data scientist\n",
    "- pickle — a Python’s way to serialize things\n",
    "- parquet — an Apache Hadoop’s columnar storage format\n",
    "- feather — a fast, lightweight, and easy-to-use binary file format for storing data frames\n",
    "- Json — data interchange format that uses human-readable\n",
    "- HDF5 — a file format designed to store and organize large amounts of data"
   ]
  },
  {
   "cell_type": "markdown",
   "id": "268f9cb8",
   "metadata": {},
   "source": [
    "## Method \n",
    "\n",
    "```python \n",
    "import feather\n",
    "import pandas as pd\n",
    "\n",
    "df.to_csv('example.csv')\n",
    "csv_file = pd.read_csv('example.csv')\n",
    "\n",
    "df.to_pickle('example.pkl')\n",
    "pickel_file = pd.read_pickle('example.pkl')\n",
    "\n",
    "df.to_json('example.json')\n",
    "pickel_file = pd.read_json('example.pkl')\n",
    "\n",
    "df.to_feather('example.feather')\n",
    "feathre_file = feather.read_dataframe('example.feather')\n",
    "\n",
    "```"
   ]
  },
  {
   "cell_type": "markdown",
   "id": "a1b7b45c",
   "metadata": {},
   "source": [
    "## Experiments "
   ]
  },
  {
   "cell_type": "code",
   "execution_count": 1,
   "id": "0377999b",
   "metadata": {
    "ExecuteTime": {
     "end_time": "2022-10-05T13:04:54.900460Z",
     "start_time": "2022-10-05T13:04:54.898802Z"
    }
   },
   "outputs": [],
   "source": [
    "################################\n",
    "# Install package Linux os has problem when install the feather format... \n",
    "# Be careful. \n",
    "################################\n",
    "# !conda install -c conda-forge feather-format -y"
   ]
  },
  {
   "cell_type": "code",
   "execution_count": 2,
   "id": "c03ade0b",
   "metadata": {
    "ExecuteTime": {
     "end_time": "2022-10-05T13:04:55.433073Z",
     "start_time": "2022-10-05T13:04:54.901545Z"
    },
    "scrolled": false
   },
   "outputs": [],
   "source": [
    "# package load \n",
    "import os\n",
    "import feather\n",
    "import numpy as np\n",
    "import pandas as pd\n",
    "import seaborn as sns\n",
    "from collections import defaultdict\n",
    "import matplotlib.pyplot as plt\n",
    "# user-defined function\n",
    "from utils import *"
   ]
  },
  {
   "cell_type": "code",
   "execution_count": 3,
   "id": "ce2a995e",
   "metadata": {
    "ExecuteTime": {
     "end_time": "2022-10-05T13:04:55.436139Z",
     "start_time": "2022-10-05T13:04:55.434083Z"
    }
   },
   "outputs": [],
   "source": [
    "formats = [\n",
    "    ('csv', {'index': None}),\n",
    "    ('hdf', {'key': 'data', 'format': 'table'}),\n",
    "    ('pickle',),\n",
    "    ('feather',),\n",
    "    ('json',),\n",
    "    ('parquet', {'engine': 'pyarrow'})\n",
    "]"
   ]
  },
  {
   "cell_type": "code",
   "execution_count": 4,
   "id": "a1010497",
   "metadata": {
    "ExecuteTime": {
     "end_time": "2022-10-05T13:05:42.768261Z",
     "start_time": "2022-10-05T13:04:55.436955Z"
    }
   },
   "outputs": [
    {
     "name": "stdout",
     "output_type": "stream",
     "text": [
      "Benchmarking round Done ...\n"
     ]
    }
   ],
   "source": [
    "results = benchmark(formats)"
   ]
  },
  {
   "cell_type": "code",
   "execution_count": 5,
   "id": "f3245b92",
   "metadata": {
    "ExecuteTime": {
     "end_time": "2022-10-05T13:05:42.783690Z",
     "start_time": "2022-10-05T13:05:42.769248Z"
    }
   },
   "outputs": [
    {
     "data": {
      "text/html": [
       "<div>\n",
       "<style scoped>\n",
       "    .dataframe tbody tr th:only-of-type {\n",
       "        vertical-align: middle;\n",
       "    }\n",
       "\n",
       "    .dataframe tbody tr th {\n",
       "        vertical-align: top;\n",
       "    }\n",
       "\n",
       "    .dataframe thead th {\n",
       "        text-align: right;\n",
       "    }\n",
       "</style>\n",
       "<table border=\"1\" class=\"dataframe\">\n",
       "  <thead>\n",
       "    <tr style=\"text-align: right;\">\n",
       "      <th></th>\n",
       "      <th>format</th>\n",
       "      <th>size_mb</th>\n",
       "      <th>save_ram_delta_mb</th>\n",
       "      <th>save_time</th>\n",
       "      <th>load_ram_delta_mb</th>\n",
       "      <th>load_time</th>\n",
       "      <th>save+load_time</th>\n",
       "    </tr>\n",
       "  </thead>\n",
       "  <tbody>\n",
       "    <tr>\n",
       "      <th>0</th>\n",
       "      <td>csv</td>\n",
       "      <td>76.792</td>\n",
       "      <td>0.039062</td>\n",
       "      <td>2.533713</td>\n",
       "      <td>43.710938</td>\n",
       "      <td>0.596289</td>\n",
       "      <td>3.130002</td>\n",
       "    </tr>\n",
       "    <tr>\n",
       "      <th>1</th>\n",
       "      <td>feather</td>\n",
       "      <td>22.530</td>\n",
       "      <td>57.746094</td>\n",
       "      <td>0.079764</td>\n",
       "      <td>48.609375</td>\n",
       "      <td>0.115485</td>\n",
       "      <td>0.195249</td>\n",
       "    </tr>\n",
       "    <tr>\n",
       "      <th>2</th>\n",
       "      <td>hdf</td>\n",
       "      <td>63.890</td>\n",
       "      <td>116.909375</td>\n",
       "      <td>0.790144</td>\n",
       "      <td>315.114062</td>\n",
       "      <td>0.919197</td>\n",
       "      <td>1.709341</td>\n",
       "    </tr>\n",
       "    <tr>\n",
       "      <th>3</th>\n",
       "      <td>json</td>\n",
       "      <td>94.206</td>\n",
       "      <td>165.530469</td>\n",
       "      <td>0.854208</td>\n",
       "      <td>502.117969</td>\n",
       "      <td>1.250688</td>\n",
       "      <td>2.104896</td>\n",
       "    </tr>\n",
       "    <tr>\n",
       "      <th>4</th>\n",
       "      <td>parquet</td>\n",
       "      <td>15.034</td>\n",
       "      <td>71.787500</td>\n",
       "      <td>0.216524</td>\n",
       "      <td>121.062500</td>\n",
       "      <td>0.140009</td>\n",
       "      <td>0.356533</td>\n",
       "    </tr>\n",
       "    <tr>\n",
       "      <th>5</th>\n",
       "      <td>pickle</td>\n",
       "      <td>64.876</td>\n",
       "      <td>151.047656</td>\n",
       "      <td>0.573052</td>\n",
       "      <td>103.292969</td>\n",
       "      <td>0.234913</td>\n",
       "      <td>0.807965</td>\n",
       "    </tr>\n",
       "  </tbody>\n",
       "</table>\n",
       "</div>"
      ],
      "text/plain": [
       "    format  size_mb  save_ram_delta_mb  save_time  load_ram_delta_mb  \\\n",
       "0      csv   76.792           0.039062   2.533713          43.710938   \n",
       "1  feather   22.530          57.746094   0.079764          48.609375   \n",
       "2      hdf   63.890         116.909375   0.790144         315.114062   \n",
       "3     json   94.206         165.530469   0.854208         502.117969   \n",
       "4  parquet   15.034          71.787500   0.216524         121.062500   \n",
       "5   pickle   64.876         151.047656   0.573052         103.292969   \n",
       "\n",
       "   load_time  save+load_time  \n",
       "0   0.596289        3.130002  \n",
       "1   0.115485        0.195249  \n",
       "2   0.919197        1.709341  \n",
       "3   1.250688        2.104896  \n",
       "4   0.140009        0.356533  \n",
       "5   0.234913        0.807965  "
      ]
     },
     "execution_count": 5,
     "metadata": {},
     "output_type": "execute_result"
    }
   ],
   "source": [
    "results['save+load_time'] = results['save_time'] + results['load_time']\n",
    "avg = results.groupby('format').mean().reset_index().drop(columns=['run_no'])\n",
    "avg"
   ]
  },
  {
   "cell_type": "markdown",
   "id": "b924e78a",
   "metadata": {},
   "source": [
    "## Results"
   ]
  },
  {
   "cell_type": "code",
   "execution_count": 6,
   "id": "4f432c56",
   "metadata": {
    "ExecuteTime": {
     "end_time": "2022-10-05T13:05:43.016318Z",
     "start_time": "2022-10-05T13:05:42.784542Z"
    }
   },
   "outputs": [
    {
     "data": {
      "image/png": "[encoded data removed]",
      "text/plain": [
       "<Figure size 432x288 with 1 Axes>"
      ]
     },
     "metadata": {
      "needs_background": "light"
     },
     "output_type": "display_data"
    }
   ],
   "source": [
    "ax = sns.barplot(x='format', y='save+load_time',\n",
    "                 data=results.sort_values('save+load_time',ascending=False),\n",
    "                 ci=95,capsize=.15,)\n",
    "_ = ax.set_xlabel('File Format')\n",
    "_ = ax.set_ylabel('Seconds')\n",
    "_ = ax.set_title('Time to Save+Load a Data Frame ')"
   ]
  },
  {
   "cell_type": "code",
   "execution_count": 7,
   "id": "864c0c15",
   "metadata": {
    "ExecuteTime": {
     "end_time": "2022-10-05T13:05:43.099937Z",
     "start_time": "2022-10-05T13:05:43.017694Z"
    },
    "scrolled": false
   },
   "outputs": [
    {
     "data": {
      "image/png": "[encoded data removed]",
      "text/plain": [
       "<Figure size 432x288 with 1 Axes>"
      ]
     },
     "metadata": {
      "needs_background": "light"
     },
     "output_type": "display_data"
    }
   ],
   "source": [
    "ax = sns.barplot(x='format', y='size_mb',\n",
    "                 data=avg.sort_values('size_mb', ascending=False))\n",
    "_ = ax.set_ylabel('Memory, Mb')\n",
    "_ = ax.set_xlabel('File Format')\n",
    "_ = ax.set_title('Serialized File Size')\n",
    "plt.show()"
   ]
  },
  {
   "cell_type": "markdown",
   "id": "4ba0849e",
   "metadata": {},
   "source": [
    "## Conclusion \n",
    "\n",
    "- `CSV` is essentially a text file. It allows us to easy view of data\n",
    "- `Feather` format is an ideal candiate to store data. but, [feather format is not expected to be used as a long-term file storage.](https://stackoverflow.com/questions/48083405/what-are-the-differences-between-feather-and-parquet)\n",
    "- If you save the data like Pythonic way then use `Pickle`. "
   ]
  },
  {
   "cell_type": "markdown",
   "id": "251b5ead",
   "metadata": {},
   "source": [
    "## Appendix \n",
    "\n",
    "When we used Torch framework, we usually build `dataset and dataloader` and lots of augmentation method apply to our data. This approach is not time-efficient. \n",
    "Therefore, we can save our dataset as an `.pt` format and it can save our time to load the data.  \n",
    "Please check... "
   ]
  },
  {
   "cell_type": "markdown",
   "id": "e7dc1bbc",
   "metadata": {},
   "source": [
    "## Reference: \n",
    "- https://github.com/devforfu/pandas-formats-benchmark/blob/master/benchmark.ipynb"
   ]
  }
 ],
 "metadata": {
  "hide_input": false,
  "kernelspec": {
   "display_name": "Python 3",
   "language": "python",
   "name": "python3"
  },
  "language_info": {
   "codemirror_mode": {
    "name": "ipython",
    "version": 3
   },
   "file_extension": ".py",
   "mimetype": "text/x-python",
   "name": "python",
   "nbconvert_exporter": "python",
   "pygments_lexer": "ipython3",
   "version": "3.6.13"
  },
  "toc": {
   "base_numbering": 1,
   "nav_menu": {},
   "number_sections": true,
   "sideBar": true,
   "skip_h1_title": true,
   "title_cell": "Table of Contents",
   "title_sidebar": "Contents",
   "toc_cell": true,
   "toc_position": {},
   "toc_section_display": true,
   "toc_window_display": true
  },
  "varInspector": {
   "cols": {
    "lenName": 16,
    "lenType": 16,
    "lenVar": 40
   },
   "kernels_config": {
    "python": {
     "delete_cmd_postfix": "",
     "delete_cmd_prefix": "del ",
     "library": "var_list.py",
     "varRefreshCmd": "print(var_dic_list())"
    },
    "r": {
     "delete_cmd_postfix": ") ",
     "delete_cmd_prefix": "rm(",
     "library": "var_list.r",
     "varRefreshCmd": "cat(var_dic_list()) "
    }
   },
   "types_to_exclude": [
    "module",
    "function",
    "builtin_function_or_method",
    "instance",
    "_Feature"
   ],
   "window_display": false
  }
 },
 "nbformat": 4,
 "nbformat_minor": 5
}
