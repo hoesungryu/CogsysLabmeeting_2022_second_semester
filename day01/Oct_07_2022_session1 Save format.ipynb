{
 "cells": [
  {
   "cell_type": "markdown",
   "id": "5b2a0e51",
   "metadata": {},
   "source": [
    "# Oct_07_2022 save format"
   ]
  },
  {
   "cell_type": "markdown",
   "id": "6dea19d3",
   "metadata": {
    "toc": true
   },
   "source": [
    "<h1>Table of Contents<span class=\"tocSkip\"></span></h1>\n",
    "<div class=\"toc\"><ul class=\"toc-item\"><li><span><a href=\"#Introduction\" data-toc-modified-id=\"Introduction-1\"><span class=\"toc-item-num\">1&nbsp;&nbsp;</span>Introduction</a></span></li><li><span><a href=\"#Save-format\" data-toc-modified-id=\"Save-format-2\"><span class=\"toc-item-num\">2&nbsp;&nbsp;</span>Save format</a></span></li><li><span><a href=\"#Method\" data-toc-modified-id=\"Method-3\"><span class=\"toc-item-num\">3&nbsp;&nbsp;</span>Method</a></span></li><li><span><a href=\"#Experiments\" data-toc-modified-id=\"Experiments-4\"><span class=\"toc-item-num\">4&nbsp;&nbsp;</span>Experiments</a></span></li><li><span><a href=\"#Results\" data-toc-modified-id=\"Results-5\"><span class=\"toc-item-num\">5&nbsp;&nbsp;</span>Results</a></span></li><li><span><a href=\"#Conclusion\" data-toc-modified-id=\"Conclusion-6\"><span class=\"toc-item-num\">6&nbsp;&nbsp;</span>Conclusion</a></span></li><li><span><a href=\"#Appendix\" data-toc-modified-id=\"Appendix-7\"><span class=\"toc-item-num\">7&nbsp;&nbsp;</span>Appendix</a></span></li><li><span><a href=\"#Reference:\" data-toc-modified-id=\"Reference:-8\"><span class=\"toc-item-num\">8&nbsp;&nbsp;</span>Reference:</a></span></li></ul></div>"
   ]
  },
  {
   "cell_type": "markdown",
   "id": "4b1763d6",
   "metadata": {},
   "source": [
    "## Introduction\n",
    "\n",
    "CSV provides enormous flexibility in data reading writing previewsing etc.. But, we have another option to save the data in a few time-efficient ans storage-optimized way . \n",
    "\n",
    "\n",
    "## Save format \n",
    "Pandas offers a variety of file formats:\n",
    "- Csv — a good old friend of a data scientist\n",
    "- pickle — a Python’s way to serialize things\n",
    "- parquet — an Apache Hadoop’s columnar storage format\n",
    "- feather — a fast, lightweight, and easy-to-use binary file format for storing data frames\n",
    "- Json — data interchange format that uses human-readable\n",
    "- HDF5 — a file format designed to store and organize large amounts of data"
   ]
  },
  {
   "cell_type": "markdown",
   "id": "268f9cb8",
   "metadata": {},
   "source": [
    "## Method \n",
    "\n",
    "```python \n",
    "import feather\n",
    "import pandas as pd\n",
    "\n",
    "df.to_csv('example.csv')\n",
    "csv_file = pd.read_csv('example.csv')\n",
    "\n",
    "df.to_pickle('example.pkl')\n",
    "pickel_file = pd.read_pickle('example.pkl')\n",
    "\n",
    "df.to_json('example.json')\n",
    "pickel_file = pd.read_json('example.pkl')\n",
    "\n",
    "df.to_feather('example.feather')\n",
    "feathre_file = feather.read_dataframe('example.feather')\n",
    "\n",
    "```"
   ]
  },
  {
   "cell_type": "markdown",
   "id": "a1b7b45c",
   "metadata": {},
   "source": [
    "## Experiments "
   ]
  },
  {
   "cell_type": "code",
   "execution_count": 1,
   "id": "0377999b",
   "metadata": {
    "ExecuteTime": {
     "end_time": "2022-10-09T05:01:02.108662Z",
     "start_time": "2022-10-09T05:01:02.100355Z"
    }
   },
   "outputs": [],
   "source": [
    "################################\n",
    "# Install package Linux os has problem when install the feather format... \n",
    "# Be careful. \n",
    "################################\n",
    "# !conda install -c conda-forge feather-format -y"
   ]
  },
  {
   "cell_type": "code",
   "execution_count": 2,
   "id": "c03ade0b",
   "metadata": {
    "ExecuteTime": {
     "end_time": "2022-10-09T05:01:02.946108Z",
     "start_time": "2022-10-09T05:01:02.111195Z"
    },
    "scrolled": false
   },
   "outputs": [
    {
     "data": {
      "text/html": [
       "<style type='text/css'>\n",
       ".datatable table.frame { margin-bottom: 0; }\n",
       ".datatable table.frame thead { border-bottom: none; }\n",
       ".datatable table.frame tr.coltypes td {  color: #FFFFFF;  line-height: 6px;  padding: 0 0.5em;}\n",
       ".datatable .bool    { background: #DDDD99; }\n",
       ".datatable .object  { background: #565656; }\n",
       ".datatable .int     { background: #5D9E5D; }\n",
       ".datatable .float   { background: #4040CC; }\n",
       ".datatable .str     { background: #CC4040; }\n",
       ".datatable .time    { background: #40CC40; }\n",
       ".datatable .row_index {  background: var(--jp-border-color3);  border-right: 1px solid var(--jp-border-color0);  color: var(--jp-ui-font-color3);  font-size: 9px;}\n",
       ".datatable .frame tbody td { text-align: left; }\n",
       ".datatable .frame tr.coltypes .row_index {  background: var(--jp-border-color0);}\n",
       ".datatable th:nth-child(2) { padding-left: 12px; }\n",
       ".datatable .hellipsis {  color: var(--jp-cell-editor-border-color);}\n",
       ".datatable .vellipsis {  background: var(--jp-layout-color0);  color: var(--jp-cell-editor-border-color);}\n",
       ".datatable .na {  color: var(--jp-cell-editor-border-color);  font-size: 80%;}\n",
       ".datatable .sp {  opacity: 0.25;}\n",
       ".datatable .footer { font-size: 9px; }\n",
       ".datatable .frame_dimensions {  background: var(--jp-border-color3);  border-top: 1px solid var(--jp-border-color0);  color: var(--jp-ui-font-color3);  display: inline-block;  opacity: 0.6;  padding: 1px 10px 1px 5px;}\n",
       "</style>\n"
      ],
      "text/plain": [
       "<IPython.core.display.HTML object>"
      ]
     },
     "metadata": {},
     "output_type": "display_data"
    },
    {
     "name": "stderr",
     "output_type": "stream",
     "text": [
      "/home/hoesungryu/anaconda3/envs/torch/lib/python3.6/site-packages/dask/dataframe/utils.py:13: FutureWarning: pandas.util.testing is deprecated. Use the functions in the public API at pandas.testing instead.\n",
      "  import pandas.util.testing as tm\n"
     ]
    }
   ],
   "source": [
    "# package load \n",
    "import os\n",
    "import feather\n",
    "import numpy as np\n",
    "import pandas as pd\n",
    "import seaborn as sns\n",
    "from collections import defaultdict\n",
    "import matplotlib.pyplot as plt\n",
    "# user-defined function\n",
    "from utils import *"
   ]
  },
  {
   "cell_type": "code",
   "execution_count": 3,
   "id": "ce2a995e",
   "metadata": {
    "ExecuteTime": {
     "end_time": "2022-10-09T05:01:02.949369Z",
     "start_time": "2022-10-09T05:01:02.947078Z"
    }
   },
   "outputs": [],
   "source": [
    "formats = [\n",
    "    ('csv', {'index': None}),\n",
    "    ('hdf', {'key': 'data', 'format': 'table'}),\n",
    "    ('pickle',),\n",
    "    ('feather',),\n",
    "    ('json',),\n",
    "    ('parquet', {'engine': 'pyarrow'})\n",
    "]"
   ]
  },
  {
   "cell_type": "code",
   "execution_count": 4,
   "id": "a1010497",
   "metadata": {
    "ExecuteTime": {
     "end_time": "2022-10-09T05:01:47.286565Z",
     "start_time": "2022-10-09T05:01:02.950414Z"
    }
   },
   "outputs": [
    {
     "name": "stdout",
     "output_type": "stream",
     "text": [
      "Benchmarking round #1\r"
     ]
    },
    {
     "name": "stderr",
     "output_type": "stream",
     "text": [
      "Process MemoryTrackingProcess-1:\n",
      "Traceback (most recent call last):\n",
      "  File \"/home/hoesungryu/anaconda3/envs/torch/lib/python3.6/multiprocessing/process.py\", line 258, in _bootstrap\n",
      "    self.run()\n",
      "  File \"/mnt/hdd_6tb/GitHubs2/efficiently-process-data-using-Python/day01/utils.py\", line 79, in run\n",
      "    time.sleep(0.05)\n",
      "AttributeError: 'builtin_function_or_method' object has no attribute 'sleep'\n",
      "Process MemoryTrackingProcess-2:\n",
      "Traceback (most recent call last):\n",
      "  File \"/home/hoesungryu/anaconda3/envs/torch/lib/python3.6/multiprocessing/process.py\", line 258, in _bootstrap\n",
      "    self.run()\n",
      "  File \"/mnt/hdd_6tb/GitHubs2/efficiently-process-data-using-Python/day01/utils.py\", line 79, in run\n",
      "    time.sleep(0.05)\n",
      "AttributeError: 'builtin_function_or_method' object has no attribute 'sleep'\n",
      "Process MemoryTrackingProcess-3:\n",
      "Traceback (most recent call last):\n",
      "  File \"/home/hoesungryu/anaconda3/envs/torch/lib/python3.6/multiprocessing/process.py\", line 258, in _bootstrap\n",
      "    self.run()\n",
      "  File \"/mnt/hdd_6tb/GitHubs2/efficiently-process-data-using-Python/day01/utils.py\", line 79, in run\n",
      "    time.sleep(0.05)\n",
      "AttributeError: 'builtin_function_or_method' object has no attribute 'sleep'\n",
      "Process MemoryTrackingProcess-4:\n",
      "Traceback (most recent call last):\n",
      "  File \"/home/hoesungryu/anaconda3/envs/torch/lib/python3.6/multiprocessing/process.py\", line 258, in _bootstrap\n",
      "    self.run()\n",
      "  File \"/mnt/hdd_6tb/GitHubs2/efficiently-process-data-using-Python/day01/utils.py\", line 79, in run\n",
      "    time.sleep(0.05)\n",
      "AttributeError: 'builtin_function_or_method' object has no attribute 'sleep'\n",
      "Process MemoryTrackingProcess-5:\n",
      "Traceback (most recent call last):\n",
      "  File \"/home/hoesungryu/anaconda3/envs/torch/lib/python3.6/multiprocessing/process.py\", line 258, in _bootstrap\n",
      "    self.run()\n",
      "  File \"/mnt/hdd_6tb/GitHubs2/efficiently-process-data-using-Python/day01/utils.py\", line 79, in run\n",
      "    time.sleep(0.05)\n",
      "AttributeError: 'builtin_function_or_method' object has no attribute 'sleep'\n",
      "Process MemoryTrackingProcess-6:\n",
      "Traceback (most recent call last):\n",
      "  File \"/home/hoesungryu/anaconda3/envs/torch/lib/python3.6/multiprocessing/process.py\", line 258, in _bootstrap\n",
      "    self.run()\n",
      "  File \"/mnt/hdd_6tb/GitHubs2/efficiently-process-data-using-Python/day01/utils.py\", line 79, in run\n",
      "    time.sleep(0.05)\n",
      "AttributeError: 'builtin_function_or_method' object has no attribute 'sleep'\n",
      "Process MemoryTrackingProcess-7:\n",
      "Traceback (most recent call last):\n",
      "  File \"/home/hoesungryu/anaconda3/envs/torch/lib/python3.6/multiprocessing/process.py\", line 258, in _bootstrap\n",
      "    self.run()\n",
      "  File \"/mnt/hdd_6tb/GitHubs2/efficiently-process-data-using-Python/day01/utils.py\", line 79, in run\n",
      "    time.sleep(0.05)\n",
      "AttributeError: 'builtin_function_or_method' object has no attribute 'sleep'\n",
      "Process MemoryTrackingProcess-8:\n",
      "Traceback (most recent call last):\n",
      "  File \"/home/hoesungryu/anaconda3/envs/torch/lib/python3.6/multiprocessing/process.py\", line 258, in _bootstrap\n",
      "    self.run()\n",
      "  File \"/mnt/hdd_6tb/GitHubs2/efficiently-process-data-using-Python/day01/utils.py\", line 79, in run\n",
      "    time.sleep(0.05)\n",
      "AttributeError: 'builtin_function_or_method' object has no attribute 'sleep'\n",
      "Process MemoryTrackingProcess-9:\n",
      "Traceback (most recent call last):\n",
      "  File \"/home/hoesungryu/anaconda3/envs/torch/lib/python3.6/multiprocessing/process.py\", line 258, in _bootstrap\n",
      "    self.run()\n",
      "  File \"/mnt/hdd_6tb/GitHubs2/efficiently-process-data-using-Python/day01/utils.py\", line 79, in run\n",
      "    time.sleep(0.05)\n",
      "AttributeError: 'builtin_function_or_method' object has no attribute 'sleep'\n",
      "Process MemoryTrackingProcess-10:\n",
      "Traceback (most recent call last):\n",
      "  File \"/home/hoesungryu/anaconda3/envs/torch/lib/python3.6/multiprocessing/process.py\", line 258, in _bootstrap\n",
      "    self.run()\n",
      "  File \"/mnt/hdd_6tb/GitHubs2/efficiently-process-data-using-Python/day01/utils.py\", line 79, in run\n",
      "    time.sleep(0.05)\n",
      "AttributeError: 'builtin_function_or_method' object has no attribute 'sleep'\n",
      "Process MemoryTrackingProcess-11:\n",
      "Traceback (most recent call last):\n",
      "  File \"/home/hoesungryu/anaconda3/envs/torch/lib/python3.6/multiprocessing/process.py\", line 258, in _bootstrap\n",
      "    self.run()\n",
      "  File \"/mnt/hdd_6tb/GitHubs2/efficiently-process-data-using-Python/day01/utils.py\", line 79, in run\n",
      "    time.sleep(0.05)\n",
      "AttributeError: 'builtin_function_or_method' object has no attribute 'sleep'\n",
      "Process MemoryTrackingProcess-12:\n",
      "Traceback (most recent call last):\n",
      "  File \"/home/hoesungryu/anaconda3/envs/torch/lib/python3.6/multiprocessing/process.py\", line 258, in _bootstrap\n",
      "    self.run()\n",
      "  File \"/mnt/hdd_6tb/GitHubs2/efficiently-process-data-using-Python/day01/utils.py\", line 79, in run\n",
      "    time.sleep(0.05)\n",
      "AttributeError: 'builtin_function_or_method' object has no attribute 'sleep'\n"
     ]
    },
    {
     "name": "stdout",
     "output_type": "stream",
     "text": [
      "Benchmarking round #2\r"
     ]
    },
    {
     "name": "stderr",
     "output_type": "stream",
     "text": [
      "Process MemoryTrackingProcess-13:\n",
      "Traceback (most recent call last):\n",
      "  File \"/home/hoesungryu/anaconda3/envs/torch/lib/python3.6/multiprocessing/process.py\", line 258, in _bootstrap\n",
      "    self.run()\n",
      "  File \"/mnt/hdd_6tb/GitHubs2/efficiently-process-data-using-Python/day01/utils.py\", line 79, in run\n",
      "    time.sleep(0.05)\n",
      "AttributeError: 'builtin_function_or_method' object has no attribute 'sleep'\n",
      "Process MemoryTrackingProcess-14:\n",
      "Traceback (most recent call last):\n",
      "  File \"/home/hoesungryu/anaconda3/envs/torch/lib/python3.6/multiprocessing/process.py\", line 258, in _bootstrap\n",
      "    self.run()\n",
      "  File \"/mnt/hdd_6tb/GitHubs2/efficiently-process-data-using-Python/day01/utils.py\", line 79, in run\n",
      "    time.sleep(0.05)\n",
      "AttributeError: 'builtin_function_or_method' object has no attribute 'sleep'\n",
      "Process MemoryTrackingProcess-15:\n",
      "Traceback (most recent call last):\n",
      "  File \"/home/hoesungryu/anaconda3/envs/torch/lib/python3.6/multiprocessing/process.py\", line 258, in _bootstrap\n",
      "    self.run()\n",
      "  File \"/mnt/hdd_6tb/GitHubs2/efficiently-process-data-using-Python/day01/utils.py\", line 79, in run\n",
      "    time.sleep(0.05)\n",
      "AttributeError: 'builtin_function_or_method' object has no attribute 'sleep'\n",
      "Process MemoryTrackingProcess-16:\n",
      "Traceback (most recent call last):\n",
      "  File \"/home/hoesungryu/anaconda3/envs/torch/lib/python3.6/multiprocessing/process.py\", line 258, in _bootstrap\n",
      "    self.run()\n",
      "  File \"/mnt/hdd_6tb/GitHubs2/efficiently-process-data-using-Python/day01/utils.py\", line 79, in run\n",
      "    time.sleep(0.05)\n",
      "AttributeError: 'builtin_function_or_method' object has no attribute 'sleep'\n",
      "Process MemoryTrackingProcess-17:\n",
      "Traceback (most recent call last):\n",
      "  File \"/home/hoesungryu/anaconda3/envs/torch/lib/python3.6/multiprocessing/process.py\", line 258, in _bootstrap\n",
      "    self.run()\n",
      "  File \"/mnt/hdd_6tb/GitHubs2/efficiently-process-data-using-Python/day01/utils.py\", line 79, in run\n",
      "    time.sleep(0.05)\n",
      "AttributeError: 'builtin_function_or_method' object has no attribute 'sleep'\n",
      "Process MemoryTrackingProcess-18:\n",
      "Traceback (most recent call last):\n",
      "  File \"/home/hoesungryu/anaconda3/envs/torch/lib/python3.6/multiprocessing/process.py\", line 258, in _bootstrap\n",
      "    self.run()\n",
      "AttributeError: 'builtin_function_or_method' object has no attribute 'sleep'\n",
      "  File \"/mnt/hdd_6tb/GitHubs2/efficiently-process-data-using-Python/day01/utils.py\", line 79, in run\n",
      "    time.sleep(0.05)\n",
      "Process MemoryTrackingProcess-19:\n",
      "Traceback (most recent call last):\n",
      "  File \"/home/hoesungryu/anaconda3/envs/torch/lib/python3.6/multiprocessing/process.py\", line 258, in _bootstrap\n",
      "    self.run()\n",
      "  File \"/mnt/hdd_6tb/GitHubs2/efficiently-process-data-using-Python/day01/utils.py\", line 79, in run\n",
      "    time.sleep(0.05)\n",
      "AttributeError: 'builtin_function_or_method' object has no attribute 'sleep'\n",
      "Process MemoryTrackingProcess-20:\n",
      "Traceback (most recent call last):\n",
      "  File \"/home/hoesungryu/anaconda3/envs/torch/lib/python3.6/multiprocessing/process.py\", line 258, in _bootstrap\n",
      "    self.run()\n",
      "  File \"/mnt/hdd_6tb/GitHubs2/efficiently-process-data-using-Python/day01/utils.py\", line 79, in run\n",
      "    time.sleep(0.05)\n",
      "AttributeError: 'builtin_function_or_method' object has no attribute 'sleep'\n",
      "Process MemoryTrackingProcess-21:\n",
      "Traceback (most recent call last):\n",
      "  File \"/home/hoesungryu/anaconda3/envs/torch/lib/python3.6/multiprocessing/process.py\", line 258, in _bootstrap\n",
      "    self.run()\n",
      "  File \"/mnt/hdd_6tb/GitHubs2/efficiently-process-data-using-Python/day01/utils.py\", line 79, in run\n",
      "    time.sleep(0.05)\n",
      "AttributeError: 'builtin_function_or_method' object has no attribute 'sleep'\n",
      "Process MemoryTrackingProcess-22:\n",
      "Traceback (most recent call last):\n",
      "  File \"/home/hoesungryu/anaconda3/envs/torch/lib/python3.6/multiprocessing/process.py\", line 258, in _bootstrap\n",
      "    self.run()\n",
      "  File \"/mnt/hdd_6tb/GitHubs2/efficiently-process-data-using-Python/day01/utils.py\", line 79, in run\n",
      "    time.sleep(0.05)\n",
      "AttributeError: 'builtin_function_or_method' object has no attribute 'sleep'\n",
      "Process MemoryTrackingProcess-23:\n",
      "Traceback (most recent call last):\n",
      "  File \"/home/hoesungryu/anaconda3/envs/torch/lib/python3.6/multiprocessing/process.py\", line 258, in _bootstrap\n",
      "    self.run()\n",
      "  File \"/mnt/hdd_6tb/GitHubs2/efficiently-process-data-using-Python/day01/utils.py\", line 79, in run\n",
      "    time.sleep(0.05)\n",
      "AttributeError: 'builtin_function_or_method' object has no attribute 'sleep'\n",
      "Process MemoryTrackingProcess-24:\n",
      "Traceback (most recent call last):\n",
      "  File \"/home/hoesungryu/anaconda3/envs/torch/lib/python3.6/multiprocessing/process.py\", line 258, in _bootstrap\n",
      "    self.run()\n",
      "  File \"/mnt/hdd_6tb/GitHubs2/efficiently-process-data-using-Python/day01/utils.py\", line 79, in run\n",
      "    time.sleep(0.05)\n",
      "AttributeError: 'builtin_function_or_method' object has no attribute 'sleep'\n"
     ]
    },
    {
     "name": "stdout",
     "output_type": "stream",
     "text": [
      "Benchmarking round #3\r"
     ]
    },
    {
     "name": "stderr",
     "output_type": "stream",
     "text": [
      "Process MemoryTrackingProcess-25:\n",
      "Traceback (most recent call last):\n",
      "  File \"/home/hoesungryu/anaconda3/envs/torch/lib/python3.6/multiprocessing/process.py\", line 258, in _bootstrap\n",
      "    self.run()\n",
      "  File \"/mnt/hdd_6tb/GitHubs2/efficiently-process-data-using-Python/day01/utils.py\", line 79, in run\n",
      "    time.sleep(0.05)\n",
      "AttributeError: 'builtin_function_or_method' object has no attribute 'sleep'\n",
      "Process MemoryTrackingProcess-26:\n",
      "Traceback (most recent call last):\n",
      "  File \"/home/hoesungryu/anaconda3/envs/torch/lib/python3.6/multiprocessing/process.py\", line 258, in _bootstrap\n",
      "    self.run()\n",
      "  File \"/mnt/hdd_6tb/GitHubs2/efficiently-process-data-using-Python/day01/utils.py\", line 79, in run\n",
      "    time.sleep(0.05)\n",
      "AttributeError: 'builtin_function_or_method' object has no attribute 'sleep'\n",
      "Process MemoryTrackingProcess-27:\n",
      "Traceback (most recent call last):\n",
      "  File \"/home/hoesungryu/anaconda3/envs/torch/lib/python3.6/multiprocessing/process.py\", line 258, in _bootstrap\n",
      "    self.run()\n",
      "  File \"/mnt/hdd_6tb/GitHubs2/efficiently-process-data-using-Python/day01/utils.py\", line 79, in run\n",
      "    time.sleep(0.05)\n",
      "AttributeError: 'builtin_function_or_method' object has no attribute 'sleep'\n",
      "Process MemoryTrackingProcess-28:\n",
      "Traceback (most recent call last):\n",
      "  File \"/home/hoesungryu/anaconda3/envs/torch/lib/python3.6/multiprocessing/process.py\", line 258, in _bootstrap\n",
      "    self.run()\n",
      "  File \"/mnt/hdd_6tb/GitHubs2/efficiently-process-data-using-Python/day01/utils.py\", line 79, in run\n",
      "    time.sleep(0.05)\n",
      "AttributeError: 'builtin_function_or_method' object has no attribute 'sleep'\n",
      "Process MemoryTrackingProcess-29:\n",
      "Traceback (most recent call last):\n",
      "  File \"/home/hoesungryu/anaconda3/envs/torch/lib/python3.6/multiprocessing/process.py\", line 258, in _bootstrap\n",
      "    self.run()\n",
      "  File \"/mnt/hdd_6tb/GitHubs2/efficiently-process-data-using-Python/day01/utils.py\", line 79, in run\n",
      "    time.sleep(0.05)\n",
      "AttributeError: 'builtin_function_or_method' object has no attribute 'sleep'\n",
      "Process MemoryTrackingProcess-30:\n",
      "Traceback (most recent call last):\n",
      "  File \"/home/hoesungryu/anaconda3/envs/torch/lib/python3.6/multiprocessing/process.py\", line 258, in _bootstrap\n",
      "    self.run()\n",
      "  File \"/mnt/hdd_6tb/GitHubs2/efficiently-process-data-using-Python/day01/utils.py\", line 79, in run\n",
      "    time.sleep(0.05)\n",
      "AttributeError: 'builtin_function_or_method' object has no attribute 'sleep'\n",
      "Process MemoryTrackingProcess-31:\n",
      "Traceback (most recent call last):\n",
      "  File \"/home/hoesungryu/anaconda3/envs/torch/lib/python3.6/multiprocessing/process.py\", line 258, in _bootstrap\n",
      "    self.run()\n",
      "  File \"/mnt/hdd_6tb/GitHubs2/efficiently-process-data-using-Python/day01/utils.py\", line 79, in run\n",
      "    time.sleep(0.05)\n",
      "AttributeError: 'builtin_function_or_method' object has no attribute 'sleep'\n",
      "Process MemoryTrackingProcess-32:\n",
      "Traceback (most recent call last):\n",
      "  File \"/home/hoesungryu/anaconda3/envs/torch/lib/python3.6/multiprocessing/process.py\", line 258, in _bootstrap\n",
      "    self.run()\n",
      "  File \"/mnt/hdd_6tb/GitHubs2/efficiently-process-data-using-Python/day01/utils.py\", line 79, in run\n",
      "    time.sleep(0.05)\n",
      "AttributeError: 'builtin_function_or_method' object has no attribute 'sleep'\n",
      "Process MemoryTrackingProcess-33:\n",
      "Traceback (most recent call last):\n",
      "  File \"/home/hoesungryu/anaconda3/envs/torch/lib/python3.6/multiprocessing/process.py\", line 258, in _bootstrap\n",
      "    self.run()\n",
      "  File \"/mnt/hdd_6tb/GitHubs2/efficiently-process-data-using-Python/day01/utils.py\", line 79, in run\n",
      "    time.sleep(0.05)\n",
      "AttributeError: 'builtin_function_or_method' object has no attribute 'sleep'\n",
      "Process MemoryTrackingProcess-34:\n",
      "Traceback (most recent call last):\n",
      "  File \"/home/hoesungryu/anaconda3/envs/torch/lib/python3.6/multiprocessing/process.py\", line 258, in _bootstrap\n",
      "    self.run()\n",
      "  File \"/mnt/hdd_6tb/GitHubs2/efficiently-process-data-using-Python/day01/utils.py\", line 79, in run\n",
      "    time.sleep(0.05)\n",
      "AttributeError: 'builtin_function_or_method' object has no attribute 'sleep'\n",
      "Process MemoryTrackingProcess-35:\n",
      "AttributeError: 'builtin_function_or_method' object has no attribute 'sleep'\n",
      "Traceback (most recent call last):\n",
      "  File \"/home/hoesungryu/anaconda3/envs/torch/lib/python3.6/multiprocessing/process.py\", line 258, in _bootstrap\n",
      "    self.run()\n",
      "  File \"/mnt/hdd_6tb/GitHubs2/efficiently-process-data-using-Python/day01/utils.py\", line 79, in run\n",
      "    time.sleep(0.05)\n",
      "Process MemoryTrackingProcess-36:\n",
      "Traceback (most recent call last):\n",
      "  File \"/home/hoesungryu/anaconda3/envs/torch/lib/python3.6/multiprocessing/process.py\", line 258, in _bootstrap\n",
      "    self.run()\n",
      "  File \"/mnt/hdd_6tb/GitHubs2/efficiently-process-data-using-Python/day01/utils.py\", line 79, in run\n",
      "    time.sleep(0.05)\n",
      "AttributeError: 'builtin_function_or_method' object has no attribute 'sleep'\n"
     ]
    },
    {
     "name": "stdout",
     "output_type": "stream",
     "text": [
      "Benchmarking round #4\r"
     ]
    },
    {
     "name": "stderr",
     "output_type": "stream",
     "text": [
      "Process MemoryTrackingProcess-37:\n",
      "Traceback (most recent call last):\n",
      "  File \"/home/hoesungryu/anaconda3/envs/torch/lib/python3.6/multiprocessing/process.py\", line 258, in _bootstrap\n",
      "    self.run()\n",
      "  File \"/mnt/hdd_6tb/GitHubs2/efficiently-process-data-using-Python/day01/utils.py\", line 79, in run\n",
      "    time.sleep(0.05)\n",
      "AttributeError: 'builtin_function_or_method' object has no attribute 'sleep'\n",
      "Process MemoryTrackingProcess-38:\n",
      "Traceback (most recent call last):\n",
      "  File \"/home/hoesungryu/anaconda3/envs/torch/lib/python3.6/multiprocessing/process.py\", line 258, in _bootstrap\n",
      "    self.run()\n",
      "  File \"/mnt/hdd_6tb/GitHubs2/efficiently-process-data-using-Python/day01/utils.py\", line 79, in run\n",
      "    time.sleep(0.05)\n",
      "AttributeError: 'builtin_function_or_method' object has no attribute 'sleep'\n",
      "Process MemoryTrackingProcess-39:\n",
      "Traceback (most recent call last):\n",
      "  File \"/home/hoesungryu/anaconda3/envs/torch/lib/python3.6/multiprocessing/process.py\", line 258, in _bootstrap\n",
      "    self.run()\n",
      "  File \"/mnt/hdd_6tb/GitHubs2/efficiently-process-data-using-Python/day01/utils.py\", line 79, in run\n",
      "    time.sleep(0.05)\n",
      "AttributeError: 'builtin_function_or_method' object has no attribute 'sleep'\n",
      "Process MemoryTrackingProcess-40:\n",
      "Traceback (most recent call last):\n",
      "  File \"/home/hoesungryu/anaconda3/envs/torch/lib/python3.6/multiprocessing/process.py\", line 258, in _bootstrap\n",
      "    self.run()\n",
      "  File \"/mnt/hdd_6tb/GitHubs2/efficiently-process-data-using-Python/day01/utils.py\", line 79, in run\n",
      "    time.sleep(0.05)\n",
      "AttributeError: 'builtin_function_or_method' object has no attribute 'sleep'\n",
      "Process MemoryTrackingProcess-41:\n",
      "Traceback (most recent call last):\n",
      "  File \"/home/hoesungryu/anaconda3/envs/torch/lib/python3.6/multiprocessing/process.py\", line 258, in _bootstrap\n",
      "    self.run()\n",
      "  File \"/mnt/hdd_6tb/GitHubs2/efficiently-process-data-using-Python/day01/utils.py\", line 79, in run\n",
      "    time.sleep(0.05)\n",
      "AttributeError: 'builtin_function_or_method' object has no attribute 'sleep'\n",
      "Process MemoryTrackingProcess-42:\n",
      "Traceback (most recent call last):\n",
      "  File \"/home/hoesungryu/anaconda3/envs/torch/lib/python3.6/multiprocessing/process.py\", line 258, in _bootstrap\n",
      "    self.run()\n",
      "  File \"/mnt/hdd_6tb/GitHubs2/efficiently-process-data-using-Python/day01/utils.py\", line 79, in run\n",
      "    time.sleep(0.05)\n",
      "AttributeError: 'builtin_function_or_method' object has no attribute 'sleep'\n",
      "Process MemoryTrackingProcess-43:\n",
      "Traceback (most recent call last):\n",
      "  File \"/home/hoesungryu/anaconda3/envs/torch/lib/python3.6/multiprocessing/process.py\", line 258, in _bootstrap\n",
      "    self.run()\n",
      "  File \"/mnt/hdd_6tb/GitHubs2/efficiently-process-data-using-Python/day01/utils.py\", line 79, in run\n",
      "    time.sleep(0.05)\n",
      "AttributeError: 'builtin_function_or_method' object has no attribute 'sleep'\n",
      "Process MemoryTrackingProcess-44:\n",
      "Traceback (most recent call last):\n",
      "  File \"/home/hoesungryu/anaconda3/envs/torch/lib/python3.6/multiprocessing/process.py\", line 258, in _bootstrap\n",
      "    self.run()\n",
      "  File \"/mnt/hdd_6tb/GitHubs2/efficiently-process-data-using-Python/day01/utils.py\", line 79, in run\n",
      "    time.sleep(0.05)\n",
      "AttributeError: 'builtin_function_or_method' object has no attribute 'sleep'\n",
      "Process MemoryTrackingProcess-45:\n",
      "Traceback (most recent call last):\n",
      "  File \"/home/hoesungryu/anaconda3/envs/torch/lib/python3.6/multiprocessing/process.py\", line 258, in _bootstrap\n",
      "    self.run()\n",
      "  File \"/mnt/hdd_6tb/GitHubs2/efficiently-process-data-using-Python/day01/utils.py\", line 79, in run\n",
      "    time.sleep(0.05)\n",
      "AttributeError: 'builtin_function_or_method' object has no attribute 'sleep'\n",
      "Process MemoryTrackingProcess-46:\n",
      "Traceback (most recent call last):\n",
      "  File \"/home/hoesungryu/anaconda3/envs/torch/lib/python3.6/multiprocessing/process.py\", line 258, in _bootstrap\n",
      "    self.run()\n",
      "  File \"/mnt/hdd_6tb/GitHubs2/efficiently-process-data-using-Python/day01/utils.py\", line 79, in run\n",
      "    time.sleep(0.05)\n",
      "AttributeError: 'builtin_function_or_method' object has no attribute 'sleep'\n",
      "Process MemoryTrackingProcess-47:\n",
      "AttributeError: 'builtin_function_or_method' object has no attribute 'sleep'\n",
      "Traceback (most recent call last):\n",
      "  File \"/home/hoesungryu/anaconda3/envs/torch/lib/python3.6/multiprocessing/process.py\", line 258, in _bootstrap\n",
      "    self.run()\n",
      "  File \"/mnt/hdd_6tb/GitHubs2/efficiently-process-data-using-Python/day01/utils.py\", line 79, in run\n",
      "    time.sleep(0.05)\n",
      "Process MemoryTrackingProcess-48:\n",
      "Traceback (most recent call last):\n",
      "  File \"/home/hoesungryu/anaconda3/envs/torch/lib/python3.6/multiprocessing/process.py\", line 258, in _bootstrap\n",
      "    self.run()\n",
      "  File \"/mnt/hdd_6tb/GitHubs2/efficiently-process-data-using-Python/day01/utils.py\", line 79, in run\n",
      "    time.sleep(0.05)\n",
      "AttributeError: 'builtin_function_or_method' object has no attribute 'sleep'\n"
     ]
    },
    {
     "name": "stdout",
     "output_type": "stream",
     "text": [
      "Benchmarking round #5\r"
     ]
    },
    {
     "name": "stderr",
     "output_type": "stream",
     "text": [
      "Process MemoryTrackingProcess-49:\n",
      "Traceback (most recent call last):\n",
      "  File \"/home/hoesungryu/anaconda3/envs/torch/lib/python3.6/multiprocessing/process.py\", line 258, in _bootstrap\n",
      "    self.run()\n",
      "  File \"/mnt/hdd_6tb/GitHubs2/efficiently-process-data-using-Python/day01/utils.py\", line 79, in run\n",
      "    time.sleep(0.05)\n",
      "AttributeError: 'builtin_function_or_method' object has no attribute 'sleep'\n",
      "Process MemoryTrackingProcess-50:\n",
      "Traceback (most recent call last):\n",
      "  File \"/home/hoesungryu/anaconda3/envs/torch/lib/python3.6/multiprocessing/process.py\", line 258, in _bootstrap\n",
      "    self.run()\n",
      "  File \"/mnt/hdd_6tb/GitHubs2/efficiently-process-data-using-Python/day01/utils.py\", line 79, in run\n",
      "    time.sleep(0.05)\n",
      "AttributeError: 'builtin_function_or_method' object has no attribute 'sleep'\n",
      "Process MemoryTrackingProcess-51:\n",
      "Traceback (most recent call last):\n",
      "  File \"/home/hoesungryu/anaconda3/envs/torch/lib/python3.6/multiprocessing/process.py\", line 258, in _bootstrap\n",
      "    self.run()\n",
      "  File \"/mnt/hdd_6tb/GitHubs2/efficiently-process-data-using-Python/day01/utils.py\", line 79, in run\n",
      "    time.sleep(0.05)\n",
      "AttributeError: 'builtin_function_or_method' object has no attribute 'sleep'\n",
      "Process MemoryTrackingProcess-52:\n",
      "Traceback (most recent call last):\n",
      "  File \"/home/hoesungryu/anaconda3/envs/torch/lib/python3.6/multiprocessing/process.py\", line 258, in _bootstrap\n",
      "    self.run()\n",
      "  File \"/mnt/hdd_6tb/GitHubs2/efficiently-process-data-using-Python/day01/utils.py\", line 79, in run\n",
      "    time.sleep(0.05)\n",
      "AttributeError: 'builtin_function_or_method' object has no attribute 'sleep'\n",
      "Process MemoryTrackingProcess-53:\n",
      "Traceback (most recent call last):\n",
      "  File \"/home/hoesungryu/anaconda3/envs/torch/lib/python3.6/multiprocessing/process.py\", line 258, in _bootstrap\n",
      "    self.run()\n",
      "  File \"/mnt/hdd_6tb/GitHubs2/efficiently-process-data-using-Python/day01/utils.py\", line 79, in run\n",
      "    time.sleep(0.05)\n",
      "AttributeError: 'builtin_function_or_method' object has no attribute 'sleep'\n",
      "Process MemoryTrackingProcess-54:\n",
      "Traceback (most recent call last):\n",
      "  File \"/home/hoesungryu/anaconda3/envs/torch/lib/python3.6/multiprocessing/process.py\", line 258, in _bootstrap\n",
      "    self.run()\n",
      "  File \"/mnt/hdd_6tb/GitHubs2/efficiently-process-data-using-Python/day01/utils.py\", line 79, in run\n",
      "    time.sleep(0.05)\n",
      "AttributeError: 'builtin_function_or_method' object has no attribute 'sleep'\n",
      "Process MemoryTrackingProcess-55:\n",
      "Traceback (most recent call last):\n",
      "  File \"/mnt/hdd_6tb/GitHubs2/efficiently-process-data-using-Python/day01/utils.py\", line 79, in run\n",
      "    time.sleep(0.05)\n",
      "  File \"/home/hoesungryu/anaconda3/envs/torch/lib/python3.6/multiprocessing/process.py\", line 258, in _bootstrap\n",
      "    self.run()\n",
      "AttributeError: 'builtin_function_or_method' object has no attribute 'sleep'\n",
      "Process MemoryTrackingProcess-56:\n",
      "Traceback (most recent call last):\n",
      "  File \"/home/hoesungryu/anaconda3/envs/torch/lib/python3.6/multiprocessing/process.py\", line 258, in _bootstrap\n",
      "    self.run()\n",
      "  File \"/mnt/hdd_6tb/GitHubs2/efficiently-process-data-using-Python/day01/utils.py\", line 79, in run\n",
      "    time.sleep(0.05)\n",
      "AttributeError: 'builtin_function_or_method' object has no attribute 'sleep'\n",
      "Process MemoryTrackingProcess-57:\n",
      "Traceback (most recent call last):\n",
      "  File \"/home/hoesungryu/anaconda3/envs/torch/lib/python3.6/multiprocessing/process.py\", line 258, in _bootstrap\n",
      "    self.run()\n",
      "  File \"/mnt/hdd_6tb/GitHubs2/efficiently-process-data-using-Python/day01/utils.py\", line 79, in run\n",
      "    time.sleep(0.05)\n",
      "AttributeError: 'builtin_function_or_method' object has no attribute 'sleep'\n",
      "Process MemoryTrackingProcess-58:\n",
      "Traceback (most recent call last):\n",
      "  File \"/home/hoesungryu/anaconda3/envs/torch/lib/python3.6/multiprocessing/process.py\", line 258, in _bootstrap\n",
      "    self.run()\n",
      "  File \"/mnt/hdd_6tb/GitHubs2/efficiently-process-data-using-Python/day01/utils.py\", line 79, in run\n",
      "    time.sleep(0.05)\n",
      "AttributeError: 'builtin_function_or_method' object has no attribute 'sleep'\n",
      "Process MemoryTrackingProcess-59:\n",
      "AttributeError: 'builtin_function_or_method' object has no attribute 'sleep'\n",
      "Traceback (most recent call last):\n",
      "  File \"/home/hoesungryu/anaconda3/envs/torch/lib/python3.6/multiprocessing/process.py\", line 258, in _bootstrap\n",
      "    self.run()\n",
      "  File \"/mnt/hdd_6tb/GitHubs2/efficiently-process-data-using-Python/day01/utils.py\", line 79, in run\n",
      "    time.sleep(0.05)\n",
      "Process MemoryTrackingProcess-60:\n",
      "Traceback (most recent call last):\n",
      "  File \"/home/hoesungryu/anaconda3/envs/torch/lib/python3.6/multiprocessing/process.py\", line 258, in _bootstrap\n",
      "    self.run()\n",
      "  File \"/mnt/hdd_6tb/GitHubs2/efficiently-process-data-using-Python/day01/utils.py\", line 79, in run\n",
      "    time.sleep(0.05)\n",
      "AttributeError: 'builtin_function_or_method' object has no attribute 'sleep'\n"
     ]
    },
    {
     "name": "stdout",
     "output_type": "stream",
     "text": [
      "Benchmarking round Done ...\n"
     ]
    }
   ],
   "source": [
    "results = benchmark(formats)"
   ]
  },
  {
   "cell_type": "code",
   "execution_count": 5,
   "id": "f3245b92",
   "metadata": {
    "ExecuteTime": {
     "end_time": "2022-10-09T05:01:47.316382Z",
     "start_time": "2022-10-09T05:01:47.287828Z"
    }
   },
   "outputs": [
    {
     "data": {
      "text/html": [
       "<div>\n",
       "<style scoped>\n",
       "    .dataframe tbody tr th:only-of-type {\n",
       "        vertical-align: middle;\n",
       "    }\n",
       "\n",
       "    .dataframe tbody tr th {\n",
       "        vertical-align: top;\n",
       "    }\n",
       "\n",
       "    .dataframe thead th {\n",
       "        text-align: right;\n",
       "    }\n",
       "</style>\n",
       "<table border=\"1\" class=\"dataframe\">\n",
       "  <thead>\n",
       "    <tr style=\"text-align: right;\">\n",
       "      <th></th>\n",
       "      <th>format</th>\n",
       "      <th>size_mb</th>\n",
       "      <th>save_ram_delta_mb</th>\n",
       "      <th>save_time</th>\n",
       "      <th>load_ram_delta_mb</th>\n",
       "      <th>load_time</th>\n",
       "      <th>save+load_time</th>\n",
       "    </tr>\n",
       "  </thead>\n",
       "  <tbody>\n",
       "    <tr>\n",
       "      <th>0</th>\n",
       "      <td>csv</td>\n",
       "      <td>77.164</td>\n",
       "      <td>-617.765625</td>\n",
       "      <td>2.475911</td>\n",
       "      <td>-463.479688</td>\n",
       "      <td>0.609604</td>\n",
       "      <td>3.085515</td>\n",
       "    </tr>\n",
       "    <tr>\n",
       "      <th>1</th>\n",
       "      <td>feather</td>\n",
       "      <td>22.518</td>\n",
       "      <td>-747.632812</td>\n",
       "      <td>0.131445</td>\n",
       "      <td>-830.203125</td>\n",
       "      <td>0.107116</td>\n",
       "      <td>0.238560</td>\n",
       "    </tr>\n",
       "    <tr>\n",
       "      <th>2</th>\n",
       "      <td>hdf</td>\n",
       "      <td>63.890</td>\n",
       "      <td>-484.857031</td>\n",
       "      <td>0.766935</td>\n",
       "      <td>-483.385156</td>\n",
       "      <td>0.927774</td>\n",
       "      <td>1.694709</td>\n",
       "    </tr>\n",
       "    <tr>\n",
       "      <th>3</th>\n",
       "      <td>json</td>\n",
       "      <td>94.486</td>\n",
       "      <td>-616.185938</td>\n",
       "      <td>0.799181</td>\n",
       "      <td>-606.950000</td>\n",
       "      <td>1.249407</td>\n",
       "      <td>2.048587</td>\n",
       "    </tr>\n",
       "    <tr>\n",
       "      <th>4</th>\n",
       "      <td>parquet</td>\n",
       "      <td>15.080</td>\n",
       "      <td>-853.964844</td>\n",
       "      <td>0.219799</td>\n",
       "      <td>-915.582031</td>\n",
       "      <td>0.111200</td>\n",
       "      <td>0.330999</td>\n",
       "    </tr>\n",
       "    <tr>\n",
       "      <th>5</th>\n",
       "      <td>pickle</td>\n",
       "      <td>65.060</td>\n",
       "      <td>-708.945312</td>\n",
       "      <td>0.567152</td>\n",
       "      <td>-715.684375</td>\n",
       "      <td>0.212251</td>\n",
       "      <td>0.779403</td>\n",
       "    </tr>\n",
       "  </tbody>\n",
       "</table>\n",
       "</div>"
      ],
      "text/plain": [
       "    format  size_mb  save_ram_delta_mb  save_time  load_ram_delta_mb  \\\n",
       "0      csv   77.164        -617.765625   2.475911        -463.479688   \n",
       "1  feather   22.518        -747.632812   0.131445        -830.203125   \n",
       "2      hdf   63.890        -484.857031   0.766935        -483.385156   \n",
       "3     json   94.486        -616.185938   0.799181        -606.950000   \n",
       "4  parquet   15.080        -853.964844   0.219799        -915.582031   \n",
       "5   pickle   65.060        -708.945312   0.567152        -715.684375   \n",
       "\n",
       "   load_time  save+load_time  \n",
       "0   0.609604        3.085515  \n",
       "1   0.107116        0.238560  \n",
       "2   0.927774        1.694709  \n",
       "3   1.249407        2.048587  \n",
       "4   0.111200        0.330999  \n",
       "5   0.212251        0.779403  "
      ]
     },
     "execution_count": 5,
     "metadata": {},
     "output_type": "execute_result"
    }
   ],
   "source": [
    "results['save+load_time'] = results['save_time'] + results['load_time']\n",
    "avg = results.groupby('format').mean().reset_index().drop(columns=['run_no'])\n",
    "avg"
   ]
  },
  {
   "cell_type": "markdown",
   "id": "b924e78a",
   "metadata": {},
   "source": [
    "## Results"
   ]
  },
  {
   "cell_type": "code",
   "execution_count": 6,
   "id": "4f432c56",
   "metadata": {
    "ExecuteTime": {
     "end_time": "2022-10-09T05:01:47.559325Z",
     "start_time": "2022-10-09T05:01:47.317701Z"
    }
   },
   "outputs": [
    {
     "data": {
      "image/png": "[encoded data removed]",
      "text/plain": [
       "<Figure size 432x288 with 1 Axes>"
      ]
     },
     "metadata": {
      "needs_background": "light"
     },
     "output_type": "display_data"
    }
   ],
   "source": [
    "ax = sns.barplot(x='format', y='save+load_time',\n",
    "                 data=results.sort_values('save+load_time',ascending=False),\n",
    "                 ci=95,capsize=.15,)\n",
    "_ = ax.set_xlabel('File Format')\n",
    "_ = ax.set_ylabel('Seconds')\n",
    "_ = ax.set_title('Time to Save+Load a Data Frame ')"
   ]
  },
  {
   "cell_type": "code",
   "execution_count": 7,
   "id": "864c0c15",
   "metadata": {
    "ExecuteTime": {
     "end_time": "2022-10-09T05:01:47.648898Z",
     "start_time": "2022-10-09T05:01:47.561478Z"
    },
    "scrolled": false
   },
   "outputs": [
    {
     "data": {
      "image/png": "[encoded data removed]",
      "text/plain": [
       "<Figure size 432x288 with 1 Axes>"
      ]
     },
     "metadata": {
      "needs_background": "light"
     },
     "output_type": "display_data"
    }
   ],
   "source": [
    "ax = sns.barplot(x='format', y='size_mb',\n",
    "                 data=avg.sort_values('size_mb', ascending=False))\n",
    "_ = ax.set_ylabel('Memory, Mb')\n",
    "_ = ax.set_xlabel('File Format')\n",
    "_ = ax.set_title('Serialized File Size')\n",
    "plt.show()"
   ]
  },
  {
   "cell_type": "markdown",
   "id": "4ba0849e",
   "metadata": {},
   "source": [
    "## Conclusion \n",
    "\n",
    "- `CSV` is essentially a text file. It allows us to easy view of data\n",
    "- `Feather` format is an ideal candiate to store data. but, [feather format is not expected to be used as a long-term file storage.](https://stackoverflow.com/questions/48083405/what-are-the-differences-between-feather-and-parquet)\n",
    "- If you save the data like Pythonic way then use `Pickle`. "
   ]
  },
  {
   "cell_type": "markdown",
   "id": "251b5ead",
   "metadata": {},
   "source": [
    "## Appendix \n",
    "\n",
    "When we used Torch framework, we usually build `dataset and dataloader` and lots of augmentation method apply to our data. This approach is not time-efficient. \n",
    "Therefore, we can save our dataset as an `.pt` format and it can save our time to load the data.  \n",
    "Please check... "
   ]
  },
  {
   "cell_type": "markdown",
   "id": "e7dc1bbc",
   "metadata": {},
   "source": [
    "## Reference: \n",
    "- https://github.com/devforfu/pandas-formats-benchmark/blob/master/benchmark.ipynb"
   ]
  }
 ],
 "metadata": {
  "hide_input": false,
  "kernelspec": {
   "display_name": "Python 3",
   "language": "python",
   "name": "python3"
  },
  "language_info": {
   "codemirror_mode": {
    "name": "ipython",
    "version": 3
   },
   "file_extension": ".py",
   "mimetype": "text/x-python",
   "name": "python",
   "nbconvert_exporter": "python",
   "pygments_lexer": "ipython3",
   "version": "3.6.13"
  },
  "toc": {
   "base_numbering": 1,
   "nav_menu": {},
   "number_sections": true,
   "sideBar": true,
   "skip_h1_title": true,
   "title_cell": "Table of Contents",
   "title_sidebar": "Contents",
   "toc_cell": true,
   "toc_position": {},
   "toc_section_display": true,
   "toc_window_display": false
  },
  "varInspector": {
   "cols": {
    "lenName": 16,
    "lenType": 16,
    "lenVar": 40
   },
   "kernels_config": {
    "python": {
     "delete_cmd_postfix": "",
     "delete_cmd_prefix": "del ",
     "library": "var_list.py",
     "varRefreshCmd": "print(var_dic_list())"
    },
    "r": {
     "delete_cmd_postfix": ") ",
     "delete_cmd_prefix": "rm(",
     "library": "var_list.r",
     "varRefreshCmd": "cat(var_dic_list()) "
    }
   },
   "types_to_exclude": [
    "module",
    "function",
    "builtin_function_or_method",
    "instance",
    "_Feature"
   ],
   "window_display": false
  }
 },
 "nbformat": 4,
 "nbformat_minor": 5
}
